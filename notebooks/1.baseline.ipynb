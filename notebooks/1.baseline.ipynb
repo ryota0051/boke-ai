{
 "cells": [
  {
   "cell_type": "code",
   "execution_count": 1,
   "id": "c2cf16b8-ea60-4aad-b35d-5350ad35f933",
   "metadata": {},
   "outputs": [],
   "source": [
    "import os\n",
    "import random\n",
    "from pathlib import Path\n",
    "import sys\n",
    "\n",
    "import numpy as np\n",
    "from sklearn.metrics import log_loss, accuracy_score\n",
    "from sklearn.model_selection import train_test_split\n",
    "from scipy.special import softmax\n",
    "from transformers import (\n",
    "    AutoTokenizer, Trainer, TrainingArguments,\n",
    ")\n",
    "from torchvision.models import ResNet152_Weights\n",
    "\n",
    "sys.path.append('../')\n",
    "from src.data.prepare import load_base_df\n",
    "from src.models.MMBT.dataset import (BokeTextImageDataset, collate_fn)\n",
    "from src.models.MMBT.mmbt import load_model\n",
    "from src.models.utils import fix_seed, plot_confusion_matrix"
   ]
  },
  {
   "cell_type": "code",
   "execution_count": 2,
   "id": "512dc8ab-db30-4997-86bb-05cf2e3e85ec",
   "metadata": {},
   "outputs": [],
   "source": [
    "SEED_SHUFFLE = 42\n",
    "SEED_TRAIN = 0"
   ]
  },
  {
   "cell_type": "markdown",
   "id": "00cb75fb-705d-40b9-ae30-0fc76f891059",
   "metadata": {},
   "source": [
    "## データ読み込み"
   ]
  },
  {
   "cell_type": "code",
   "execution_count": 3,
   "id": "69b32299-1528-4deb-b8b5-6ea88216d9ae",
   "metadata": {},
   "outputs": [],
   "source": [
    "train_df, test_df, submission_df = load_base_df('../dataset/csv/', '../dataset/imgs/')"
   ]
  },
  {
   "cell_type": "code",
   "execution_count": 4,
   "id": "bf8ac74b-8839-4afb-9a06-3c04b4e7092d",
   "metadata": {},
   "outputs": [
    {
     "name": "stdout",
     "output_type": "stream",
     "text": [
      "train_df.shape: (24962, 5)\n"
     ]
    },
    {
     "data": {
      "text/html": [
       "<div>\n",
       "<style scoped>\n",
       "    .dataframe tbody tr th:only-of-type {\n",
       "        vertical-align: middle;\n",
       "    }\n",
       "\n",
       "    .dataframe tbody tr th {\n",
       "        vertical-align: top;\n",
       "    }\n",
       "\n",
       "    .dataframe thead th {\n",
       "        text-align: right;\n",
       "    }\n",
       "</style>\n",
       "<table border=\"1\" class=\"dataframe\">\n",
       "  <thead>\n",
       "    <tr style=\"text-align: right;\">\n",
       "      <th></th>\n",
       "      <th>id</th>\n",
       "      <th>odai_photo_file_name</th>\n",
       "      <th>text</th>\n",
       "      <th>is_laugh</th>\n",
       "      <th>img_path</th>\n",
       "    </tr>\n",
       "  </thead>\n",
       "  <tbody>\n",
       "    <tr>\n",
       "      <th>0</th>\n",
       "      <td>ge5kssftl</td>\n",
       "      <td>9fkys1gb2r.jpg</td>\n",
       "      <td>君しょっちゅうソレ自慢するけど、ツムジ２個ってそんなに嬉しいのかい？</td>\n",
       "      <td>0</td>\n",
       "      <td>../dataset/imgs/train/9fkys1gb2r.jpg</td>\n",
       "    </tr>\n",
       "    <tr>\n",
       "      <th>1</th>\n",
       "      <td>r7sm6tvkj</td>\n",
       "      <td>c6ag0m1lak.jpg</td>\n",
       "      <td>これでバレない？授業中寝てもバレない？</td>\n",
       "      <td>0</td>\n",
       "      <td>../dataset/imgs/train/c6ag0m1lak.jpg</td>\n",
       "    </tr>\n",
       "    <tr>\n",
       "      <th>2</th>\n",
       "      <td>yp5aze0bh</td>\n",
       "      <td>whtn6gb9ww.jpg</td>\n",
       "      <td>「あなたも感じる？」\\n『ああ…、感じてる…』\\n「後ろに幽霊いるよね…」\\n『女のな…』</td>\n",
       "      <td>0</td>\n",
       "      <td>../dataset/imgs/train/whtn6gb9ww.jpg</td>\n",
       "    </tr>\n",
       "    <tr>\n",
       "      <th>3</th>\n",
       "      <td>ujaixzo56</td>\n",
       "      <td>6yk5cwmrsy.jpg</td>\n",
       "      <td>大塚愛聞いてたらお腹減った…さく、らんぼと牛タン食べたい…</td>\n",
       "      <td>0</td>\n",
       "      <td>../dataset/imgs/train/6yk5cwmrsy.jpg</td>\n",
       "    </tr>\n",
       "    <tr>\n",
       "      <th>4</th>\n",
       "      <td>7vkeveptl</td>\n",
       "      <td>0i9gsa2jsm.jpg</td>\n",
       "      <td>熊だと思ったら嫁だった</td>\n",
       "      <td>0</td>\n",
       "      <td>../dataset/imgs/train/0i9gsa2jsm.jpg</td>\n",
       "    </tr>\n",
       "  </tbody>\n",
       "</table>\n",
       "</div>"
      ],
      "text/plain": [
       "          id odai_photo_file_name  \\\n",
       "0  ge5kssftl       9fkys1gb2r.jpg   \n",
       "1  r7sm6tvkj       c6ag0m1lak.jpg   \n",
       "2  yp5aze0bh       whtn6gb9ww.jpg   \n",
       "3  ujaixzo56       6yk5cwmrsy.jpg   \n",
       "4  7vkeveptl       0i9gsa2jsm.jpg   \n",
       "\n",
       "                                            text  is_laugh  \\\n",
       "0             君しょっちゅうソレ自慢するけど、ツムジ２個ってそんなに嬉しいのかい？         0   \n",
       "1                            これでバレない？授業中寝てもバレない？         0   \n",
       "2  「あなたも感じる？」\\n『ああ…、感じてる…』\\n「後ろに幽霊いるよね…」\\n『女のな…』         0   \n",
       "3                 大塚愛聞いてたらお腹減った…さく、らんぼと牛タン食べたい…          0   \n",
       "4                                    熊だと思ったら嫁だった         0   \n",
       "\n",
       "                               img_path  \n",
       "0  ../dataset/imgs/train/9fkys1gb2r.jpg  \n",
       "1  ../dataset/imgs/train/c6ag0m1lak.jpg  \n",
       "2  ../dataset/imgs/train/whtn6gb9ww.jpg  \n",
       "3  ../dataset/imgs/train/6yk5cwmrsy.jpg  \n",
       "4  ../dataset/imgs/train/0i9gsa2jsm.jpg  "
      ]
     },
     "metadata": {},
     "output_type": "display_data"
    },
    {
     "name": "stdout",
     "output_type": "stream",
     "text": [
      "test_df.shape: (6000, 5)\n"
     ]
    },
    {
     "data": {
      "text/html": [
       "<div>\n",
       "<style scoped>\n",
       "    .dataframe tbody tr th:only-of-type {\n",
       "        vertical-align: middle;\n",
       "    }\n",
       "\n",
       "    .dataframe tbody tr th {\n",
       "        vertical-align: top;\n",
       "    }\n",
       "\n",
       "    .dataframe thead th {\n",
       "        text-align: right;\n",
       "    }\n",
       "</style>\n",
       "<table border=\"1\" class=\"dataframe\">\n",
       "  <thead>\n",
       "    <tr style=\"text-align: right;\">\n",
       "      <th></th>\n",
       "      <th>id</th>\n",
       "      <th>odai_photo_file_name</th>\n",
       "      <th>text</th>\n",
       "      <th>img_path</th>\n",
       "      <th>is_laugh</th>\n",
       "    </tr>\n",
       "  </thead>\n",
       "  <tbody>\n",
       "    <tr>\n",
       "      <th>0</th>\n",
       "      <td>rfdjcfsqq</td>\n",
       "      <td>nc1kez326b.jpg</td>\n",
       "      <td>僕のママ、キャラ弁のゆでたまごに８時間かかったんだ</td>\n",
       "      <td>../dataset/imgs/test/nc1kez326b.jpg</td>\n",
       "      <td>0</td>\n",
       "    </tr>\n",
       "    <tr>\n",
       "      <th>1</th>\n",
       "      <td>tsgqmfpef</td>\n",
       "      <td>49xt2fmjw0.jpg</td>\n",
       "      <td>かわいいが作れた！</td>\n",
       "      <td>../dataset/imgs/test/49xt2fmjw0.jpg</td>\n",
       "      <td>0</td>\n",
       "    </tr>\n",
       "    <tr>\n",
       "      <th>2</th>\n",
       "      <td>owjcthkz2</td>\n",
       "      <td>9dtscjmyfh.jpg</td>\n",
       "      <td>来世の志茂田景樹</td>\n",
       "      <td>../dataset/imgs/test/9dtscjmyfh.jpg</td>\n",
       "      <td>0</td>\n",
       "    </tr>\n",
       "    <tr>\n",
       "      <th>3</th>\n",
       "      <td>rvgaocjyy</td>\n",
       "      <td>osa3n56tiv.jpg</td>\n",
       "      <td>ちょ、あの、オカン、これ水風呂やねんけど、なんの冗談??</td>\n",
       "      <td>../dataset/imgs/test/osa3n56tiv.jpg</td>\n",
       "      <td>0</td>\n",
       "    </tr>\n",
       "    <tr>\n",
       "      <th>4</th>\n",
       "      <td>uxtwu5i69</td>\n",
       "      <td>yb1yqs4pvb.jpg</td>\n",
       "      <td>「今日は皆さんにザリガニと消防車の違いを知ってもらいたいと思います」『どっちも同じだろ。両方...</td>\n",
       "      <td>../dataset/imgs/test/yb1yqs4pvb.jpg</td>\n",
       "      <td>0</td>\n",
       "    </tr>\n",
       "  </tbody>\n",
       "</table>\n",
       "</div>"
      ],
      "text/plain": [
       "          id odai_photo_file_name  \\\n",
       "0  rfdjcfsqq       nc1kez326b.jpg   \n",
       "1  tsgqmfpef       49xt2fmjw0.jpg   \n",
       "2  owjcthkz2       9dtscjmyfh.jpg   \n",
       "3  rvgaocjyy       osa3n56tiv.jpg   \n",
       "4  uxtwu5i69       yb1yqs4pvb.jpg   \n",
       "\n",
       "                                                text  \\\n",
       "0                          僕のママ、キャラ弁のゆでたまごに８時間かかったんだ   \n",
       "1                                          かわいいが作れた！   \n",
       "2                                           来世の志茂田景樹   \n",
       "3                       ちょ、あの、オカン、これ水風呂やねんけど、なんの冗談??   \n",
       "4  「今日は皆さんにザリガニと消防車の違いを知ってもらいたいと思います」『どっちも同じだろ。両方...   \n",
       "\n",
       "                              img_path  is_laugh  \n",
       "0  ../dataset/imgs/test/nc1kez326b.jpg         0  \n",
       "1  ../dataset/imgs/test/49xt2fmjw0.jpg         0  \n",
       "2  ../dataset/imgs/test/9dtscjmyfh.jpg         0  \n",
       "3  ../dataset/imgs/test/osa3n56tiv.jpg         0  \n",
       "4  ../dataset/imgs/test/yb1yqs4pvb.jpg         0  "
      ]
     },
     "metadata": {},
     "output_type": "display_data"
    }
   ],
   "source": [
    "print(f'train_df.shape: {train_df.shape}')\n",
    "display(train_df.head())\n",
    "\n",
    "print(f'test_df.shape: {test_df.shape}')\n",
    "display(test_df.head())"
   ]
  },
  {
   "cell_type": "markdown",
   "id": "ba375167-84cf-41a0-bdba-79f80fc7783b",
   "metadata": {},
   "source": [
    "## データ準備, 学習"
   ]
  },
  {
   "cell_type": "code",
   "execution_count": 5,
   "id": "aee33878-7f20-4a54-8414-67b811d98fc4",
   "metadata": {},
   "outputs": [],
   "source": [
    "train_idx, valid_idx = train_test_split(list(range(len(train_df))), test_size=.2, random_state=SEED_SHUFFLE, stratify=train_df['is_laugh'])"
   ]
  },
  {
   "cell_type": "code",
   "execution_count": 6,
   "id": "7d71b356-3147-4db7-a8ed-90424cec4ec1",
   "metadata": {},
   "outputs": [],
   "source": [
    "MAX_SEQENCE_LEN = 48\n",
    "tokenizer = AutoTokenizer.from_pretrained(\"cl-tohoku/bert-base-japanese-whole-word-masking\")\n",
    "train_ds = BokeTextImageDataset(train_df.iloc[train_idx], tokenizer, MAX_SEQENCE_LEN, image_transform=ResNet152_Weights.IMAGENET1K_V2)\n",
    "valid_ds = BokeTextImageDataset(train_df.iloc[valid_idx], tokenizer, MAX_SEQENCE_LEN, image_transform=ResNet152_Weights.IMAGENET1K_V2)\n",
    "test_ds = BokeTextImageDataset(test_df, tokenizer, MAX_SEQENCE_LEN, image_transform=ResNet152_Weights.IMAGENET1K_V2)"
   ]
  },
  {
   "cell_type": "code",
   "execution_count": 7,
   "id": "cb90666f-75a5-42c3-89b6-f32b4ac88d3b",
   "metadata": {},
   "outputs": [
    {
     "name": "stderr",
     "output_type": "stream",
     "text": [
      "Some weights of the model checkpoint at cl-tohoku/bert-base-japanese-whole-word-masking were not used when initializing BertModel: ['cls.predictions.transform.dense.weight', 'cls.seq_relationship.bias', 'cls.predictions.decoder.weight', 'cls.seq_relationship.weight', 'cls.predictions.bias', 'cls.predictions.transform.LayerNorm.weight', 'cls.predictions.transform.dense.bias', 'cls.predictions.transform.LayerNorm.bias']\n",
      "- This IS expected if you are initializing BertModel from the checkpoint of a model trained on another task or with another architecture (e.g. initializing a BertForSequenceClassification model from a BertForPreTraining model).\n",
      "- This IS NOT expected if you are initializing BertModel from the checkpoint of a model that you expect to be exactly identical (initializing a BertForSequenceClassification model from a BertForSequenceClassification model).\n",
      "Using cuda_amp half precision backend\n",
      "/opt/conda/lib/python3.7/site-packages/transformers/optimization.py:310: FutureWarning: This implementation of AdamW is deprecated and will be removed in a future version. Use the PyTorch implementation torch.optim.AdamW instead, or set `no_deprecation_warning=True` to disable this warning\n",
      "  FutureWarning,\n",
      "***** Running training *****\n",
      "  Num examples = 19969\n",
      "  Num Epochs = 3\n",
      "  Instantaneous batch size per device = 8\n",
      "  Total train batch size (w. parallel, distributed & accumulation) = 160\n",
      "  Gradient Accumulation steps = 20\n",
      "  Total optimization steps = 372\n"
     ]
    },
    {
     "data": {
      "text/html": [
       "\n",
       "    <div>\n",
       "      \n",
       "      <progress value='372' max='372' style='width:300px; height:20px; vertical-align: middle;'></progress>\n",
       "      [372/372 32:42, Epoch 2/3]\n",
       "    </div>\n",
       "    <table border=\"1\" class=\"dataframe\">\n",
       "  <thead>\n",
       " <tr style=\"text-align: left;\">\n",
       "      <th>Step</th>\n",
       "      <th>Training Loss</th>\n",
       "      <th>Validation Loss</th>\n",
       "    </tr>\n",
       "  </thead>\n",
       "  <tbody>\n",
       "    <tr>\n",
       "      <td>25</td>\n",
       "      <td>0.690600</td>\n",
       "      <td>0.660162</td>\n",
       "    </tr>\n",
       "    <tr>\n",
       "      <td>50</td>\n",
       "      <td>0.663200</td>\n",
       "      <td>0.657856</td>\n",
       "    </tr>\n",
       "    <tr>\n",
       "      <td>75</td>\n",
       "      <td>0.658000</td>\n",
       "      <td>0.671017</td>\n",
       "    </tr>\n",
       "    <tr>\n",
       "      <td>100</td>\n",
       "      <td>0.652200</td>\n",
       "      <td>0.647973</td>\n",
       "    </tr>\n",
       "    <tr>\n",
       "      <td>125</td>\n",
       "      <td>0.676500</td>\n",
       "      <td>0.646846</td>\n",
       "    </tr>\n",
       "    <tr>\n",
       "      <td>150</td>\n",
       "      <td>0.630200</td>\n",
       "      <td>0.646744</td>\n",
       "    </tr>\n",
       "    <tr>\n",
       "      <td>175</td>\n",
       "      <td>0.620100</td>\n",
       "      <td>0.657836</td>\n",
       "    </tr>\n",
       "    <tr>\n",
       "      <td>200</td>\n",
       "      <td>0.607500</td>\n",
       "      <td>0.669254</td>\n",
       "    </tr>\n",
       "    <tr>\n",
       "      <td>225</td>\n",
       "      <td>0.621900</td>\n",
       "      <td>0.651430</td>\n",
       "    </tr>\n",
       "    <tr>\n",
       "      <td>250</td>\n",
       "      <td>0.625200</td>\n",
       "      <td>0.657130</td>\n",
       "    </tr>\n",
       "    <tr>\n",
       "      <td>275</td>\n",
       "      <td>0.534900</td>\n",
       "      <td>0.710127</td>\n",
       "    </tr>\n",
       "    <tr>\n",
       "      <td>300</td>\n",
       "      <td>0.536500</td>\n",
       "      <td>0.691447</td>\n",
       "    </tr>\n",
       "    <tr>\n",
       "      <td>325</td>\n",
       "      <td>0.532700</td>\n",
       "      <td>0.710779</td>\n",
       "    </tr>\n",
       "    <tr>\n",
       "      <td>350</td>\n",
       "      <td>0.510200</td>\n",
       "      <td>0.704156</td>\n",
       "    </tr>\n",
       "  </tbody>\n",
       "</table><p>"
      ],
      "text/plain": [
       "<IPython.core.display.HTML object>"
      ]
     },
     "metadata": {},
     "output_type": "display_data"
    },
    {
     "name": "stderr",
     "output_type": "stream",
     "text": [
      "***** Running Evaluation *****\n",
      "  Num examples = 4993\n",
      "  Batch size = 12\n",
      "Saving model checkpoint to ../model/mmbt_exp01/checkpoint-25\n",
      "Trainer.model is not a `PreTrainedModel`, only saving its state dict.\n",
      "tokenizer config file saved in ../model/mmbt_exp01/checkpoint-25/tokenizer_config.json\n",
      "Special tokens file saved in ../model/mmbt_exp01/checkpoint-25/special_tokens_map.json\n",
      "Deleting older checkpoint [../model/mmbt_exp01/checkpoint-100] due to args.save_total_limit\n",
      "Deleting older checkpoint [../model/mmbt_exp01/checkpoint-150] due to args.save_total_limit\n",
      "***** Running Evaluation *****\n",
      "  Num examples = 4993\n",
      "  Batch size = 12\n",
      "Saving model checkpoint to ../model/mmbt_exp01/checkpoint-50\n",
      "Trainer.model is not a `PreTrainedModel`, only saving its state dict.\n",
      "tokenizer config file saved in ../model/mmbt_exp01/checkpoint-50/tokenizer_config.json\n",
      "Special tokens file saved in ../model/mmbt_exp01/checkpoint-50/special_tokens_map.json\n",
      "Deleting older checkpoint [../model/mmbt_exp01/checkpoint-25] due to args.save_total_limit\n",
      "***** Running Evaluation *****\n",
      "  Num examples = 4993\n",
      "  Batch size = 12\n",
      "Saving model checkpoint to ../model/mmbt_exp01/checkpoint-75\n",
      "Trainer.model is not a `PreTrainedModel`, only saving its state dict.\n",
      "tokenizer config file saved in ../model/mmbt_exp01/checkpoint-75/tokenizer_config.json\n",
      "Special tokens file saved in ../model/mmbt_exp01/checkpoint-75/special_tokens_map.json\n",
      "***** Running Evaluation *****\n",
      "  Num examples = 4993\n",
      "  Batch size = 12\n",
      "Saving model checkpoint to ../model/mmbt_exp01/checkpoint-100\n",
      "Trainer.model is not a `PreTrainedModel`, only saving its state dict.\n",
      "tokenizer config file saved in ../model/mmbt_exp01/checkpoint-100/tokenizer_config.json\n",
      "Special tokens file saved in ../model/mmbt_exp01/checkpoint-100/special_tokens_map.json\n",
      "Deleting older checkpoint [../model/mmbt_exp01/checkpoint-50] due to args.save_total_limit\n",
      "Deleting older checkpoint [../model/mmbt_exp01/checkpoint-75] due to args.save_total_limit\n",
      "***** Running Evaluation *****\n",
      "  Num examples = 4993\n",
      "  Batch size = 12\n",
      "Saving model checkpoint to ../model/mmbt_exp01/checkpoint-125\n",
      "Trainer.model is not a `PreTrainedModel`, only saving its state dict.\n",
      "tokenizer config file saved in ../model/mmbt_exp01/checkpoint-125/tokenizer_config.json\n",
      "Special tokens file saved in ../model/mmbt_exp01/checkpoint-125/special_tokens_map.json\n",
      "Deleting older checkpoint [../model/mmbt_exp01/checkpoint-100] due to args.save_total_limit\n",
      "***** Running Evaluation *****\n",
      "  Num examples = 4993\n",
      "  Batch size = 12\n",
      "Saving model checkpoint to ../model/mmbt_exp01/checkpoint-150\n",
      "Trainer.model is not a `PreTrainedModel`, only saving its state dict.\n",
      "tokenizer config file saved in ../model/mmbt_exp01/checkpoint-150/tokenizer_config.json\n",
      "Special tokens file saved in ../model/mmbt_exp01/checkpoint-150/special_tokens_map.json\n",
      "Deleting older checkpoint [../model/mmbt_exp01/checkpoint-125] due to args.save_total_limit\n",
      "***** Running Evaluation *****\n",
      "  Num examples = 4993\n",
      "  Batch size = 12\n",
      "Saving model checkpoint to ../model/mmbt_exp01/checkpoint-175\n",
      "Trainer.model is not a `PreTrainedModel`, only saving its state dict.\n",
      "tokenizer config file saved in ../model/mmbt_exp01/checkpoint-175/tokenizer_config.json\n",
      "Special tokens file saved in ../model/mmbt_exp01/checkpoint-175/special_tokens_map.json\n",
      "***** Running Evaluation *****\n",
      "  Num examples = 4993\n",
      "  Batch size = 12\n",
      "Saving model checkpoint to ../model/mmbt_exp01/checkpoint-200\n",
      "Trainer.model is not a `PreTrainedModel`, only saving its state dict.\n",
      "tokenizer config file saved in ../model/mmbt_exp01/checkpoint-200/tokenizer_config.json\n",
      "Special tokens file saved in ../model/mmbt_exp01/checkpoint-200/special_tokens_map.json\n",
      "Deleting older checkpoint [../model/mmbt_exp01/checkpoint-175] due to args.save_total_limit\n",
      "***** Running Evaluation *****\n",
      "  Num examples = 4993\n",
      "  Batch size = 12\n",
      "Saving model checkpoint to ../model/mmbt_exp01/checkpoint-225\n",
      "Trainer.model is not a `PreTrainedModel`, only saving its state dict.\n",
      "tokenizer config file saved in ../model/mmbt_exp01/checkpoint-225/tokenizer_config.json\n",
      "Special tokens file saved in ../model/mmbt_exp01/checkpoint-225/special_tokens_map.json\n",
      "Deleting older checkpoint [../model/mmbt_exp01/checkpoint-200] due to args.save_total_limit\n",
      "***** Running Evaluation *****\n",
      "  Num examples = 4993\n",
      "  Batch size = 12\n",
      "Saving model checkpoint to ../model/mmbt_exp01/checkpoint-250\n",
      "Trainer.model is not a `PreTrainedModel`, only saving its state dict.\n",
      "tokenizer config file saved in ../model/mmbt_exp01/checkpoint-250/tokenizer_config.json\n",
      "Special tokens file saved in ../model/mmbt_exp01/checkpoint-250/special_tokens_map.json\n",
      "Deleting older checkpoint [../model/mmbt_exp01/checkpoint-225] due to args.save_total_limit\n",
      "***** Running Evaluation *****\n",
      "  Num examples = 4993\n",
      "  Batch size = 12\n",
      "Saving model checkpoint to ../model/mmbt_exp01/checkpoint-275\n",
      "Trainer.model is not a `PreTrainedModel`, only saving its state dict.\n",
      "tokenizer config file saved in ../model/mmbt_exp01/checkpoint-275/tokenizer_config.json\n",
      "Special tokens file saved in ../model/mmbt_exp01/checkpoint-275/special_tokens_map.json\n",
      "Deleting older checkpoint [../model/mmbt_exp01/checkpoint-250] due to args.save_total_limit\n",
      "***** Running Evaluation *****\n",
      "  Num examples = 4993\n",
      "  Batch size = 12\n",
      "Saving model checkpoint to ../model/mmbt_exp01/checkpoint-300\n",
      "Trainer.model is not a `PreTrainedModel`, only saving its state dict.\n",
      "tokenizer config file saved in ../model/mmbt_exp01/checkpoint-300/tokenizer_config.json\n",
      "Special tokens file saved in ../model/mmbt_exp01/checkpoint-300/special_tokens_map.json\n",
      "Deleting older checkpoint [../model/mmbt_exp01/checkpoint-275] due to args.save_total_limit\n",
      "***** Running Evaluation *****\n",
      "  Num examples = 4993\n",
      "  Batch size = 12\n",
      "Saving model checkpoint to ../model/mmbt_exp01/checkpoint-325\n",
      "Trainer.model is not a `PreTrainedModel`, only saving its state dict.\n",
      "tokenizer config file saved in ../model/mmbt_exp01/checkpoint-325/tokenizer_config.json\n",
      "Special tokens file saved in ../model/mmbt_exp01/checkpoint-325/special_tokens_map.json\n",
      "Deleting older checkpoint [../model/mmbt_exp01/checkpoint-300] due to args.save_total_limit\n",
      "***** Running Evaluation *****\n",
      "  Num examples = 4993\n",
      "  Batch size = 12\n",
      "Saving model checkpoint to ../model/mmbt_exp01/checkpoint-350\n",
      "Trainer.model is not a `PreTrainedModel`, only saving its state dict.\n",
      "tokenizer config file saved in ../model/mmbt_exp01/checkpoint-350/tokenizer_config.json\n",
      "Special tokens file saved in ../model/mmbt_exp01/checkpoint-350/special_tokens_map.json\n",
      "Deleting older checkpoint [../model/mmbt_exp01/checkpoint-325] due to args.save_total_limit\n",
      "\n",
      "\n",
      "Training completed. Do not forget to share your model on huggingface.co/models =)\n",
      "\n",
      "\n",
      "Loading best model from ../model/mmbt_exp01/checkpoint-150 (score: 0.6467435359954834).\n"
     ]
    },
    {
     "data": {
      "text/plain": [
       "TrainOutput(global_step=372, training_loss=0.6054682834174043, metrics={'train_runtime': 1966.7777, 'train_samples_per_second': 30.459, 'train_steps_per_second': 0.189, 'total_flos': 0.0, 'train_loss': 0.6054682834174043, 'epoch': 2.99})"
      ]
     },
     "execution_count": 7,
     "metadata": {},
     "output_type": "execute_result"
    }
   ],
   "source": [
    "# seed値の固定\n",
    "fix_seed(SEED_TRAIN)\n",
    "model = load_model()\n",
    "MODEL_DST = Path('../model/mmbt_exp01')\n",
    "EPOCHS = 3\n",
    "BATCH_SIZE = 8\n",
    "# BATCH_SIZEを1単位として、指定数分だけ勾配を貯めておき、その平均で勾配を更新する。\n",
    "# 以下、参考\n",
    "# - https://huggingface.co/docs/transformers/v4.22.1/en/main_classes/trainer#transformers.TrainingArguments\n",
    "# - https://qiita.com/cfiken/items/1de519e741cbbc09818c\n",
    "# - https://kozodoi.me/python/deep%20learning/pytorch/tutorial/2021/02/19/gradient-accumulation.html\n",
    "GRADIENT_ACCUMULATION_STEPS = 20\n",
    "SAVE_STEPS = 25\n",
    "trainer_args = TrainingArguments(\n",
    "    output_dir=str(MODEL_DST),\n",
    "    overwrite_output_dir=True,\n",
    "    do_train=True,\n",
    "    do_eval=True,\n",
    "    num_train_epochs=EPOCHS,\n",
    "    evaluation_strategy=\"steps\",\n",
    "    eval_steps=SAVE_STEPS,\n",
    "    save_strategy=\"steps\",\n",
    "    save_steps=SAVE_STEPS,\n",
    "    logging_steps=SAVE_STEPS,\n",
    "    per_device_train_batch_size=BATCH_SIZE,\n",
    "    per_device_eval_batch_size=12,\n",
    "    save_total_limit=1,\n",
    "    fp16=True,\n",
    "    remove_unused_columns=False,\n",
    "    gradient_accumulation_steps=GRADIENT_ACCUMULATION_STEPS,\n",
    "    load_best_model_at_end=True,\n",
    "    logging_dir='./logs',\n",
    "    report_to=\"none\"\n",
    ")\n",
    "\n",
    "trainer = Trainer(\n",
    "    model=model,\n",
    "    args=trainer_args,\n",
    "    tokenizer=tokenizer,\n",
    "    train_dataset=train_ds,\n",
    "    eval_dataset=valid_ds,\n",
    "    data_collator=collate_fn,\n",
    ")\n",
    "\n",
    "trainer.train()"
   ]
  },
  {
   "cell_type": "markdown",
   "id": "eab86a7f-28c7-49fd-8810-9b39038de856",
   "metadata": {},
   "source": [
    "## 評価"
   ]
  },
  {
   "cell_type": "code",
   "execution_count": 10,
   "id": "8a03dec5-e840-43d3-8226-5c33e6fb9505",
   "metadata": {},
   "outputs": [
    {
     "name": "stderr",
     "output_type": "stream",
     "text": [
      "***** Running Prediction *****\n",
      "  Num examples = 4993\n",
      "  Batch size = 12\n"
     ]
    },
    {
     "data": {
      "text/html": [],
      "text/plain": [
       "<IPython.core.display.HTML object>"
      ]
     },
     "metadata": {},
     "output_type": "display_data"
    },
    {
     "name": "stdout",
     "output_type": "stream",
     "text": [
      "log loss: 0.6466776020608539\n",
      "accuracy: 0.6238734227919087\n"
     ]
    }
   ],
   "source": [
    "# validationデータの予測値取得\n",
    "val_preds = trainer.predict(valid_ds).predictions\n",
    "# logg lossとaccuracy測定\n",
    "loss = log_loss(valid_ds.df[\"is_laugh\"].values, softmax(val_preds, axis=-1))\n",
    "acc = accuracy_score(valid_ds.df['is_laugh'].values, np.argmax(val_preds, axis=-1))\n",
    "print(f'log loss: {loss}')\n",
    "print(f'accuracy: {acc}')"
   ]
  },
  {
   "cell_type": "code",
   "execution_count": 11,
   "id": "9054ec2f-8684-4c25-92d1-38b0267b1f25",
   "metadata": {},
   "outputs": [
    {
     "data": {
      "image/png": "[encoded data removed]",
      "text/plain": [
       "<Figure size 576x576 with 2 Axes>"
      ]
     },
     "metadata": {
      "needs_background": "light"
     },
     "output_type": "display_data"
    }
   ],
   "source": [
    "# 混同行列描画\n",
    "plot_confusion_matrix(y_true=valid_ds.df['is_laugh'].values, y_pred=val_preds)"
   ]
  },
  {
   "cell_type": "markdown",
   "id": "36c8df0a-ba9a-472a-8838-3054798161d8",
   "metadata": {},
   "source": [
    "## テストデータの予測"
   ]
  },
  {
   "cell_type": "code",
   "execution_count": 12,
   "id": "ae026bbe-b021-4812-9d71-7378e5dc555d",
   "metadata": {},
   "outputs": [
    {
     "name": "stderr",
     "output_type": "stream",
     "text": [
      "***** Running Prediction *****\n",
      "  Num examples = 6000\n",
      "  Batch size = 12\n"
     ]
    },
    {
     "data": {
      "text/html": [],
      "text/plain": [
       "<IPython.core.display.HTML object>"
      ]
     },
     "metadata": {},
     "output_type": "display_data"
    }
   ],
   "source": [
    "y_pred = trainer.predict(test_ds).predictions"
   ]
  },
  {
   "cell_type": "code",
   "execution_count": 13,
   "id": "ae92eda9-30c2-4502-b491-175d275d8de8",
   "metadata": {},
   "outputs": [],
   "source": [
    "submission_df['is_laugh'] = softmax(y_pred, axis=1)[:, 1]\n",
    "submission_df[\"is_laugh\"] = submission_df[\"is_laugh\"].astype(float)"
   ]
  },
  {
   "cell_type": "code",
   "execution_count": 14,
   "id": "9d58f686-b22f-4266-b3de-76000dd0cd7a",
   "metadata": {},
   "outputs": [],
   "source": [
    "output = '../results/submission_baseline.csv'\n",
    "submission_df.to_csv(output, index=False)"
   ]
  },
  {
   "cell_type": "code",
   "execution_count": null,
   "id": "85a491cf-b470-481b-81f3-073ed3e4356a",
   "metadata": {},
   "outputs": [],
   "source": []
  }
 ],
 "metadata": {
  "kernelspec": {
   "display_name": "Python 3 (ipykernel)",
   "language": "python",
   "name": "python3"
  },
  "language_info": {
   "codemirror_mode": {
    "name": "ipython",
    "version": 3
   },
   "file_extension": ".py",
   "mimetype": "text/x-python",
   "name": "python",
   "nbconvert_exporter": "python",
   "pygments_lexer": "ipython3",
   "version": "3.7.13"
  },
  "vscode": {
   "interpreter": {
    "hash": "d4d1e4263499bec80672ea0156c357c1ee493ec2b1c70f0acce89fc37c4a6abe"
   }
  }
 },
 "nbformat": 4,
 "nbformat_minor": 5
}
