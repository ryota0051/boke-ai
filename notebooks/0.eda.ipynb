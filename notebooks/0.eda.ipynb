{
 "cells": [
  {
   "cell_type": "code",
   "execution_count": 48,
   "id": "d6281dad-6286-4e2a-90f8-a90ede9e4db3",
   "metadata": {},
   "outputs": [
    {
     "name": "stdout",
     "output_type": "stream",
     "text": [
      "Collecting japanize-matplotlib\n",
      "  Downloading japanize-matplotlib-1.1.3.tar.gz (4.1 MB)\n",
      "\u001b[2K     \u001b[90m━━━━━━━━━━━━━━━━━━━━━━━━━━━━━━━━━━━━━━━━\u001b[0m \u001b[32m4.1/4.1 MB\u001b[0m \u001b[31m39.7 MB/s\u001b[0m eta \u001b[36m0:00:00\u001b[0ma \u001b[36m0:00:01\u001b[0m\n",
      "\u001b[?25h  Preparing metadata (setup.py) ... \u001b[?25ldone\n",
      "\u001b[?25hRequirement already satisfied: matplotlib in /opt/conda/lib/python3.7/site-packages (from japanize-matplotlib) (3.5.3)\n",
      "Requirement already satisfied: kiwisolver>=1.0.1 in /opt/conda/lib/python3.7/site-packages (from matplotlib->japanize-matplotlib) (1.4.4)\n",
      "Requirement already satisfied: fonttools>=4.22.0 in /opt/conda/lib/python3.7/site-packages (from matplotlib->japanize-matplotlib) (4.37.3)\n",
      "Requirement already satisfied: pyparsing>=2.2.1 in /opt/conda/lib/python3.7/site-packages (from matplotlib->japanize-matplotlib) (3.0.9)\n",
      "Requirement already satisfied: pillow>=6.2.0 in /opt/conda/lib/python3.7/site-packages (from matplotlib->japanize-matplotlib) (9.0.1)\n",
      "Requirement already satisfied: numpy>=1.17 in /opt/conda/lib/python3.7/site-packages (from matplotlib->japanize-matplotlib) (1.21.5)\n",
      "Requirement already satisfied: python-dateutil>=2.7 in /opt/conda/lib/python3.7/site-packages (from matplotlib->japanize-matplotlib) (2.8.2)\n",
      "Requirement already satisfied: cycler>=0.10 in /opt/conda/lib/python3.7/site-packages (from matplotlib->japanize-matplotlib) (0.11.0)\n",
      "Requirement already satisfied: packaging>=20.0 in /opt/conda/lib/python3.7/site-packages (from matplotlib->japanize-matplotlib) (21.3)\n",
      "Requirement already satisfied: typing-extensions in /opt/conda/lib/python3.7/site-packages (from kiwisolver>=1.0.1->matplotlib->japanize-matplotlib) (4.1.1)\n",
      "Requirement already satisfied: six>=1.5 in /opt/conda/lib/python3.7/site-packages (from python-dateutil>=2.7->matplotlib->japanize-matplotlib) (1.16.0)\n",
      "Building wheels for collected packages: japanize-matplotlib\n",
      "  Building wheel for japanize-matplotlib (setup.py) ... \u001b[?25ldone\n",
      "\u001b[?25h  Created wheel for japanize-matplotlib: filename=japanize_matplotlib-1.1.3-py3-none-any.whl size=4120275 sha256=0675346bab02694c278ec3491c1fce319356c8c809b267af573bc2cff09d4e56\n",
      "  Stored in directory: /root/.cache/pip/wheels/83/97/6b/e9e0cde099cc40f972b8dd23367308f7705ae06cd6d4714658\n",
      "Successfully built japanize-matplotlib\n",
      "Installing collected packages: japanize-matplotlib\n",
      "Successfully installed japanize-matplotlib-1.1.3\n",
      "\u001b[33mWARNING: Running pip as the 'root' user can result in broken permissions and conflicting behaviour with the system package manager. It is recommended to use a virtual environment instead: https://pip.pypa.io/warnings/venv\u001b[0m\u001b[33m\n",
      "\u001b[0m"
     ]
    }
   ],
   "source": [
    "!pip install japanize-matplotlib"
   ]
  },
  {
   "cell_type": "code",
   "execution_count": 1,
   "id": "3391ca00-597e-4d35-adb6-1e1821de9bdc",
   "metadata": {},
   "outputs": [],
   "source": [
    "import os\n",
    "import random\n",
    "from pathlib import Path\n",
    "import sys\n",
    "\n",
    "import cv2\n",
    "import numpy as np\n",
    "import pandas as pd\n",
    "from transformers import (\n",
    "    AutoTokenizer, AutoModel, MMBTForClassification, MMBTConfig, AutoConfig,\n",
    "    Trainer, TrainingArguments,\n",
    ")\n",
    "import transformers\n",
    "from torchvision.io import read_image\n",
    "from torchvision.models import ResNet152_Weights, resnet152\n",
    "from matplotlib import pyplot as plt\n",
    "import japanize_matplotlib\n",
    "import seaborn as sns\n",
    "from tqdm import tqdm\n",
    "import warnings\n",
    "warnings.simplefilter('ignore', UserWarning)\n",
    "\n",
    "sys.path.append('../')\n",
    "from src.data.prepare import load_base_df"
   ]
  },
  {
   "cell_type": "code",
   "execution_count": 2,
   "id": "c6ed810f-0e09-4160-8525-c225c3f38a31",
   "metadata": {},
   "outputs": [],
   "source": [
    "# データのロード\n",
    "train_df, test_df, submission_df = load_base_df('../dataset/csv/', '../dataset/imgs/')"
   ]
  },
  {
   "cell_type": "markdown",
   "id": "6141245a-6723-46ca-b7ee-1c9963c8d040",
   "metadata": {},
   "source": [
    "## 学習用データのラベル分布確認"
   ]
  },
  {
   "cell_type": "code",
   "execution_count": 5,
   "id": "f72038eb-f096-4bf5-97dd-72eccadae6d5",
   "metadata": {},
   "outputs": [
    {
     "data": {
      "image/png": "[encoded data removed]",
      "text/plain": [
       "<Figure size 432x288 with 1 Axes>"
      ]
     },
     "metadata": {
      "needs_background": "light"
     },
     "output_type": "display_data"
    }
   ],
   "source": [
    "sns.countplot(data=train_df, x='is_laugh')\n",
    "plt.show()"
   ]
  },
  {
   "cell_type": "markdown",
   "id": "6474f3e2-85f4-48ac-b33e-c7b60cc1717e",
   "metadata": {},
   "source": [
    "## テキスト長分布確認"
   ]
  },
  {
   "cell_type": "code",
   "execution_count": 7,
   "id": "ad01b96d-2bd5-43a0-8947-bdb324136568",
   "metadata": {},
   "outputs": [
    {
     "data": {
      "text/plain": [
       "<AxesSubplot:xlabel='is_laugh', ylabel='text_len'>"
      ]
     },
     "execution_count": 7,
     "metadata": {},
     "output_type": "execute_result"
    },
    {
     "data": {
      "image/png": "[encoded data removed]",
      "text/plain": [
       "<Figure size 432x288 with 1 Axes>"
      ]
     },
     "metadata": {
      "needs_background": "light"
     },
     "output_type": "display_data"
    }
   ],
   "source": [
    "# 文章長の分布確認\n",
    "train_df['text_len'] = train_df['text'].str.len()\n",
    "sns.boxplot(data=train_df, x='is_laugh', y='text_len')"
   ]
  },
  {
   "cell_type": "code",
   "execution_count": 38,
   "id": "204f244c-2402-4356-80dd-fba6d357e83c",
   "metadata": {},
   "outputs": [
    {
     "data": {
      "text/plain": [
       "<AxesSubplot:xlabel='is_laugh', ylabel='encoded_seq_len'>"
      ]
     },
     "execution_count": 38,
     "metadata": {},
     "output_type": "execute_result"
    },
    {
     "data": {
      "image/png": "[encoded data removed]",
      "text/plain": [
       "<Figure size 432x288 with 1 Axes>"
      ]
     },
     "metadata": {
      "needs_background": "light"
     },
     "output_type": "display_data"
    }
   ],
   "source": [
    "# tokenizerによるtoken長の分布確認\n",
    "tokenizer = AutoTokenizer.from_pretrained(\"cl-tohoku/bert-base-japanese-whole-word-masking\")\n",
    "encoded_len_list = []\n",
    "for _, row in train_df.iterrows():\n",
    "    encoded = tokenizer.encode(row['text'])\n",
    "    encoded_len_list.append(len(encoded))\n",
    "train_df['encoded_seq_len'] = encoded_len_list\n",
    "sns.boxplot(data=train_df, x='is_laugh', y='encoded_seq_len')"
   ]
  },
  {
   "cell_type": "markdown",
   "id": "6078e776-d1a2-49c1-bc59-47e38c5a8af6",
   "metadata": {},
   "source": [
    "## 画像にテキスト貼り付け"
   ]
  },
  {
   "cell_type": "code",
   "execution_count": 3,
   "id": "66f078e3-ed12-4525-b7a6-c5c843fbdc62",
   "metadata": {},
   "outputs": [],
   "source": [
    "def show_or_save_fig(img, txt=None, dst=None):\n",
    "    plt.imshow(cv2.cvtColor(img, cv2.COLOR_BGR2RGB))\n",
    "    if txt:\n",
    "        plt.title(txt)\n",
    "    if not dst:\n",
    "        plt.show()\n",
    "    else:\n",
    "        plt.tight_layout()\n",
    "        plt.savefig(dst, bbox_inches='tight')\n",
    "        plt.cla()\n",
    "        plt.clf()\n",
    "        plt.close('all')"
   ]
  },
  {
   "cell_type": "code",
   "execution_count": 4,
   "id": "269a3fb4-6350-45af-9f82-b0e3c28f4ef7",
   "metadata": {},
   "outputs": [],
   "source": [
    "DST_DIR = Path('../plots/dataset_with_txt')\n",
    "TRAIN_DST_DIR = DST_DIR / 'train'\n",
    "TEST_DST_DIR = DST_DIR / 'test'"
   ]
  },
  {
   "cell_type": "code",
   "execution_count": 4,
   "id": "4544ee67-c085-48c6-a827-5c1dd108fe04",
   "metadata": {},
   "outputs": [
    {
     "name": "stderr",
     "output_type": "stream",
     "text": [
      " 64% 15890/24962 [37:44<24:15,  6.23it/s] Font 'rm' does not have a glyph for '\\u52dd' [U+52dd], substituting with a dummy symbol.\n",
      "Font 'rm' does not have a glyph for '\\u8ca0' [U+8ca0], substituting with a dummy symbol.\n",
      "Font 'rm' does not have a glyph for '\\u3067' [U+3067], substituting with a dummy symbol.\n",
      "Font 'rm' does not have a glyph for '\\u56de' [U+56de], substituting with a dummy symbol.\n",
      "Font 'rm' does not have a glyph for '\\u52dd' [U+52dd], substituting with a dummy symbol.\n",
      "Font 'rm' does not have a glyph for '\\u8ca0' [U+8ca0], substituting with a dummy symbol.\n",
      "Font 'rm' does not have a glyph for '\\u3067' [U+3067], substituting with a dummy symbol.\n",
      "Font 'rm' does not have a glyph for '\\u56de' [U+56de], substituting with a dummy symbol.\n",
      "Font 'rm' does not have a glyph for '\\u52dd' [U+52dd], substituting with a dummy symbol.\n",
      "Font 'rm' does not have a glyph for '\\u8ca0' [U+8ca0], substituting with a dummy symbol.\n",
      "Font 'rm' does not have a glyph for '\\u3067' [U+3067], substituting with a dummy symbol.\n",
      "Font 'rm' does not have a glyph for '\\u56de' [U+56de], substituting with a dummy symbol.\n",
      "100% 24962/24962 [58:46<00:00,  7.08it/s]\n"
     ]
    }
   ],
   "source": [
    "for _, row in tqdm(train_df.iterrows(), total=len(train_df)):\n",
    "    img = cv2.imread(row['img_path'])\n",
    "    save_file_name = row['odai_photo_file_name']\n",
    "    dst_dir = TRAIN_DST_DIR / 'laugh' if row['is_laugh'] else TRAIN_DST_DIR / 'not_laugh'\n",
    "    if not dst_dir.exists():\n",
    "        dst_dir.mkdir(parents=True)\n",
    "    dst = dst_dir / save_file_name\n",
    "    if dst.exists():\n",
    "        continue\n",
    "    txt = f\"{row['text']}({row['is_laugh']})\"\n",
    "    show_or_save_fig(img, txt, dst)"
   ]
  },
  {
   "cell_type": "code",
   "execution_count": 7,
   "id": "9624c6d9-6ee4-403f-bef2-13a61204d365",
   "metadata": {},
   "outputs": [
    {
     "name": "stderr",
     "output_type": "stream",
     "text": [
      "100% 6000/6000 [14:14<00:00,  7.02it/s]\n"
     ]
    }
   ],
   "source": [
    "for _, row in tqdm(test_df.iterrows(), total=len(test_df)):\n",
    "    img = cv2.imread(row['img_path'])\n",
    "    save_file_name = row['odai_photo_file_name']\n",
    "    if not TEST_DST_DIR.exists():\n",
    "        TEST_DST_DIR.mkdir(parents=True)\n",
    "    dst = TEST_DST_DIR / save_file_name\n",
    "    if dst.exists():\n",
    "        continue\n",
    "    txt = row['text']\n",
    "    show_or_save_fig(img, txt, dst)"
   ]
  },
  {
   "cell_type": "code",
   "execution_count": null,
   "id": "f4e2c3d5-ff7d-471f-b90b-f19508255d3c",
   "metadata": {},
   "outputs": [],
   "source": []
  }
 ],
 "metadata": {
  "kernelspec": {
   "display_name": "Python 3 (ipykernel)",
   "language": "python",
   "name": "python3"
  },
  "language_info": {
   "codemirror_mode": {
    "name": "ipython",
    "version": 3
   },
   "file_extension": ".py",
   "mimetype": "text/x-python",
   "name": "python",
   "nbconvert_exporter": "python",
   "pygments_lexer": "ipython3",
   "version": "3.7.13"
  }
 },
 "nbformat": 4,
 "nbformat_minor": 5
}
