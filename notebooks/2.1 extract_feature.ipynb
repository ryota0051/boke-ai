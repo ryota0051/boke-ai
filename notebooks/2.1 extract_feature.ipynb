{
 "cells": [
  {
   "cell_type": "code",
   "execution_count": 1,
   "id": "c2cf16b8-ea60-4aad-b35d-5350ad35f933",
   "metadata": {},
   "outputs": [],
   "source": [
    "import os\n",
    "import random\n",
    "from pathlib import Path\n",
    "from collections import defaultdict\n",
    "import sys\n",
    "import json\n",
    "\n",
    "import yaml\n",
    "import numpy as np\n",
    "import pandas as pd\n",
    "import cv2\n",
    "import spacy\n",
    "from tqdm.auto import tqdm\n",
    "from sklearn.model_selection import train_test_split\n",
    "from sklearn.metrics import log_loss, accuracy_score\n",
    "from sklearn.model_selection import train_test_split\n",
    "from sklearn.metrics import confusion_matrix\n",
    "from sklearn.preprocessing import MinMaxScaler\n",
    "from sklearn.feature_extraction.text import TfidfVectorizer\n",
    "from scipy.special import softmax\n",
    "from torch.utils.data import Dataset, DataLoader\n",
    "import japanese_clip as ja_clip\n",
    "from transformers import AutoTokenizer\n",
    "from matplotlib import pyplot as plt\n",
    "import seaborn as sns\n",
    "import torch\n",
    "from PIL import Image\n",
    "from torchvision.models import ResNet152_Weights\n",
    "from umap import UMAP\n",
    "import MeCab\n",
    "\n",
    "sys.path.append('../')\n",
    "from src.data.prepare import load_base_df\n",
    "from src.models.MMBT.dataset import (BokeTextImageDataset, collate_fn)\n",
    "from src.models.MMBT.mmbt import load_model\n",
    "from src.models.utils import fix_seed, plot_confusion_matrix\n",
    "\n",
    "MAX_SEQENCE_LEN = 48"
   ]
  },
  {
   "cell_type": "markdown",
   "id": "00cb75fb-705d-40b9-ae30-0fc76f891059",
   "metadata": {},
   "source": [
    "## データ読み込み"
   ]
  },
  {
   "cell_type": "code",
   "execution_count": 2,
   "id": "a68952d1-cda3-471f-ab06-66d70e1f2fe9",
   "metadata": {},
   "outputs": [],
   "source": [
    "train_df, test_df, submission_df = load_base_df('../dataset/csv/', '../dataset/imgs/')"
   ]
  },
  {
   "cell_type": "code",
   "execution_count": 3,
   "id": "02b74e68-c82d-44c0-9b30-41dab70e4795",
   "metadata": {},
   "outputs": [
    {
     "name": "stdout",
     "output_type": "stream",
     "text": [
      "train_df.shape: (24962, 5)\n"
     ]
    },
    {
     "data": {
      "text/html": [
       "<div>\n",
       "<style scoped>\n",
       "    .dataframe tbody tr th:only-of-type {\n",
       "        vertical-align: middle;\n",
       "    }\n",
       "\n",
       "    .dataframe tbody tr th {\n",
       "        vertical-align: top;\n",
       "    }\n",
       "\n",
       "    .dataframe thead th {\n",
       "        text-align: right;\n",
       "    }\n",
       "</style>\n",
       "<table border=\"1\" class=\"dataframe\">\n",
       "  <thead>\n",
       "    <tr style=\"text-align: right;\">\n",
       "      <th></th>\n",
       "      <th>id</th>\n",
       "      <th>odai_photo_file_name</th>\n",
       "      <th>text</th>\n",
       "      <th>is_laugh</th>\n",
       "      <th>img_path</th>\n",
       "    </tr>\n",
       "  </thead>\n",
       "  <tbody>\n",
       "    <tr>\n",
       "      <th>0</th>\n",
       "      <td>ge5kssftl</td>\n",
       "      <td>9fkys1gb2r.jpg</td>\n",
       "      <td>君しょっちゅうソレ自慢するけど、ツムジ２個ってそんなに嬉しいのかい？</td>\n",
       "      <td>0</td>\n",
       "      <td>../dataset/imgs/train/9fkys1gb2r.jpg</td>\n",
       "    </tr>\n",
       "    <tr>\n",
       "      <th>1</th>\n",
       "      <td>r7sm6tvkj</td>\n",
       "      <td>c6ag0m1lak.jpg</td>\n",
       "      <td>これでバレない？授業中寝てもバレない？</td>\n",
       "      <td>0</td>\n",
       "      <td>../dataset/imgs/train/c6ag0m1lak.jpg</td>\n",
       "    </tr>\n",
       "    <tr>\n",
       "      <th>2</th>\n",
       "      <td>yp5aze0bh</td>\n",
       "      <td>whtn6gb9ww.jpg</td>\n",
       "      <td>「あなたも感じる？」\\n『ああ…、感じてる…』\\n「後ろに幽霊いるよね…」\\n『女のな…』</td>\n",
       "      <td>0</td>\n",
       "      <td>../dataset/imgs/train/whtn6gb9ww.jpg</td>\n",
       "    </tr>\n",
       "    <tr>\n",
       "      <th>3</th>\n",
       "      <td>ujaixzo56</td>\n",
       "      <td>6yk5cwmrsy.jpg</td>\n",
       "      <td>大塚愛聞いてたらお腹減った…さく、らんぼと牛タン食べたい…</td>\n",
       "      <td>0</td>\n",
       "      <td>../dataset/imgs/train/6yk5cwmrsy.jpg</td>\n",
       "    </tr>\n",
       "    <tr>\n",
       "      <th>4</th>\n",
       "      <td>7vkeveptl</td>\n",
       "      <td>0i9gsa2jsm.jpg</td>\n",
       "      <td>熊だと思ったら嫁だった</td>\n",
       "      <td>0</td>\n",
       "      <td>../dataset/imgs/train/0i9gsa2jsm.jpg</td>\n",
       "    </tr>\n",
       "  </tbody>\n",
       "</table>\n",
       "</div>"
      ],
      "text/plain": [
       "          id odai_photo_file_name  \\\n",
       "0  ge5kssftl       9fkys1gb2r.jpg   \n",
       "1  r7sm6tvkj       c6ag0m1lak.jpg   \n",
       "2  yp5aze0bh       whtn6gb9ww.jpg   \n",
       "3  ujaixzo56       6yk5cwmrsy.jpg   \n",
       "4  7vkeveptl       0i9gsa2jsm.jpg   \n",
       "\n",
       "                                            text  is_laugh  \\\n",
       "0             君しょっちゅうソレ自慢するけど、ツムジ２個ってそんなに嬉しいのかい？         0   \n",
       "1                            これでバレない？授業中寝てもバレない？         0   \n",
       "2  「あなたも感じる？」\\n『ああ…、感じてる…』\\n「後ろに幽霊いるよね…」\\n『女のな…』         0   \n",
       "3                 大塚愛聞いてたらお腹減った…さく、らんぼと牛タン食べたい…          0   \n",
       "4                                    熊だと思ったら嫁だった         0   \n",
       "\n",
       "                               img_path  \n",
       "0  ../dataset/imgs/train/9fkys1gb2r.jpg  \n",
       "1  ../dataset/imgs/train/c6ag0m1lak.jpg  \n",
       "2  ../dataset/imgs/train/whtn6gb9ww.jpg  \n",
       "3  ../dataset/imgs/train/6yk5cwmrsy.jpg  \n",
       "4  ../dataset/imgs/train/0i9gsa2jsm.jpg  "
      ]
     },
     "metadata": {},
     "output_type": "display_data"
    },
    {
     "name": "stdout",
     "output_type": "stream",
     "text": [
      "test_df.shape: (6000, 5)\n"
     ]
    },
    {
     "data": {
      "text/html": [
       "<div>\n",
       "<style scoped>\n",
       "    .dataframe tbody tr th:only-of-type {\n",
       "        vertical-align: middle;\n",
       "    }\n",
       "\n",
       "    .dataframe tbody tr th {\n",
       "        vertical-align: top;\n",
       "    }\n",
       "\n",
       "    .dataframe thead th {\n",
       "        text-align: right;\n",
       "    }\n",
       "</style>\n",
       "<table border=\"1\" class=\"dataframe\">\n",
       "  <thead>\n",
       "    <tr style=\"text-align: right;\">\n",
       "      <th></th>\n",
       "      <th>id</th>\n",
       "      <th>odai_photo_file_name</th>\n",
       "      <th>text</th>\n",
       "      <th>img_path</th>\n",
       "      <th>is_laugh</th>\n",
       "    </tr>\n",
       "  </thead>\n",
       "  <tbody>\n",
       "    <tr>\n",
       "      <th>0</th>\n",
       "      <td>rfdjcfsqq</td>\n",
       "      <td>nc1kez326b.jpg</td>\n",
       "      <td>僕のママ、キャラ弁のゆでたまごに８時間かかったんだ</td>\n",
       "      <td>../dataset/imgs/test/nc1kez326b.jpg</td>\n",
       "      <td>0</td>\n",
       "    </tr>\n",
       "    <tr>\n",
       "      <th>1</th>\n",
       "      <td>tsgqmfpef</td>\n",
       "      <td>49xt2fmjw0.jpg</td>\n",
       "      <td>かわいいが作れた！</td>\n",
       "      <td>../dataset/imgs/test/49xt2fmjw0.jpg</td>\n",
       "      <td>0</td>\n",
       "    </tr>\n",
       "    <tr>\n",
       "      <th>2</th>\n",
       "      <td>owjcthkz2</td>\n",
       "      <td>9dtscjmyfh.jpg</td>\n",
       "      <td>来世の志茂田景樹</td>\n",
       "      <td>../dataset/imgs/test/9dtscjmyfh.jpg</td>\n",
       "      <td>0</td>\n",
       "    </tr>\n",
       "    <tr>\n",
       "      <th>3</th>\n",
       "      <td>rvgaocjyy</td>\n",
       "      <td>osa3n56tiv.jpg</td>\n",
       "      <td>ちょ、あの、オカン、これ水風呂やねんけど、なんの冗談??</td>\n",
       "      <td>../dataset/imgs/test/osa3n56tiv.jpg</td>\n",
       "      <td>0</td>\n",
       "    </tr>\n",
       "    <tr>\n",
       "      <th>4</th>\n",
       "      <td>uxtwu5i69</td>\n",
       "      <td>yb1yqs4pvb.jpg</td>\n",
       "      <td>「今日は皆さんにザリガニと消防車の違いを知ってもらいたいと思います」『どっちも同じだろ。両方...</td>\n",
       "      <td>../dataset/imgs/test/yb1yqs4pvb.jpg</td>\n",
       "      <td>0</td>\n",
       "    </tr>\n",
       "  </tbody>\n",
       "</table>\n",
       "</div>"
      ],
      "text/plain": [
       "          id odai_photo_file_name  \\\n",
       "0  rfdjcfsqq       nc1kez326b.jpg   \n",
       "1  tsgqmfpef       49xt2fmjw0.jpg   \n",
       "2  owjcthkz2       9dtscjmyfh.jpg   \n",
       "3  rvgaocjyy       osa3n56tiv.jpg   \n",
       "4  uxtwu5i69       yb1yqs4pvb.jpg   \n",
       "\n",
       "                                                text  \\\n",
       "0                          僕のママ、キャラ弁のゆでたまごに８時間かかったんだ   \n",
       "1                                          かわいいが作れた！   \n",
       "2                                           来世の志茂田景樹   \n",
       "3                       ちょ、あの、オカン、これ水風呂やねんけど、なんの冗談??   \n",
       "4  「今日は皆さんにザリガニと消防車の違いを知ってもらいたいと思います」『どっちも同じだろ。両方...   \n",
       "\n",
       "                              img_path  is_laugh  \n",
       "0  ../dataset/imgs/test/nc1kez326b.jpg         0  \n",
       "1  ../dataset/imgs/test/49xt2fmjw0.jpg         0  \n",
       "2  ../dataset/imgs/test/9dtscjmyfh.jpg         0  \n",
       "3  ../dataset/imgs/test/osa3n56tiv.jpg         0  \n",
       "4  ../dataset/imgs/test/yb1yqs4pvb.jpg         0  "
      ]
     },
     "metadata": {},
     "output_type": "display_data"
    }
   ],
   "source": [
    "print(f'train_df.shape: {train_df.shape}')\n",
    "display(train_df.head())\n",
    "\n",
    "print(f'test_df.shape: {test_df.shape}')\n",
    "display(test_df.head())"
   ]
  },
  {
   "cell_type": "markdown",
   "id": "8758334c-c466-48b5-8bca-9f1fdf813445",
   "metadata": {},
   "source": [
    "## 特徴量抽出"
   ]
  },
  {
   "cell_type": "markdown",
   "id": "9f11f5ed-b3a0-4427-bbb4-c2b92525636c",
   "metadata": {},
   "source": [
    "### MMBTの中間層の特徴量抽出\n",
    "\n",
    "以下のディレクトリ構成で保存する。\n",
    "\n",
    "```\n",
    "./dataset\n",
    "    |_EXPERIMENT_NAME (MMBTなどのモデル学習時の実験名)\n",
    "        |-1_fold (k-foldそれぞれにおいて作成されたモデル)\n",
    "        |  |- train.csv (1 fold目の学習に使用されたデータのベクトル。 こちらでパラメータチューニング, 最終的なモデル作成を実施)\n",
    "        |  |- valid.csv (1 fold目の検証に使用されたデータのベクトル。 train.csvで最終的なモデルを作成し、こちらで評価)\n",
    "        |  |_ test.csv (結果出力用)\n",
    "        |\n",
    "        :\n",
    "        |_k_fold　(1_foldと同じ構成)\n",
    "```\n",
    "\n",
    "学習の流れとしては、下記を想定\n",
    "\n",
    "foldごとに以下を実施\n",
    "\n",
    "1. csvに他の特徴量を付与。 ex. text長, 文章中の人物名の数, 画像中の犬と猫の数, 人の数 など。\n",
    "\n",
    "2. ハイパーパラメータチューニング(train.csvでcross validationして決める)\n",
    "\n",
    "3. モデル最終化(チューニングしたハイパーパラメータでtrain.csvのデータで学習し、valid.csvでlossなどの評価指標取得。)\n",
    "\n",
    "4. test.csvを予測\n",
    "\n",
    "その後、モデルごとのtest.csvの予測結果の平均を提出\n"
   ]
  },
  {
   "cell_type": "code",
   "execution_count": 4,
   "id": "2ff8672d-7c4a-47bc-8df0-502fbe595b19",
   "metadata": {},
   "outputs": [],
   "source": [
    "def vectorize_ds(model, dataloader, device):\n",
    "    model = model.to(device)\n",
    "    vector = []\n",
    "    for ds in tqdm(dataloader):\n",
    "        ds = {k: v.to(device) for k, v in ds.items()}\n",
    "        with torch.no_grad():\n",
    "            # 最終隠れ層の始まりの文字のベクトルを取得して、特徴量として用いる。\n",
    "            hidden_states = model(**ds).hidden_states[-1][:, 0]\n",
    "            # numpy arrayにする。\n",
    "            hidden_states = hidden_states.cpu().detach().numpy() if torch.cuda.is_available() else hidden_states.cpu().numpy()\n",
    "            vector.append(hidden_states)\n",
    "    return np.concatenate(vector)\n",
    "\n",
    "\n",
    "def load_validate_model(src):\n",
    "    model = load_model(output_hidden_states=True)\n",
    "    model.load_state_dict(torch.load(src))\n",
    "    return model"
   ]
  },
  {
   "cell_type": "code",
   "execution_count": 5,
   "id": "006c5690-fdee-49e4-8456-5a8c5a9911ac",
   "metadata": {
    "tags": []
   },
   "outputs": [
    {
     "name": "stderr",
     "output_type": "stream",
     "text": [
      "Some weights of the model checkpoint at cl-tohoku/bert-base-japanese-whole-word-masking were not used when initializing BertModel: ['cls.predictions.decoder.weight', 'cls.seq_relationship.weight', 'cls.seq_relationship.bias', 'cls.predictions.transform.dense.bias', 'cls.predictions.transform.LayerNorm.bias', 'cls.predictions.bias', 'cls.predictions.transform.LayerNorm.weight', 'cls.predictions.transform.dense.weight']\n",
      "- This IS expected if you are initializing BertModel from the checkpoint of a model trained on another task or with another architecture (e.g. initializing a BertForSequenceClassification model from a BertForPreTraining model).\n",
      "- This IS NOT expected if you are initializing BertModel from the checkpoint of a model that you expect to be exactly identical (initializing a BertForSequenceClassification model from a BertForSequenceClassification model).\n"
     ]
    },
    {
     "data": {
      "application/json": {
       "ascii": false,
       "bar_format": null,
       "colour": null,
       "elapsed": 0.01136159896850586,
       "initial": 0,
       "n": 0,
       "ncols": null,
       "nrows": 0,
       "postfix": null,
       "prefix": "",
       "rate": null,
       "total": 2081,
       "unit": "it",
       "unit_divisor": 1000,
       "unit_scale": false
      },
      "application/vnd.jupyter.widget-view+json": {
       "model_id": "aee9d8ea27ad4b84bd53e8bfd343ed6f",
       "version_major": 2,
       "version_minor": 0
      },
      "text/plain": [
       "  0%|          | 0/2081 [00:00<?, ?it/s]"
      ]
     },
     "metadata": {},
     "output_type": "display_data"
    },
    {
     "data": {
      "application/json": {
       "ascii": false,
       "bar_format": null,
       "colour": null,
       "elapsed": 0.014396905899047852,
       "initial": 0,
       "n": 0,
       "ncols": null,
       "nrows": 0,
       "postfix": null,
       "prefix": "",
       "rate": null,
       "total": 500,
       "unit": "it",
       "unit_divisor": 1000,
       "unit_scale": false
      },
      "application/vnd.jupyter.widget-view+json": {
       "model_id": "b03de0d797524e1d92f79e37e2c37197",
       "version_major": 2,
       "version_minor": 0
      },
      "text/plain": [
       "  0%|          | 0/500 [00:00<?, ?it/s]"
      ]
     },
     "metadata": {},
     "output_type": "display_data"
    },
    {
     "name": "stdout",
     "output_type": "stream",
     "text": [
      "1 / 5 finisied\n"
     ]
    },
    {
     "name": "stderr",
     "output_type": "stream",
     "text": [
      "Some weights of the model checkpoint at cl-tohoku/bert-base-japanese-whole-word-masking were not used when initializing BertModel: ['cls.predictions.decoder.weight', 'cls.seq_relationship.weight', 'cls.seq_relationship.bias', 'cls.predictions.transform.dense.bias', 'cls.predictions.transform.LayerNorm.bias', 'cls.predictions.bias', 'cls.predictions.transform.LayerNorm.weight', 'cls.predictions.transform.dense.weight']\n",
      "- This IS expected if you are initializing BertModel from the checkpoint of a model trained on another task or with another architecture (e.g. initializing a BertForSequenceClassification model from a BertForPreTraining model).\n",
      "- This IS NOT expected if you are initializing BertModel from the checkpoint of a model that you expect to be exactly identical (initializing a BertForSequenceClassification model from a BertForSequenceClassification model).\n"
     ]
    },
    {
     "data": {
      "application/json": {
       "ascii": false,
       "bar_format": null,
       "colour": null,
       "elapsed": 0.011356592178344727,
       "initial": 0,
       "n": 0,
       "ncols": null,
       "nrows": 0,
       "postfix": null,
       "prefix": "",
       "rate": null,
       "total": 2081,
       "unit": "it",
       "unit_divisor": 1000,
       "unit_scale": false
      },
      "application/vnd.jupyter.widget-view+json": {
       "model_id": "56252787d857492ea9d60ebd669b2b33",
       "version_major": 2,
       "version_minor": 0
      },
      "text/plain": [
       "  0%|          | 0/2081 [00:00<?, ?it/s]"
      ]
     },
     "metadata": {},
     "output_type": "display_data"
    },
    {
     "data": {
      "application/json": {
       "ascii": false,
       "bar_format": null,
       "colour": null,
       "elapsed": 0.01401519775390625,
       "initial": 0,
       "n": 0,
       "ncols": null,
       "nrows": 0,
       "postfix": null,
       "prefix": "",
       "rate": null,
       "total": 500,
       "unit": "it",
       "unit_divisor": 1000,
       "unit_scale": false
      },
      "application/vnd.jupyter.widget-view+json": {
       "model_id": "3f0140a689824a70b366f5d510a1ad9e",
       "version_major": 2,
       "version_minor": 0
      },
      "text/plain": [
       "  0%|          | 0/500 [00:00<?, ?it/s]"
      ]
     },
     "metadata": {},
     "output_type": "display_data"
    },
    {
     "name": "stdout",
     "output_type": "stream",
     "text": [
      "2 / 5 finisied\n"
     ]
    },
    {
     "name": "stderr",
     "output_type": "stream",
     "text": [
      "Some weights of the model checkpoint at cl-tohoku/bert-base-japanese-whole-word-masking were not used when initializing BertModel: ['cls.predictions.decoder.weight', 'cls.seq_relationship.weight', 'cls.seq_relationship.bias', 'cls.predictions.transform.dense.bias', 'cls.predictions.transform.LayerNorm.bias', 'cls.predictions.bias', 'cls.predictions.transform.LayerNorm.weight', 'cls.predictions.transform.dense.weight']\n",
      "- This IS expected if you are initializing BertModel from the checkpoint of a model trained on another task or with another architecture (e.g. initializing a BertForSequenceClassification model from a BertForPreTraining model).\n",
      "- This IS NOT expected if you are initializing BertModel from the checkpoint of a model that you expect to be exactly identical (initializing a BertForSequenceClassification model from a BertForSequenceClassification model).\n"
     ]
    },
    {
     "data": {
      "application/json": {
       "ascii": false,
       "bar_format": null,
       "colour": null,
       "elapsed": 0.011476516723632812,
       "initial": 0,
       "n": 0,
       "ncols": null,
       "nrows": 0,
       "postfix": null,
       "prefix": "",
       "rate": null,
       "total": 2081,
       "unit": "it",
       "unit_divisor": 1000,
       "unit_scale": false
      },
      "application/vnd.jupyter.widget-view+json": {
       "model_id": "bff5dfea8345408ca234784d7a8df48e",
       "version_major": 2,
       "version_minor": 0
      },
      "text/plain": [
       "  0%|          | 0/2081 [00:00<?, ?it/s]"
      ]
     },
     "metadata": {},
     "output_type": "display_data"
    },
    {
     "data": {
      "application/json": {
       "ascii": false,
       "bar_format": null,
       "colour": null,
       "elapsed": 0.02706432342529297,
       "initial": 0,
       "n": 0,
       "ncols": null,
       "nrows": 0,
       "postfix": null,
       "prefix": "",
       "rate": null,
       "total": 500,
       "unit": "it",
       "unit_divisor": 1000,
       "unit_scale": false
      },
      "application/vnd.jupyter.widget-view+json": {
       "model_id": "53f16553c4fa4214a157ba8a7b2e1f72",
       "version_major": 2,
       "version_minor": 0
      },
      "text/plain": [
       "  0%|          | 0/500 [00:00<?, ?it/s]"
      ]
     },
     "metadata": {},
     "output_type": "display_data"
    },
    {
     "name": "stdout",
     "output_type": "stream",
     "text": [
      "3 / 5 finisied\n"
     ]
    },
    {
     "name": "stderr",
     "output_type": "stream",
     "text": [
      "Some weights of the model checkpoint at cl-tohoku/bert-base-japanese-whole-word-masking were not used when initializing BertModel: ['cls.predictions.decoder.weight', 'cls.seq_relationship.weight', 'cls.seq_relationship.bias', 'cls.predictions.transform.dense.bias', 'cls.predictions.transform.LayerNorm.bias', 'cls.predictions.bias', 'cls.predictions.transform.LayerNorm.weight', 'cls.predictions.transform.dense.weight']\n",
      "- This IS expected if you are initializing BertModel from the checkpoint of a model trained on another task or with another architecture (e.g. initializing a BertForSequenceClassification model from a BertForPreTraining model).\n",
      "- This IS NOT expected if you are initializing BertModel from the checkpoint of a model that you expect to be exactly identical (initializing a BertForSequenceClassification model from a BertForSequenceClassification model).\n"
     ]
    },
    {
     "data": {
      "application/json": {
       "ascii": false,
       "bar_format": null,
       "colour": null,
       "elapsed": 0.012140035629272461,
       "initial": 0,
       "n": 0,
       "ncols": null,
       "nrows": 0,
       "postfix": null,
       "prefix": "",
       "rate": null,
       "total": 2081,
       "unit": "it",
       "unit_divisor": 1000,
       "unit_scale": false
      },
      "application/vnd.jupyter.widget-view+json": {
       "model_id": "f5f69e2f7b8c4cfab1c3639d93cc9490",
       "version_major": 2,
       "version_minor": 0
      },
      "text/plain": [
       "  0%|          | 0/2081 [00:00<?, ?it/s]"
      ]
     },
     "metadata": {},
     "output_type": "display_data"
    },
    {
     "data": {
      "application/json": {
       "ascii": false,
       "bar_format": null,
       "colour": null,
       "elapsed": 0.02698206901550293,
       "initial": 0,
       "n": 0,
       "ncols": null,
       "nrows": 0,
       "postfix": null,
       "prefix": "",
       "rate": null,
       "total": 500,
       "unit": "it",
       "unit_divisor": 1000,
       "unit_scale": false
      },
      "application/vnd.jupyter.widget-view+json": {
       "model_id": "d134a56b59a5474d8a7f30598e7ea5d5",
       "version_major": 2,
       "version_minor": 0
      },
      "text/plain": [
       "  0%|          | 0/500 [00:00<?, ?it/s]"
      ]
     },
     "metadata": {},
     "output_type": "display_data"
    },
    {
     "name": "stdout",
     "output_type": "stream",
     "text": [
      "4 / 5 finisied\n"
     ]
    },
    {
     "name": "stderr",
     "output_type": "stream",
     "text": [
      "Some weights of the model checkpoint at cl-tohoku/bert-base-japanese-whole-word-masking were not used when initializing BertModel: ['cls.predictions.decoder.weight', 'cls.seq_relationship.weight', 'cls.seq_relationship.bias', 'cls.predictions.transform.dense.bias', 'cls.predictions.transform.LayerNorm.bias', 'cls.predictions.bias', 'cls.predictions.transform.LayerNorm.weight', 'cls.predictions.transform.dense.weight']\n",
      "- This IS expected if you are initializing BertModel from the checkpoint of a model trained on another task or with another architecture (e.g. initializing a BertForSequenceClassification model from a BertForPreTraining model).\n",
      "- This IS NOT expected if you are initializing BertModel from the checkpoint of a model that you expect to be exactly identical (initializing a BertForSequenceClassification model from a BertForSequenceClassification model).\n"
     ]
    },
    {
     "data": {
      "application/json": {
       "ascii": false,
       "bar_format": null,
       "colour": null,
       "elapsed": 0.011365413665771484,
       "initial": 0,
       "n": 0,
       "ncols": null,
       "nrows": 0,
       "postfix": null,
       "prefix": "",
       "rate": null,
       "total": 2081,
       "unit": "it",
       "unit_divisor": 1000,
       "unit_scale": false
      },
      "application/vnd.jupyter.widget-view+json": {
       "model_id": "f228df39e0fd4995a503c857c7f21204",
       "version_major": 2,
       "version_minor": 0
      },
      "text/plain": [
       "  0%|          | 0/2081 [00:00<?, ?it/s]"
      ]
     },
     "metadata": {},
     "output_type": "display_data"
    },
    {
     "data": {
      "application/json": {
       "ascii": false,
       "bar_format": null,
       "colour": null,
       "elapsed": 0.026044368743896484,
       "initial": 0,
       "n": 0,
       "ncols": null,
       "nrows": 0,
       "postfix": null,
       "prefix": "",
       "rate": null,
       "total": 500,
       "unit": "it",
       "unit_divisor": 1000,
       "unit_scale": false
      },
      "application/vnd.jupyter.widget-view+json": {
       "model_id": "d437bbc65da54fcaa4fd47d5dd93695e",
       "version_major": 2,
       "version_minor": 0
      },
      "text/plain": [
       "  0%|          | 0/500 [00:00<?, ?it/s]"
      ]
     },
     "metadata": {},
     "output_type": "display_data"
    },
    {
     "name": "stdout",
     "output_type": "stream",
     "text": [
      "5 / 5 finisied\n"
     ]
    }
   ],
   "source": [
    "# 定数定義\n",
    "EXPERIMENT_NAME = '5fold_stratified_mmbt_seed_0'\n",
    "VECTOR_COL_PREFIX = 'mmbt_vector'\n",
    "ID_COL = 'id'\n",
    "\n",
    "# cpu or gpuを取得\n",
    "device = 'cuda' if torch.cuda.is_available() else 'cpu'\n",
    "\n",
    "# tokenizer取得\n",
    "tokenizer = AutoTokenizer.from_pretrained(\"cl-tohoku/bert-base-japanese-whole-word-masking\")\n",
    "\n",
    "# 保存済みのモデルパス一覧取得\n",
    "MODEL_SRC_BASE = Path(f'../model/{EXPERIMENT_NAME}/')\n",
    "MODEL_SRC_LIST = [\n",
    "    MODEL_SRC_BASE / 'fold_1/checkpoint-225/pytorch_model.bin',\n",
    "    MODEL_SRC_BASE / 'fold_2/checkpoint-175/pytorch_model.bin',\n",
    "    MODEL_SRC_BASE / 'fold_3/checkpoint-250/pytorch_model.bin',\n",
    "    MODEL_SRC_BASE / 'fold_4/checkpoint-250/pytorch_model.bin',\n",
    "    MODEL_SRC_BASE / 'fold_5/checkpoint-175/pytorch_model.bin'\n",
    "]\n",
    "# 対応する検証データのインデックスを保存したログがあるディレクトリを定義\n",
    "LOG_DIR = Path('../results/5fold_stratified_mmbt_seed_0/')\n",
    "# 保存先定義\n",
    "DST_ROOT = Path(f'../dataset/processed/{EXPERIMENT_NAME}')\n",
    "# testデータローダー定義\n",
    "test_ds = BokeTextImageDataset(test_df, tokenizer, MAX_SEQENCE_LEN, image_transform=ResNet152_Weights.IMAGENET1K_V2)\n",
    "test_dl = DataLoader(test_ds, batch_size=12, collate_fn=collate_fn, shuffle=False)\n",
    "\n",
    "for i, model_src in enumerate(MODEL_SRC_LIST):\n",
    "    assert model_src.exists(), '読み込み対象のモデルパスがあること'\n",
    "    relpath = os.path.relpath(model_src, MODEL_SRC_BASE)\n",
    "    fold_name = relpath.split(os.sep)[0]\n",
    "    log_file_path = LOG_DIR / f'{fold_name}_log.json'\n",
    "    assert log_file_path.exists(), '検証データインデックス取得用のjsonが存在すること'\n",
    "    with open(log_file_path, 'r') as f:\n",
    "        data = json.load(f)\n",
    "        train_idx = data['train_idx']\n",
    "        valid_idx = data['valid_idx']\n",
    "    # ベクトル化\n",
    "    target_ds = BokeTextImageDataset(train_df, tokenizer, MAX_SEQENCE_LEN, image_transform=ResNet152_Weights.IMAGENET1K_V2)\n",
    "    target_dl = DataLoader(target_ds, batch_size=12, collate_fn=collate_fn, shuffle=False)\n",
    "    model = load_validate_model(model_src)\n",
    "    model.to(device)\n",
    "    model.eval()\n",
    "    train_hidden_vector = vectorize_ds(model, target_dl, device)\n",
    "    test_hidden_vector = vectorize_ds(model, test_dl, device)\n",
    "    # csvに保存\n",
    "    dst_dir = DST_ROOT / fold_name\n",
    "    if not dst_dir.exists():\n",
    "        dst_dir.mkdir(parents=True)\n",
    "    train_vector_df = pd.DataFrame(train_hidden_vector[train_idx]).add_prefix(VECTOR_COL_PREFIX)\n",
    "    train_vector_df[ID_COL] = train_df.iloc[train_idx][ID_COL].to_list()\n",
    "    train_vector_df.to_csv(str(dst_dir / 'train.csv'), index=False)\n",
    "    valid_vector_df = pd.DataFrame(train_hidden_vector[valid_idx]).add_prefix(VECTOR_COL_PREFIX)\n",
    "    valid_vector_df[ID_COL] = train_df.iloc[valid_idx][ID_COL].to_list()\n",
    "    valid_vector_df.to_csv(str(dst_dir / 'valid.csv'), index=False)\n",
    "    test_vector_df = pd.DataFrame(test_hidden_vector).add_prefix(VECTOR_COL_PREFIX)\n",
    "    test_vector_df[ID_COL] = test_df[ID_COL]\n",
    "    test_vector_df.to_csv(str(dst_dir / 'test.csv'), index=False)\n",
    "    \n",
    "    print(f'{i + 1} / {len(MODEL_SRC_LIST)} finisied')"
   ]
  },
  {
   "cell_type": "code",
   "execution_count": 25,
   "id": "5874ff41-7a00-4b02-89bd-fe4fc23111f9",
   "metadata": {},
   "outputs": [],
   "source": [
    "train_dataloader = DataLoader(train_ds, batch_size=12, collate_fn=collate_fn, shuffle=False)\n",
    "train_vector = vectorize_ds(model, train_dataloader, device)\n",
    "train_vector_df = pd.DataFrame(train_vector).add_prefix('mmbt_vector')\n",
    "train_vector_df['id'] = train_df['id']\n",
    "train_vector_df['is_laugh'] = train_df['is_laugh']\n",
    "train_vector_df.to_csv('../dataset/processed/train_mmbt.csv', index=False)"
   ]
  },
  {
   "cell_type": "code",
   "execution_count": 26,
   "id": "4d244a3a-d6c1-4fd1-8a4f-9e953b7307a3",
   "metadata": {},
   "outputs": [],
   "source": [
    "test_dataloader = DataLoader(test_ds, batch_size=12, collate_fn=collate_fn, shuffle=False)\n",
    "test_vector = vectorize_ds(model, test_dataloader, device)\n",
    "test_vector_df = pd.DataFrame(test_vector).add_prefix('mmbt_vector')\n",
    "test_vector_df['id'] = test_df['id']\n",
    "test_vector_df['is_laugh'] = test_df['is_laugh']\n",
    "test_vector_df.to_csv('../dataset/processed/test_mmbt.csv', index=False)"
   ]
  },
  {
   "cell_type": "markdown",
   "id": "0633a4ca-67d1-4fb8-9322-f8fbd4c6b4db",
   "metadata": {},
   "source": [
    "#### 抽出した中間層特徴量をumapで可視化(fold_1)\n",
    "\n",
    "重なりが多いが、分離可能な範囲もある。\n",
    "\n",
    "- x軸の左半分において、0と1がある程度分離している(右半分に比べて)"
   ]
  },
  {
   "cell_type": "code",
   "execution_count": 11,
   "id": "a06f84ad-ff70-4b5c-aae3-c0a0cdc80c27",
   "metadata": {
    "collapsed": true,
    "jupyter": {
     "outputs_hidden": true
    },
    "tags": []
   },
   "outputs": [
    {
     "name": "stdout",
     "output_type": "stream",
     "text": [
      "UMAP(angular_rp_forest=True, metric='cosine', random_state=0, verbose=1)\n",
      "Mon Sep 26 22:50:08 2022 Construct fuzzy simplicial set\n",
      "Mon Sep 26 22:50:08 2022 Finding Nearest Neighbors\n",
      "Mon Sep 26 22:50:08 2022 Building RP forest with 9 trees\n",
      "Mon Sep 26 22:50:08 2022 NN descent for 12 iterations\n",
      "\t 1  /  12\n",
      "\t 2  /  12\n",
      "\t 3  /  12\n",
      "\t 4  /  12\n",
      "\t 5  /  12\n",
      "\tStopping threshold met -- exiting after 5 iterations\n",
      "Mon Sep 26 22:50:08 2022 Finished Nearest Neighbor Search\n",
      "Mon Sep 26 22:50:08 2022 Construct embedding\n"
     ]
    },
    {
     "data": {
      "application/json": {
       "ascii": false,
       "bar_format": "{desc}: {percentage:3.0f}%| {bar} {n_fmt}/{total_fmt} [{elapsed}]",
       "colour": null,
       "elapsed": 0.016247034072875977,
       "initial": 0,
       "n": 0,
       "ncols": null,
       "nrows": 0,
       "postfix": null,
       "prefix": "Epochs completed",
       "rate": null,
       "total": 500,
       "unit": "it",
       "unit_divisor": 1000,
       "unit_scale": false
      },
      "application/vnd.jupyter.widget-view+json": {
       "model_id": "84a975f0ef804e7faf979f218b1e1081",
       "version_major": 2,
       "version_minor": 0
      },
      "text/plain": [
       "Epochs completed:   0%|            0/500 [00:00]"
      ]
     },
     "metadata": {},
     "output_type": "display_data"
    },
    {
     "name": "stdout",
     "output_type": "stream",
     "text": [
      "Mon Sep 26 22:50:18 2022 Finished embedding\n"
     ]
    },
    {
     "data": {
      "text/html": [
       "<div>\n",
       "<style scoped>\n",
       "    .dataframe tbody tr th:only-of-type {\n",
       "        vertical-align: middle;\n",
       "    }\n",
       "\n",
       "    .dataframe tbody tr th {\n",
       "        vertical-align: top;\n",
       "    }\n",
       "\n",
       "    .dataframe thead th {\n",
       "        text-align: right;\n",
       "    }\n",
       "</style>\n",
       "<table border=\"1\" class=\"dataframe\">\n",
       "  <thead>\n",
       "    <tr style=\"text-align: right;\">\n",
       "      <th></th>\n",
       "      <th>x</th>\n",
       "      <th>y</th>\n",
       "      <th>is_laugh</th>\n",
       "    </tr>\n",
       "  </thead>\n",
       "  <tbody>\n",
       "    <tr>\n",
       "      <th>0</th>\n",
       "      <td>-1.942663</td>\n",
       "      <td>8.261619</td>\n",
       "      <td>0</td>\n",
       "    </tr>\n",
       "    <tr>\n",
       "      <th>1</th>\n",
       "      <td>0.518040</td>\n",
       "      <td>10.502784</td>\n",
       "      <td>0</td>\n",
       "    </tr>\n",
       "    <tr>\n",
       "      <th>2</th>\n",
       "      <td>-1.651679</td>\n",
       "      <td>8.544156</td>\n",
       "      <td>0</td>\n",
       "    </tr>\n",
       "    <tr>\n",
       "      <th>3</th>\n",
       "      <td>-2.902241</td>\n",
       "      <td>7.034550</td>\n",
       "      <td>0</td>\n",
       "    </tr>\n",
       "    <tr>\n",
       "      <th>4</th>\n",
       "      <td>-5.052710</td>\n",
       "      <td>4.958746</td>\n",
       "      <td>1</td>\n",
       "    </tr>\n",
       "  </tbody>\n",
       "</table>\n",
       "</div>"
      ],
      "text/plain": [
       "          x          y  is_laugh\n",
       "0 -1.942663   8.261619         0\n",
       "1  0.518040  10.502784         0\n",
       "2 -1.651679   8.544156         0\n",
       "3 -2.902241   7.034550         0\n",
       "4 -5.052710   4.958746         1"
      ]
     },
     "execution_count": 11,
     "metadata": {},
     "output_type": "execute_result"
    }
   ],
   "source": [
    "plot_df = pd.read_csv(str(DST_ROOT / 'fold_1' / 'valid.csv'))\n",
    "id_laugh_merged_df = plot_df.merge(train_df[['id', 'is_laugh']], on='id')\n",
    "X_scaled = MinMaxScaler().fit_transform(plot_df.drop(columns=['id']))\n",
    "mapper = UMAP(n_components=2, metric='cosine', random_state=0, verbose=1).fit(X_scaled)\n",
    "df_emb = pd.DataFrame(mapper.embedding_, columns=['x', 'y'])\n",
    "df_emb['is_laugh'] = id_laugh_merged_df['is_laugh']\n",
    "df_emb.head()"
   ]
  },
  {
   "cell_type": "code",
   "execution_count": 12,
   "id": "cd5dab47-a15e-4630-83e0-20a506c20bc4",
   "metadata": {},
   "outputs": [
    {
     "data": {
      "image/png": "[encoded data removed]",
      "text/plain": [
       "<Figure size 432x288 with 1 Axes>"
      ]
     },
     "metadata": {
      "needs_background": "light"
     },
     "output_type": "display_data"
    }
   ],
   "source": [
    "sns.scatterplot(data=df_emb, x='x', y='y', hue='is_laugh')\n",
    "plt.show()"
   ]
  },
  {
   "cell_type": "markdown",
   "id": "e689cb78-cf5c-41b4-b03e-3ab404578294",
   "metadata": {},
   "source": [
    "## テキスト長の特徴量追加"
   ]
  },
  {
   "cell_type": "code",
   "execution_count": 54,
   "id": "f34940f6-4a49-4fa6-9386-c7301c1b29d0",
   "metadata": {},
   "outputs": [],
   "source": [
    "TEXT_LEN_COL = 'text_len'\n",
    "train_txt_len_df = pd.DataFrame({\n",
    "    TEXT_LEN_COL: train_df['text'].str.len(),\n",
    "    'id': train_df['id']\n",
    "})\n",
    "test_txt_len_df = pd.DataFrame({\n",
    "    TEXT_LEN_COL: test_df['text'].str.len(),\n",
    "    'id': test_df['id']\n",
    "})\n",
    "train_txt_len_df.to_csv('../dataset/processed/train_text_len.csv', index=False)\n",
    "test_txt_len_df.to_csv('../dataset/processed/test_text_len.csv', index=False)"
   ]
  },
  {
   "cell_type": "markdown",
   "id": "4a08fa16-a776-4eb2-9ca2-437c1c3dc72f",
   "metadata": {},
   "source": [
    "## CLIPによる画像とテキスト間の類似度特徴量追加\n",
    "\n",
    "分布から、あまり有効な特徴量とはならないかと思われる"
   ]
  },
  {
   "cell_type": "code",
   "execution_count": 36,
   "id": "bb60fed4-53f3-4f99-aab8-3512dcfb0845",
   "metadata": {},
   "outputs": [],
   "source": [
    "class CLIPDataset(Dataset):\n",
    "    def __init__(self, df: pd.DataFrame, tokenizer, image_preprocess, device, max_seq_len=MAX_SEQENCE_LEN):\n",
    "        self.df = df\n",
    "        self.tokenizer = tokenizer\n",
    "        self.image_preprocess = image_preprocess\n",
    "        self.max_seq_len = max_seq_len\n",
    "\n",
    "    def __len__(self):\n",
    "        return len(self.df)\n",
    "\n",
    "    def __getitem__(self, index):\n",
    "        row = self.df.iloc[index]\n",
    "        encodings = ja_clip.tokenize(\n",
    "            texts=[row['text']],\n",
    "            max_seq_len=self.max_seq_len,\n",
    "            tokenizer=self.tokenizer,\n",
    "            device=device\n",
    "        )\n",
    "        image = Image.open(row['img_path'])\n",
    "        image = self.image_preprocess(image).to(device)\n",
    "        return encodings, image\n",
    "\n",
    "def collate_fn(batch):\n",
    "    encodings = defaultdict(list)\n",
    "    images = []\n",
    "    for element in batch:\n",
    "        for key, val in element[0].items():\n",
    "            encodings[key].append(val)\n",
    "        images.append(element[1])\n",
    "    encodings = {key: torch.concat(val) for key, val in encodings.items()}\n",
    "    images = torch.stack(images)\n",
    "    return encodings, images\n",
    "\n",
    "\n",
    "def similarity_arr_with_clip(model, dl: DataLoader):\n",
    "    result = []\n",
    "    for ds in tqdm(dl):\n",
    "        image_features = model.get_image_features(ds[1])\n",
    "        text_features = model.get_text_features(**ds[0])\n",
    "        image_features = image_features / image_features.norm(dim=-1, keepdim=True)\n",
    "        text_features = text_features / text_features.norm(dim=-1, keepdim=True)\n",
    "        # 他の画像の説明文との類似度は不要なので対角成分のみ取得\n",
    "        similarity_arr = torch.diag(image_features @ text_features.T)\n",
    "        similarity_arr = similarity_arr.cpu().detach().numpy() if torch.cuda.is_available() else similarity_arr.cpu().numpy()\n",
    "        result.append(similarity_arr)\n",
    "    return np.concatenate(result)"
   ]
  },
  {
   "cell_type": "code",
   "execution_count": 55,
   "id": "e99e3e3a-8a57-4fd9-a32b-c4fa778f4743",
   "metadata": {},
   "outputs": [],
   "source": [
    "device = \"cuda\" if torch.cuda.is_available() else \"cpu\"\n",
    "model, preprocess = ja_clip.load(\"rinna/japanese-clip-vit-b-16\", cache_dir=\"/tmp/japanese_clip\", device=device)\n",
    "model.eval()\n",
    "tokenizer = ja_clip.load_tokenizer()"
   ]
  },
  {
   "cell_type": "code",
   "execution_count": 56,
   "id": "e6a1d49a-82cb-4e18-89d6-04960fccbf6c",
   "metadata": {},
   "outputs": [
    {
     "data": {
      "application/json": {
       "ascii": false,
       "bar_format": null,
       "colour": null,
       "elapsed": 0.012635469436645508,
       "initial": 0,
       "n": 0,
       "ncols": null,
       "nrows": 0,
       "postfix": null,
       "prefix": "",
       "rate": null,
       "total": 2081,
       "unit": "it",
       "unit_divisor": 1000,
       "unit_scale": false
      },
      "application/vnd.jupyter.widget-view+json": {
       "model_id": "12554bb4dfc04cc4b1612802d4c23ca7",
       "version_major": 2,
       "version_minor": 0
      },
      "text/plain": [
       "  0%|          | 0/2081 [00:00<?, ?it/s]"
      ]
     },
     "metadata": {},
     "output_type": "display_data"
    }
   ],
   "source": [
    "train_clip_ds = CLIPDataset(train_df, tokenizer, preprocess, device)\n",
    "train_clip_dl = DataLoader(train_clip_ds, batch_size=12, collate_fn=collate_fn)\n",
    "train_similarity_arr = similarity_arr_with_clip(model, train_clip_dl)\n",
    "\n",
    "train_similarity_df = pd.DataFrame({\n",
    "    'similarity': train_similarity_arr,\n",
    "    'id': train_df['id']\n",
    "})\n",
    "train_similarity_df.to_csv('../dataset/processed/train_similarity.csv', index=False)"
   ]
  },
  {
   "cell_type": "code",
   "execution_count": 57,
   "id": "307bba4e-86d2-4def-a60e-4271fa7cc7d8",
   "metadata": {},
   "outputs": [],
   "source": [
    "train_similarity_df['is_laugh'] = train_df['is_laugh']"
   ]
  },
  {
   "cell_type": "code",
   "execution_count": 58,
   "id": "795dcbb7-d2f9-4980-9dcb-b30bb85cfb47",
   "metadata": {},
   "outputs": [
    {
     "data": {
      "image/png": "[encoded data removed]",
      "text/plain": [
       "<Figure size 432x288 with 1 Axes>"
      ]
     },
     "metadata": {
      "needs_background": "light"
     },
     "output_type": "display_data"
    },
    {
     "data": {
      "image/png": "[encoded data removed]",
      "text/plain": [
       "<Figure size 432x288 with 1 Axes>"
      ]
     },
     "metadata": {
      "needs_background": "light"
     },
     "output_type": "display_data"
    }
   ],
   "source": [
    "sns.boxplot(data=train_similarity_df, x='is_laugh', y='similarity')\n",
    "plt.show()\n",
    "sns.histplot(data=train_similarity_df, x='similarity', hue='is_laugh')\n",
    "plt.show()"
   ]
  },
  {
   "cell_type": "code",
   "execution_count": 59,
   "id": "fbe96f2e-c530-4288-846f-a7098bbb0cb2",
   "metadata": {},
   "outputs": [
    {
     "data": {
      "application/json": {
       "ascii": false,
       "bar_format": null,
       "colour": null,
       "elapsed": 0.011562108993530273,
       "initial": 0,
       "n": 0,
       "ncols": null,
       "nrows": 0,
       "postfix": null,
       "prefix": "",
       "rate": null,
       "total": 500,
       "unit": "it",
       "unit_divisor": 1000,
       "unit_scale": false
      },
      "application/vnd.jupyter.widget-view+json": {
       "model_id": "c7d99b37821f441e8f67483504d004bf",
       "version_major": 2,
       "version_minor": 0
      },
      "text/plain": [
       "  0%|          | 0/500 [00:00<?, ?it/s]"
      ]
     },
     "metadata": {},
     "output_type": "display_data"
    }
   ],
   "source": [
    "test_clip_ds = CLIPDataset(test_df, tokenizer, preprocess, device)\n",
    "test_clip_dl = DataLoader(test_clip_ds, batch_size=12, collate_fn=collate_fn)\n",
    "test_similarity_arr = similarity_arr_with_clip(model, test_clip_dl)\n",
    "\n",
    "test_similarity_df = pd.DataFrame({\n",
    "    'similarity': test_similarity_arr,\n",
    "    'id': test_df['id']\n",
    "})\n",
    "test_similarity_df.to_csv('../dataset/processed/test_similarity.csv', index=False)"
   ]
  },
  {
   "cell_type": "markdown",
   "id": "f7f6445e-5afe-4957-81c8-4ecc3d41f65e",
   "metadata": {},
   "source": [
    "## TF-IDF特徴量\n",
    "\n",
    "各文章のTF-IDFベクトルの最大値、平均を特徴量する。"
   ]
  },
  {
   "cell_type": "code",
   "execution_count": 3,
   "id": "ae7d0eaa-6f1d-42e8-9804-9c58244a2136",
   "metadata": {},
   "outputs": [],
   "source": [
    "class MecabTokenizer:\n",
    "    def __init__(self, wakati):\n",
    "        self.wakati = wakati\n",
    "\n",
    "    def __call__(self, text):\n",
    "        return self.wakati.parse(text).split()\n",
    "\n",
    "\n",
    "def extract_tfidf_static_info(tfidf_vector):\n",
    "    result = {\n",
    "        'tfidf_mean': [],\n",
    "        'tfidf_max': [],\n",
    "        'tfidf_std': [],\n",
    "        'tfidf_min': []\n",
    "    }\n",
    "    for v in tqdm(tfidf_vector, total=tfidf_vector.shape[0]):\n",
    "        result['tfidf_mean'].append(v.toarray().mean())\n",
    "        result['tfidf_max'].append(v.toarray().max())\n",
    "        result['tfidf_std'].append(v.toarray().std())\n",
    "        result['tfidf_min'].append(v.toarray().min())\n",
    "    return result"
   ]
  },
  {
   "cell_type": "code",
   "execution_count": 5,
   "id": "a87c3db5-08be-4dc3-9f3b-11567d7e62ea",
   "metadata": {},
   "outputs": [],
   "source": [
    "mecab_tokenizer = MecabTokenizer(MeCab.Tagger('-Owakati'))\n",
    "tfidf = TfidfVectorizer(tokenizer=mecab_tokenizer)\n",
    "train_txts = train_df['text'].values\n",
    "train_vector = tfidf.fit_transform(train_txts)"
   ]
  },
  {
   "cell_type": "code",
   "execution_count": 6,
   "id": "64ac7cc3-39b0-4f8d-bc0e-53070565813b",
   "metadata": {},
   "outputs": [],
   "source": [
    "test_txts = test_df['text'].values\n",
    "test_vector = tfidf.transform(test_txts)"
   ]
  },
  {
   "cell_type": "code",
   "execution_count": 7,
   "id": "1217016d-8cf4-4c68-abf1-6169ce031f47",
   "metadata": {},
   "outputs": [
    {
     "data": {
      "application/json": {
       "ascii": false,
       "bar_format": null,
       "colour": null,
       "elapsed": 0.012835979461669922,
       "initial": 0,
       "n": 0,
       "ncols": null,
       "nrows": 0,
       "postfix": null,
       "prefix": "",
       "rate": null,
       "total": 24962,
       "unit": "it",
       "unit_divisor": 1000,
       "unit_scale": false
      },
      "application/vnd.jupyter.widget-view+json": {
       "model_id": "e517c1096e6d48f99aabcf1818076141",
       "version_major": 2,
       "version_minor": 0
      },
      "text/plain": [
       "  0%|          | 0/24962 [00:00<?, ?it/s]"
      ]
     },
     "metadata": {},
     "output_type": "display_data"
    },
    {
     "data": {
      "image/png": "[encoded data removed]",
      "text/plain": [
       "<Figure size 432x288 with 1 Axes>"
      ]
     },
     "metadata": {
      "needs_background": "light"
     },
     "output_type": "display_data"
    },
    {
     "data": {
      "image/png": "[encoded data removed]",
      "text/plain": [
       "<Figure size 432x288 with 1 Axes>"
      ]
     },
     "metadata": {
      "needs_background": "light"
     },
     "output_type": "display_data"
    },
    {
     "data": {
      "image/png": "[encoded data removed]",
      "text/plain": [
       "<Figure size 432x288 with 1 Axes>"
      ]
     },
     "metadata": {
      "needs_background": "light"
     },
     "output_type": "display_data"
    },
    {
     "data": {
      "image/png": "[encoded data removed]",
      "text/plain": [
       "<Figure size 432x288 with 1 Axes>"
      ]
     },
     "metadata": {
      "needs_background": "light"
     },
     "output_type": "display_data"
    }
   ],
   "source": [
    "# 学習データで分布を確認\n",
    "train_tfidf_df = pd.DataFrame(extract_tfidf_static_info(train_vector))\n",
    "plot_df = train_tfidf_df.copy()\n",
    "plot_df['is_laugh'] = train_df['is_laugh']\n",
    "y_cols = ['tfidf_max', 'tfidf_min', 'tfidf_mean', 'tfidf_std']\n",
    "for y_col in y_cols:\n",
    "    sns.boxplot(data=plot_df, x='is_laugh', y=y_col)\n",
    "    plt.show()"
   ]
  },
  {
   "cell_type": "code",
   "execution_count": 8,
   "id": "9984a7bb-87e6-4c10-97d3-464a7923ee1a",
   "metadata": {},
   "outputs": [
    {
     "data": {
      "application/json": {
       "ascii": false,
       "bar_format": null,
       "colour": null,
       "elapsed": 0.012918233871459961,
       "initial": 0,
       "n": 0,
       "ncols": null,
       "nrows": 0,
       "postfix": null,
       "prefix": "",
       "rate": null,
       "total": 24962,
       "unit": "it",
       "unit_divisor": 1000,
       "unit_scale": false
      },
      "application/vnd.jupyter.widget-view+json": {
       "model_id": "ac90432655fd4ad8b2586c788f0391c2",
       "version_major": 2,
       "version_minor": 0
      },
      "text/plain": [
       "  0%|          | 0/24962 [00:00<?, ?it/s]"
      ]
     },
     "metadata": {},
     "output_type": "display_data"
    },
    {
     "data": {
      "application/json": {
       "ascii": false,
       "bar_format": null,
       "colour": null,
       "elapsed": 0.01162409782409668,
       "initial": 0,
       "n": 0,
       "ncols": null,
       "nrows": 0,
       "postfix": null,
       "prefix": "",
       "rate": null,
       "total": 6000,
       "unit": "it",
       "unit_divisor": 1000,
       "unit_scale": false
      },
      "application/vnd.jupyter.widget-view+json": {
       "model_id": "829294bd4bb14a14a29453d007cf4245",
       "version_major": 2,
       "version_minor": 0
      },
      "text/plain": [
       "  0%|          | 0/6000 [00:00<?, ?it/s]"
      ]
     },
     "metadata": {},
     "output_type": "display_data"
    }
   ],
   "source": [
    "train_tfidf_df = pd.DataFrame(extract_tfidf_static_info(train_vector))\n",
    "train_tfidf_df['id'] = train_df['id']\n",
    "train_tfidf_df = train_tfidf_df.drop(columns=['tfidf_min'])\n",
    "train_tfidf_df.to_csv('../dataset/processed/train_tfidf_vector.csv', index=False)\n",
    "\n",
    "test_vector_df = pd.DataFrame(extract_tfidf_static_info(test_vector))\n",
    "test_vector_df['id'] = test_df['id']\n",
    "test_vector_df = test_vector_df.drop(columns=['tfidf_min'])\n",
    "test_vector_df.to_csv('../dataset/processed/test_tfidf_vector.csv', index=False)"
   ]
  },
  {
   "cell_type": "markdown",
   "id": "ada70270-5533-41d9-a96f-3c43cd9cde62",
   "metadata": {},
   "source": [
    "## 固有表現抽出"
   ]
  },
  {
   "cell_type": "code",
   "execution_count": 27,
   "id": "7a1700eb-5b22-4313-b687-1d896f73335d",
   "metadata": {},
   "outputs": [],
   "source": [
    "class ExtractPersonApearInTxt:\n",
    "    def __init__(self, nlp=None):\n",
    "        self.nlp = nlp if nlp is not None else spacy.load('ja_ginza_electra')\n",
    "\n",
    "    def __call__(self, texts):\n",
    "        docs = self.nlp.pipe(texts)\n",
    "        n_texts = len(texts)\n",
    "        results = [0] * n_texts\n",
    "        for i, doc in enumerate(tqdm(docs, total=n_texts)):\n",
    "            for ent in doc.ents:\n",
    "                if ent.label_ == 'Person':\n",
    "                    results[i] = 1\n",
    "        return results"
   ]
  },
  {
   "cell_type": "code",
   "execution_count": 28,
   "id": "ef151d08-fe24-4b6e-aece-37926f659fbb",
   "metadata": {},
   "outputs": [],
   "source": [
    "nlp = spacy.load('ja_ginza_electra')"
   ]
  },
  {
   "cell_type": "code",
   "execution_count": 29,
   "id": "bbe979c7-5d04-43f9-ad50-9db377e163bf",
   "metadata": {
    "tags": []
   },
   "outputs": [
    {
     "data": {
      "application/json": {
       "ascii": false,
       "bar_format": null,
       "colour": null,
       "elapsed": 0.012117385864257812,
       "initial": 0,
       "n": 0,
       "ncols": null,
       "nrows": 0,
       "postfix": null,
       "prefix": "",
       "rate": null,
       "total": 24962,
       "unit": "it",
       "unit_divisor": 1000,
       "unit_scale": false
      },
      "application/vnd.jupyter.widget-view+json": {
       "model_id": "c6f41239de394acca58807980821dfd3",
       "version_major": 2,
       "version_minor": 0
      },
      "text/plain": [
       "  0%|          | 0/24962 [00:00<?, ?it/s]"
      ]
     },
     "metadata": {},
     "output_type": "display_data"
    },
    {
     "data": {
      "application/json": {
       "ascii": false,
       "bar_format": null,
       "colour": null,
       "elapsed": 0.015095710754394531,
       "initial": 0,
       "n": 0,
       "ncols": null,
       "nrows": 0,
       "postfix": null,
       "prefix": "",
       "rate": null,
       "total": 6000,
       "unit": "it",
       "unit_divisor": 1000,
       "unit_scale": false
      },
      "application/vnd.jupyter.widget-view+json": {
       "model_id": "ad08856f71e7461ea1bb84ed4df01e67",
       "version_major": 2,
       "version_minor": 0
      },
      "text/plain": [
       "  0%|          | 0/6000 [00:00<?, ?it/s]"
      ]
     },
     "metadata": {},
     "output_type": "display_data"
    }
   ],
   "source": [
    "extract_person_apear = ExtractPersonApearInTxt()\n",
    "train_has_person_list = extract_person_apear(train_df['text'].values.tolist())\n",
    "test_has_person_list = extract_person_apear(test_df['text'].values.tolist())"
   ]
  },
  {
   "cell_type": "code",
   "execution_count": 30,
   "id": "d2305599-ea19-4eec-adaa-7a6cc6859e0a",
   "metadata": {},
   "outputs": [
    {
     "data": {
      "image/png": "[encoded data removed]",
      "text/plain": [
       "<Figure size 432x288 with 1 Axes>"
      ]
     },
     "metadata": {
      "needs_background": "light"
     },
     "output_type": "display_data"
    }
   ],
   "source": [
    "plot_df = pd.DataFrame({'has_person': train_has_person_list, 'is_laugh': train_df['is_laugh'].to_list()})\n",
    "sns.countplot(data=plot_df, x='has_person', hue='is_laugh')\n",
    "plt.show()"
   ]
  },
  {
   "cell_type": "code",
   "execution_count": 32,
   "id": "090d766a-2ad2-4456-bae0-e41bb048cf76",
   "metadata": {},
   "outputs": [
    {
     "data": {
      "text/plain": [
       "(array([0, 1]), array([21993,  2969]))"
      ]
     },
     "execution_count": 32,
     "metadata": {},
     "output_type": "execute_result"
    }
   ],
   "source": [
    "np.unique(train_has_person_list, return_counts=True)"
   ]
  },
  {
   "cell_type": "code",
   "execution_count": 31,
   "id": "09e51d4d-b750-49ca-9391-7291afe41006",
   "metadata": {},
   "outputs": [
    {
     "data": {
      "text/plain": [
       "(array([0, 1]), array([5270,  730]))"
      ]
     },
     "execution_count": 31,
     "metadata": {},
     "output_type": "execute_result"
    }
   ],
   "source": [
    "np.unique(test_has_person_list, return_counts=True)"
   ]
  },
  {
   "cell_type": "code",
   "execution_count": 33,
   "id": "71fb7da7-c1bb-475f-85d7-79e6832831e9",
   "metadata": {},
   "outputs": [],
   "source": [
    "train_has_person_df = pd.DataFrame({'id': train_df['id'], 'has_person': train_has_person_list})\n",
    "train_has_person_df.to_csv('../dataset/processed/train_has_person.csv', index=False)\n",
    "test_has_person_df = pd.DataFrame({'id': test_df['id'], 'has_person': test_has_person_list})\n",
    "test_has_person_df.to_csv('../dataset/processed/test_has_person.csv', index=False)"
   ]
  },
  {
   "cell_type": "markdown",
   "id": "e1b4b98e-a8f3-473d-9577-52e759930c8f",
   "metadata": {},
   "source": [
    "## 物体検知で写っている物体数を特徴量にする\n",
    "\n",
    "- データセット: coco https://raw.githubusercontent.com/ultralytics/yolov5/master/data/coco.yaml\n",
    "\n",
    "- model: yolov5 https://docs.ultralytics.com/tutorials/pytorch-hub/"
   ]
  },
  {
   "cell_type": "code",
   "execution_count": 6,
   "id": "9c64befe-49e5-4776-97d8-c55610d3dda2",
   "metadata": {},
   "outputs": [],
   "source": [
    "class ExtractNumObjectInImage:\n",
    "    def __init__(self, model=None, coco_yml_path: str='../third_party/coco.yaml', prefix='_counts'):\n",
    "        self.model = model if model is not None else torch.hub.load('ultralytics/yolov5', 'yolov5s', pretrained=True)\n",
    "        self.model.eval()\n",
    "        self.idx2label = self._load_yml(coco_yml_path)\n",
    "        self.prefix = '_counts'\n",
    "\n",
    "    @staticmethod\n",
    "    def _load_yml(yml_path: str):\n",
    "        with open(yml_path, 'r') as f:\n",
    "            coco = yaml.safe_load(f)\n",
    "        return coco['names']\n",
    "\n",
    "    def _label_count_dict_for_one_image(self, result):\n",
    "        labels, counts = np.unique(result, return_counts=True)\n",
    "        results = {f'{label}{self.prefix}': 0 for label in self.idx2label.values()}\n",
    "        for idx, count in zip(labels, counts):\n",
    "            label = f'{self.idx2label[idx]}{self.prefix}'\n",
    "            results[label] = count\n",
    "        return results\n",
    "\n",
    "    def __call__(self, dl: DataLoader) -> pd.DataFrame:\n",
    "        result_df_base = []\n",
    "        for ds in tqdm(dl, total=len(dl)):\n",
    "            preds = self.model(ds)\n",
    "            for pred in preds.xyxy:\n",
    "                labels_in_img = pred.cpu().detach().numpy() if torch.cuda.is_available() else preds.cpu().numpy()\n",
    "                label_dict = self._label_count_dict_for_one_image(labels_in_img[:, -1])\n",
    "                result_df_base.append(label_dict)\n",
    "        return pd.DataFrame(result_df_base)\n",
    "\n",
    "\n",
    "class ObjectDetectionDataSet(Dataset):\n",
    "    def __init__(self, img_path_list):\n",
    "        self.img_path_list = img_path_list\n",
    "    \n",
    "    def __len__(self):\n",
    "        return len(self.img_path_list)\n",
    "\n",
    "    def __getitem__(self, index):\n",
    "        return self.img_path_list[index]"
   ]
  },
  {
   "cell_type": "code",
   "execution_count": 7,
   "id": "f274a3f8-7770-4a63-a8c5-a06daca4656f",
   "metadata": {
    "tags": []
   },
   "outputs": [
    {
     "name": "stderr",
     "output_type": "stream",
     "text": [
      "Using cache found in /root/.cache/torch/hub/ultralytics_yolov5_master\n",
      "\u001b[31m\u001b[1mrequirements:\u001b[0m YOLOv5 requirement \"tqdm>=4.64.0\" not found, attempting AutoUpdate...\n",
      "WARNING: Running pip as the 'root' user can result in broken permissions and conflicting behaviour with the system package manager. It is recommended to use a virtual environment instead: https://pip.pypa.io/warnings/venv\n",
      "Requirement already satisfied: tqdm>=4.64.0 in /opt/conda/lib/python3.7/site-packages (4.64.1)\n",
      "\n",
      "\u001b[31m\u001b[1mrequirements:\u001b[0m 1 package updated per /root/.cache/torch/hub/ultralytics_yolov5_master/requirements.txt\n",
      "\u001b[31m\u001b[1mrequirements:\u001b[0m ⚠️ \u001b[1mRestart runtime or rerun command for updates to take effect\u001b[0m\n",
      "\n",
      "YOLOv5 🚀 2022-9-29 Python-3.7.13 torch-1.12.0 CUDA:0 (NVIDIA GeForce RTX 2060 SUPER, 7974MiB)\n",
      "\n",
      "Fusing layers... \n",
      "YOLOv5s summary: 213 layers, 7225885 parameters, 0 gradients\n",
      "Adding AutoShape... \n"
     ]
    },
    {
     "data": {
      "application/json": {
       "ascii": false,
       "bar_format": null,
       "colour": null,
       "elapsed": 0.012279987335205078,
       "initial": 0,
       "n": 0,
       "ncols": null,
       "nrows": 0,
       "postfix": null,
       "prefix": "",
       "rate": null,
       "total": 781,
       "unit": "it",
       "unit_divisor": 1000,
       "unit_scale": false
      },
      "application/vnd.jupyter.widget-view+json": {
       "model_id": "cfdb73378efb40c49aa31e50f0e63f17",
       "version_major": 2,
       "version_minor": 0
      },
      "text/plain": [
       "  0%|          | 0/781 [00:00<?, ?it/s]"
      ]
     },
     "metadata": {},
     "output_type": "display_data"
    },
    {
     "data": {
      "application/json": {
       "ascii": false,
       "bar_format": null,
       "colour": null,
       "elapsed": 0.011235475540161133,
       "initial": 0,
       "n": 0,
       "ncols": null,
       "nrows": 0,
       "postfix": null,
       "prefix": "",
       "rate": null,
       "total": 188,
       "unit": "it",
       "unit_divisor": 1000,
       "unit_scale": false
      },
      "application/vnd.jupyter.widget-view+json": {
       "model_id": "874e380736c64410b3aca5a0fddf5885",
       "version_major": 2,
       "version_minor": 0
      },
      "text/plain": [
       "  0%|          | 0/188 [00:00<?, ?it/s]"
      ]
     },
     "metadata": {},
     "output_type": "display_data"
    }
   ],
   "source": [
    "BATCH_SIZE = 32\n",
    "# 学習用データのcsv化\n",
    "extract_num_object_in_img = ExtractNumObjectInImage()\n",
    "train_od_dl = DataLoader(ObjectDetectionDataSet(train_df['img_path'].to_list()), batch_size=BATCH_SIZE)\n",
    "train_od_df = extract_num_object_in_img(train_od_dl)\n",
    "train_od_df['id'] = train_df['id']\n",
    "train_od_df.to_csv('../dataset/processed/train_od_counts.csv', index=False)\n",
    "\n",
    "# テスト用データのcsv化\n",
    "test_od_dl = DataLoader(ObjectDetectionDataSet(test_df['img_path'].to_list()), batch_size=BATCH_SIZE)\n",
    "test_od_df = extract_num_object_in_img(test_od_dl)\n",
    "test_od_df['id'] = test_df['id']\n",
    "test_od_df.to_csv('../dataset/processed/test_od_counts.csv', index=False)"
   ]
  },
  {
   "cell_type": "code",
   "execution_count": null,
   "id": "1ca6f202-5e10-4729-aed2-490e26e18f6d",
   "metadata": {},
   "outputs": [],
   "source": []
  }
 ],
 "metadata": {
  "kernelspec": {
   "display_name": "Python 3 (ipykernel)",
   "language": "python",
   "name": "python3"
  },
  "language_info": {
   "codemirror_mode": {
    "name": "ipython",
    "version": 3
   },
   "file_extension": ".py",
   "mimetype": "text/x-python",
   "name": "python",
   "nbconvert_exporter": "python",
   "pygments_lexer": "ipython3",
   "version": "3.7.13"
  },
  "vscode": {
   "interpreter": {
    "hash": "d4d1e4263499bec80672ea0156c357c1ee493ec2b1c70f0acce89fc37c4a6abe"
   }
  }
 },
 "nbformat": 4,
 "nbformat_minor": 5
}
