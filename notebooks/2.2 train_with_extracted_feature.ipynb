{
 "cells": [
  {
   "cell_type": "code",
   "execution_count": 1,
   "id": "637405a6-69dc-4b54-909b-6e9278be44db",
   "metadata": {},
   "outputs": [],
   "source": [
    "from pathlib import Path\n",
    "from typing import List, Dict, Union\n",
    "import os\n",
    "import sys\n",
    "\n",
    "import optuna\n",
    "import pandas as pd\n",
    "import numpy as np\n",
    "import matplotlib.pyplot as plt\n",
    "from sklearn.metrics import log_loss, accuracy_score\n",
    "from sklearn.model_selection import cross_validate, StratifiedKFold, validation_curve\n",
    "from sklearn.ensemble import RandomForestClassifier\n",
    "from lightgbm import LGBMClassifier, early_stopping\n",
    "\n",
    "sys.path.append('../')\n",
    "from src.models.utils import fix_seed\n",
    "from src.data.submission import to_submission\n",
    "from src.data.prepare import Create5FoldDataFrame"
   ]
  },
  {
   "cell_type": "code",
   "execution_count": 2,
   "id": "4494b93c-1805-44f8-86a8-0aa1aa478079",
   "metadata": {},
   "outputs": [],
   "source": [
    "class LGMObjective:\n",
    "    def __init__(\n",
    "                self,\n",
    "                model,\n",
    "                X,\n",
    "                y,\n",
    "                cv=StratifiedKFold(n_splits=5, shuffle=True, random_state=0),\n",
    "                stopping_rounds=50\n",
    "            ):\n",
    "        self.model = model\n",
    "        self.X = X\n",
    "        self.y = y\n",
    "        self.cv = cv\n",
    "        self.stopping_rounds = stopping_rounds\n",
    "\n",
    "    def __call__(self, trial):\n",
    "        params = {\n",
    "            'num_leaves': trial.suggest_int('num_leaves', 10, 200),\n",
    "            'subsample_freq': trial.suggest_int('subsample_freq', 1, 5),\n",
    "            'subsample': trial.suggest_float('subsample', 0.1, 1),\n",
    "            'colsample_bytree': trial.suggest_float('colsample_bytree', 0.1, 1),\n",
    "            'min_child_samples': trial.suggest_int('min_child_samples', 1, 60),\n",
    "            'max_depth': trial.suggest_int('max_depth', 1, 30),\n",
    "            'reg_alpha': trial.suggest_float('reg_alpha', 0.0001, 1, log=True),\n",
    "            'reg_lambda': trial.suggest_float('reg_alpha', 0.0001, 1, log=True),\n",
    "        }\n",
    "        self.model.set_params(**params)\n",
    "        scores = []\n",
    "        for (train_idx, valid_idx) in self.cv.split(self.X, self.y):\n",
    "            self.model.fit(\n",
    "                X=self.X.iloc[train_idx],\n",
    "                y=self.y.iloc[train_idx],\n",
    "                eval_set=(self.X.iloc[valid_idx], self.y.iloc[valid_idx]),\n",
    "                callbacks=[early_stopping(stopping_rounds=self.stopping_rounds, verbose=False)],\n",
    "                eval_metric='binary_logloss'\n",
    "            )\n",
    "            y_pred_proba = self.model.predict_proba(self.X.iloc[valid_idx])[:, 1]\n",
    "            scores.append(log_loss(self.y.iloc[valid_idx], y_pred_proba)) \n",
    "        return np.mean(scores)\n",
    "\n",
    "\n",
    "class RFObjective:\n",
    "    def __init__(self, model, X, y):\n",
    "        self.model = model\n",
    "        self.X = X\n",
    "        self.y = y\n",
    "\n",
    "    def __call__(self, trial):\n",
    "        params = {\n",
    "            'min_samples_split': trial.suggest_int('min_samples_split', 2, 100),\n",
    "            'max_depth': trial.suggest_int('max_depth', 2, 200),\n",
    "            'min_samples_leaf': trial.suggest_int('min_samples_leaf', 1, 100),\n",
    "            'max_features': trial.suggest_float('max_features', 0.1, 1),\n",
    "            'max_leaf_nodes': trial.suggest_int('max_leaf_nodes', 10, 200)\n",
    "        }\n",
    "        self.model.set_params(**params)\n",
    "        scores = cross_validate(self.model, self.X, self.y, scoring='neg_log_loss', cv=3)\n",
    "        return -np.mean(scores['test_score'])    \n",
    "\n",
    "\n",
    "def train_and_eval_lgm(X_train, y_train, X_valid, y_valid, X_test, params, stopping_rounds=50):\n",
    "    model = LGBMClassifier(**params)\n",
    "    model.fit(\n",
    "        X=X_train,\n",
    "        y=y_train,\n",
    "        eval_set=(X_valid, y_valid),\n",
    "        callbacks=[early_stopping(stopping_rounds=stopping_rounds, verbose=True)],\n",
    "        eval_metric='binary_logloss'\n",
    "    )\n",
    "    y_pred_val = model.predict(X_valid)\n",
    "    y_pred_test = model.predict_proba(X_test)\n",
    "    return y_pred_test[:, 1], model"
   ]
  },
  {
   "cell_type": "markdown",
   "id": "63a0c4e3-14c1-469e-9aa3-4446df8a8419",
   "metadata": {},
   "source": [
    "## 学習用データ作成用処理\n",
    "\n",
    "1. ./dataset/preocessed/5fold_stratified_mmbt_seed_0/ 配下のfoldごとのtrain.csv, valid.csv, test.csvを読み込み、辞書として保持(データ構造は下記)\n",
    "\n",
    "    ```\n",
    "    {\n",
    "        \"fold_1\": {\n",
    "            \"train\": 学習用データフレーム,\n",
    "            \"valid\": 検証用データフレーム,\n",
    "            \"test\": テストデータフレーム(提出用データ),\n",
    "        },\n",
    "        ...\n",
    "        \"fold_5\": fold_1と同様の構成\n",
    "    }\n",
    "    ```\n",
    "2. ./dataset/preocessed/配下の以下のcsvをidをキーとして手順1で取得したデータフレームと外部結合\n",
    "\n",
    "    - train(test)_has_person.csv: 文章中に人名を表す単語が出現したか\n",
    "\n",
    "    - train(test)_od_counts.csv: yolov5で画像ごとに抜き出した物体数\n",
    "\n",
    "    - train(test)_tfidf_vector.csv: tfidfベクトルの統計量\n",
    "    \n",
    "    - train(test)_text_len.csv: 文章の長さ\n",
    "\n",
    "    - train(test)_similarity.csv: CLIPを使用した画像と文章のcosine類似度(あまり関係なさそうなので外してもいいかも)\n",
    "\n",
    "3. ./dataset/train.csvを使用して、学習用データフレーム, 検証用データフレームにラベルを付与\n",
    "\n",
    "4. 学習用, 検証用, テスト用データフレームから, idを抜く。学習用, 検証用データフレームにおいては、X: 特徴量のみのデータフレーム, y: ラベル としておく。\n",
    "\n",
    "最終的に、以下のようなデータが得られる。\n",
    "\n",
    "```\n",
    "{\n",
    "    \"fold_1\": {\n",
    "        \"train\": {\n",
    "            \"X\": 特徴量データフレーム,\n",
    "            \"y\": ラベル,\n",
    "        },\n",
    "        \"valid\": {\n",
    "            \"X\": 特徴量データフレーム,\n",
    "            \"y\": ラベル,\n",
    "        },\n",
    "        \"test\": {\n",
    "            \"X\": 特徴量データフレーム\n",
    "        },\n",
    "    },\n",
    "    ...\n",
    "    \"fold_5\": fold_1と同様の構成\n",
    "}\n",
    "```"
   ]
  },
  {
   "cell_type": "code",
   "execution_count": 3,
   "id": "8bff8e2f-8513-461d-bbe0-1221b72fd611",
   "metadata": {},
   "outputs": [],
   "source": [
    "train_feature_csv_path_list = [\n",
    "    '../dataset/processed/train_has_person.csv',\n",
    "    '../dataset/processed/train_od_counts.csv',\n",
    "    '../dataset/processed/train_text_len.csv',\n",
    "    '../dataset/processed/train_tfidf_vector.csv',\n",
    "    '../dataset/processed/train_similarity.csv'\n",
    "]\n",
    "test_feature_csv_path_list = [\n",
    "    '../dataset/processed/test_has_person.csv',\n",
    "    '../dataset/processed/test_od_counts.csv',\n",
    "    '../dataset/processed/test_text_len.csv',\n",
    "    '../dataset/processed/test_tfidf_vector.csv',\n",
    "    '../dataset/processed/test_similarity.csv'\n",
    "]\n",
    "create_train_valid_test_dict = Create5FoldDataFrame(\n",
    "    '../dataset/processed/5fold_stratified_mmbt_seed_0/',\n",
    "    '../dataset/csv/train.csv',\n",
    "    train_feature_csv_path_list,\n",
    "    test_feature_csv_path_list\n",
    ")\n",
    "train_valid_test_dict = create_train_valid_test_dict()"
   ]
  },
  {
   "cell_type": "code",
   "execution_count": 3,
   "id": "23b723bb-834d-4d11-ace6-622cec98ea35",
   "metadata": {},
   "outputs": [],
   "source": [
    "assert ['fold_1', 'fold_2', 'fold_3', 'fold_4', 'fold_5'] == sorted(train_valid_test_dict.keys()), '第一階層のkeyが想定通りか'\n",
    "column_list = train_valid_test_dict['fold_1']['train']['X'].columns.to_list()\n",
    "for fold_name in train_valid_test_dict.keys():\n",
    "    for phase in train_valid_test_dict[fold_name]:\n",
    "        assert train_valid_test_dict[fold_name][phase]['X'].columns.to_list() == column_list, '全てのカラムの順番が同じか'\n",
    "        assert np.all(np.sum(train_valid_test_dict[fold_name][phase]['X'].isna()) == 0)\n",
    "        if phase != 'test':\n",
    "            assert np.all(np.sum(train_valid_test_dict[fold_name][phase]['y'].isna()) == 0)\n"
   ]
  },
  {
   "cell_type": "markdown",
   "id": "d9662601-ce3b-49cc-bbbb-2f8a85ca0787",
   "metadata": {},
   "source": [
    "## 学習(lightGBM)\n",
    "\n",
    "- モデル: lightGBM\n",
    "\n",
    "- 手順(下記をfold数分実施する。)\n",
    "\n",
    "    1. 学習用データにおいて、cross validation結果からハイパーパラメータを求める\n",
    "\n",
    "    2. 学習用データ, 検証用データ(early stopping用)でモデル学習\n",
    "\n",
    "    3. テストデータで予測して、submission用csv作成"
   ]
  },
  {
   "cell_type": "code",
   "execution_count": 4,
   "id": "63fa1da7-a806-4b8e-bc6e-3baa80828d79",
   "metadata": {
    "collapsed": true,
    "jupyter": {
     "outputs_hidden": true
    },
    "tags": []
   },
   "outputs": [
    {
     "name": "stderr",
     "output_type": "stream",
     "text": [
      "\u001b[32m[I 2022-10-07 08:36:02,505]\u001b[0m A new study created in memory with name: no-name-537ff7c5-aee3-44d1-85dd-abe4f9b27854\u001b[0m\n"
     ]
    },
    {
     "name": "stdout",
     "output_type": "stream",
     "text": [
      "fold: fold_3\n"
     ]
    },
    {
     "name": "stderr",
     "output_type": "stream",
     "text": [
      "\u001b[32m[I 2022-10-07 08:38:12,004]\u001b[0m Trial 0 finished with value: 0.5380312494618316 and parameters: {'num_leaves': 114, 'subsample_freq': 4, 'subsample': 0.6424870384644795, 'colsample_bytree': 0.5903948646972071, 'min_child_samples': 26, 'max_depth': 20, 'reg_alpha': 0.0056279320474151686, 'reg_lambda': 0.36905577292137587}. Best is trial 0 with value: 0.5380312494618316.\u001b[0m\n",
      "\u001b[32m[I 2022-10-07 08:40:35,540]\u001b[0m Trial 1 finished with value: 0.5392664278789595 and parameters: {'num_leaves': 194, 'subsample_freq': 2, 'subsample': 0.8125525342743981, 'colsample_bytree': 0.5760054277776141, 'min_child_samples': 35, 'max_depth': 28, 'reg_alpha': 0.00019237305096546508, 'reg_lambda': 0.00022310905607443037}. Best is trial 0 with value: 0.5380312494618316.\u001b[0m\n",
      "\u001b[32m[I 2022-10-07 08:41:42,238]\u001b[0m Trial 2 finished with value: 0.5377345585220241 and parameters: {'num_leaves': 13, 'subsample_freq': 5, 'subsample': 0.8003410758548655, 'colsample_bytree': 0.8830109334221372, 'min_child_samples': 59, 'max_depth': 24, 'reg_alpha': 0.007013219779945793, 'reg_lambda': 0.13246974647468437}. Best is trial 2 with value: 0.5377345585220241.\u001b[0m\n",
      "\u001b[32m[I 2022-10-07 08:42:53,730]\u001b[0m Trial 3 finished with value: 0.5410830173679836 and parameters: {'num_leaves': 32, 'subsample_freq': 4, 'subsample': 0.22901795866814179, 'colsample_bytree': 0.9502020253446255, 'min_child_samples': 32, 'max_depth': 13, 'reg_alpha': 0.0011434638743472194, 'reg_lambda': 0.12500712230836253}. Best is trial 2 with value: 0.5377345585220241.\u001b[0m\n",
      "\u001b[32m[I 2022-10-07 08:43:28,220]\u001b[0m Trial 4 finished with value: 0.5416232509646743 and parameters: {'num_leaves': 97, 'subsample_freq': 3, 'subsample': 0.11691082039271963, 'colsample_bytree': 0.6558719473682894, 'min_child_samples': 37, 'max_depth': 19, 'reg_alpha': 0.5956516018710561, 'reg_lambda': 0.0533680330275671}. Best is trial 2 with value: 0.5377345585220241.\u001b[0m\n",
      "\u001b[32m[I 2022-10-07 08:44:04,443]\u001b[0m Trial 5 finished with value: 0.5365129204346799 and parameters: {'num_leaves': 78, 'subsample_freq': 3, 'subsample': 0.7278680763345383, 'colsample_bytree': 0.15420292446634287, 'min_child_samples': 41, 'max_depth': 21, 'reg_alpha': 0.0006942729492430148, 'reg_lambda': 0.00032787264983352813}. Best is trial 5 with value: 0.5365129204346799.\u001b[0m\n",
      "\u001b[32m[I 2022-10-07 08:44:35,215]\u001b[0m Trial 6 finished with value: 0.5358754853490163 and parameters: {'num_leaves': 70, 'subsample_freq': 2, 'subsample': 0.6131770933760917, 'colsample_bytree': 0.4947413621160883, 'min_child_samples': 60, 'max_depth': 4, 'reg_alpha': 0.000684710557668405, 'reg_lambda': 0.00044181257379025503}. Best is trial 6 with value: 0.5358754853490163.\u001b[0m\n",
      "\u001b[32m[I 2022-10-07 08:44:59,633]\u001b[0m Trial 7 finished with value: 0.535990106782051 and parameters: {'num_leaves': 134, 'subsample_freq': 2, 'subsample': 0.5196796955706757, 'colsample_bytree': 0.31998303280144247, 'min_child_samples': 10, 'max_depth': 4, 'reg_alpha': 0.04220057397195014, 'reg_lambda': 0.00035705227567182956}. Best is trial 6 with value: 0.5358754853490163.\u001b[0m\n",
      "\u001b[32m[I 2022-10-07 08:45:17,718]\u001b[0m Trial 8 finished with value: 0.536429075303559 and parameters: {'num_leaves': 47, 'subsample_freq': 2, 'subsample': 0.8388939068631416, 'colsample_bytree': 0.18739114821375513, 'min_child_samples': 51, 'max_depth': 3, 'reg_alpha': 0.8050778165087018, 'reg_lambda': 0.007492121411354244}. Best is trial 6 with value: 0.5358754853490163.\u001b[0m\n",
      "\u001b[32m[I 2022-10-07 08:45:33,467]\u001b[0m Trial 9 finished with value: 0.5365063457107816 and parameters: {'num_leaves': 196, 'subsample_freq': 4, 'subsample': 0.7653372214584715, 'colsample_bytree': 0.1352690130288886, 'min_child_samples': 17, 'max_depth': 4, 'reg_alpha': 0.0015295398277813735, 'reg_lambda': 0.0002984770033451218}. Best is trial 6 with value: 0.5358754853490163.\u001b[0m\n",
      "\u001b[32m[I 2022-10-07 08:47:20,781]\u001b[0m Trial 10 finished with value: 0.5408127757598222 and parameters: {'num_leaves': 156, 'subsample_freq': 1, 'subsample': 0.43528139259694093, 'colsample_bytree': 0.38665340662431213, 'min_child_samples': 2, 'max_depth': 11, 'reg_alpha': 0.00016736973803826297, 'reg_lambda': 0.005108954039886339}. Best is trial 6 with value: 0.5358754853490163.\u001b[0m\n",
      "\u001b[32m[I 2022-10-07 08:48:35,792]\u001b[0m Trial 11 finished with value: 0.5389239912746475 and parameters: {'num_leaves': 127, 'subsample_freq': 1, 'subsample': 0.462271846206401, 'colsample_bytree': 0.375869335320136, 'min_child_samples': 5, 'max_depth': 8, 'reg_alpha': 0.045813873151752796, 'reg_lambda': 0.001694027560316386}. Best is trial 6 with value: 0.5358754853490163.\u001b[0m\n",
      "\u001b[32m[I 2022-10-07 08:48:57,221]\u001b[0m Trial 12 finished with value: 0.5404957856774696 and parameters: {'num_leaves': 74, 'subsample_freq': 2, 'subsample': 0.5509188312297488, 'colsample_bytree': 0.3745561857479571, 'min_child_samples': 16, 'max_depth': 1, 'reg_alpha': 0.06225639272716481, 'reg_lambda': 0.0013670741840999558}. Best is trial 6 with value: 0.5358754853490163.\u001b[0m\n",
      "\u001b[32m[I 2022-10-07 08:50:37,588]\u001b[0m Trial 13 finished with value: 0.5382982579729806 and parameters: {'num_leaves': 148, 'subsample_freq': 2, 'subsample': 0.983424834199844, 'colsample_bytree': 0.7385593487482571, 'min_child_samples': 48, 'max_depth': 7, 'reg_alpha': 0.04411715479018958, 'reg_lambda': 0.0010919007543814415}. Best is trial 6 with value: 0.5358754853490163.\u001b[0m\n",
      "\u001b[32m[I 2022-10-07 08:51:33,161]\u001b[0m Trial 14 finished with value: 0.5386586982731447 and parameters: {'num_leaves': 69, 'subsample_freq': 1, 'subsample': 0.35979907364738517, 'colsample_bytree': 0.47731604474101536, 'min_child_samples': 22, 'max_depth': 8, 'reg_alpha': 0.01951971940723559, 'reg_lambda': 0.00011317653064318344}. Best is trial 6 with value: 0.5358754853490163.\u001b[0m\n",
      "\u001b[32m[I 2022-10-07 08:52:44,691]\u001b[0m Trial 15 finished with value: 0.539498462158764 and parameters: {'num_leaves': 145, 'subsample_freq': 3, 'subsample': 0.608925075140828, 'colsample_bytree': 0.26780134645499387, 'min_child_samples': 10, 'max_depth': 13, 'reg_alpha': 0.12685642451081672, 'reg_lambda': 0.021238915277235818}. Best is trial 6 with value: 0.5358754853490163.\u001b[0m\n",
      "\u001b[32m[I 2022-10-07 08:53:13,320]\u001b[0m Trial 16 finished with value: 0.5363069332555921 and parameters: {'num_leaves': 97, 'subsample_freq': 2, 'subsample': 0.3728565525188909, 'colsample_bytree': 0.4461359344653275, 'min_child_samples': 60, 'max_depth': 5, 'reg_alpha': 0.0029207524773937122, 'reg_lambda': 0.0006740460328341064}. Best is trial 6 with value: 0.5358754853490163.\u001b[0m\n",
      "\u001b[32m[I 2022-10-07 08:53:32,834]\u001b[0m Trial 17 finished with value: 0.5398069693318762 and parameters: {'num_leaves': 167, 'subsample_freq': 1, 'subsample': 0.5085669310150724, 'colsample_bytree': 0.28177567316395097, 'min_child_samples': 45, 'max_depth': 1, 'reg_alpha': 0.21307382708888253, 'reg_lambda': 0.003501151097778835}. Best is trial 6 with value: 0.5358754853490163.\u001b[0m\n",
      "\u001b[32m[I 2022-10-07 08:56:08,707]\u001b[0m Trial 18 finished with value: 0.5385231042082708 and parameters: {'num_leaves': 123, 'subsample_freq': 3, 'subsample': 0.6589522873296753, 'colsample_bytree': 0.7558266060066141, 'min_child_samples': 26, 'max_depth': 16, 'reg_alpha': 0.00043169463792128295, 'reg_lambda': 0.00010165309117303915}. Best is trial 6 with value: 0.5358754853490163.\u001b[0m\n",
      "\u001b[32m[I 2022-10-07 08:56:46,279]\u001b[0m Trial 19 finished with value: 0.5386133572663407 and parameters: {'num_leaves': 50, 'subsample_freq': 2, 'subsample': 0.2783728353230548, 'colsample_bytree': 0.28526417433009804, 'min_child_samples': 14, 'max_depth': 10, 'reg_alpha': 0.015974647233721807, 'reg_lambda': 0.02069558078994575}. Best is trial 6 with value: 0.5358754853490163.\u001b[0m\n",
      "\u001b[32m[I 2022-10-07 08:58:31,266]\u001b[0m Trial 20 finished with value: 0.5391093376631884 and parameters: {'num_leaves': 173, 'subsample_freq': 3, 'subsample': 0.9177013859460297, 'colsample_bytree': 0.4878653459759592, 'min_child_samples': 53, 'max_depth': 16, 'reg_alpha': 0.0036339476250980686, 'reg_lambda': 0.0005879213745566618}. Best is trial 6 with value: 0.5358754853490163.\u001b[0m\n",
      "\u001b[32m[I 2022-10-07 08:59:01,858]\u001b[0m Trial 21 finished with value: 0.5366354868618822 and parameters: {'num_leaves': 97, 'subsample_freq': 2, 'subsample': 0.34948233040833626, 'colsample_bytree': 0.4970073173248731, 'min_child_samples': 59, 'max_depth': 5, 'reg_alpha': 0.002060970547454186, 'reg_lambda': 0.0005776472857187772}. Best is trial 6 with value: 0.5358754853490163.\u001b[0m\n",
      "\u001b[32m[I 2022-10-07 08:59:26,520]\u001b[0m Trial 22 finished with value: 0.536569440768709 and parameters: {'num_leaves': 92, 'subsample_freq': 2, 'subsample': 0.39625929299806617, 'colsample_bytree': 0.3761446370643612, 'min_child_samples': 55, 'max_depth': 5, 'reg_alpha': 0.0004183086800974938, 'reg_lambda': 0.0023461209685096875}. Best is trial 6 with value: 0.5358754853490163.\u001b[0m\n",
      "\u001b[32m[I 2022-10-07 09:00:05,644]\u001b[0m Trial 23 finished with value: 0.53680430841635 and parameters: {'num_leaves': 60, 'subsample_freq': 1, 'subsample': 0.5586690893830746, 'colsample_bytree': 0.44364066657094564, 'min_child_samples': 43, 'max_depth': 6, 'reg_alpha': 0.002550977599567133, 'reg_lambda': 0.0006636329639148631}. Best is trial 6 with value: 0.5358754853490163.\u001b[0m\n",
      "\u001b[32m[I 2022-10-07 09:00:26,427]\u001b[0m Trial 24 finished with value: 0.537786299900231 and parameters: {'num_leaves': 129, 'subsample_freq': 2, 'subsample': 0.28796044024753686, 'colsample_bytree': 0.6786232789777709, 'min_child_samples': 60, 'max_depth': 2, 'reg_alpha': 0.01433382369486076, 'reg_lambda': 0.0002007873050536966}. Best is trial 6 with value: 0.5358754853490163.\u001b[0m\n",
      "\u001b[32m[I 2022-10-07 09:00:58,134]\u001b[0m Trial 25 finished with value: 0.53699333313747 and parameters: {'num_leaves': 111, 'subsample_freq': 3, 'subsample': 0.48972352798340646, 'colsample_bytree': 0.22962464049380144, 'min_child_samples': 49, 'max_depth': 9, 'reg_alpha': 0.00010170100575791458, 'reg_lambda': 0.0007911471099163749}. Best is trial 6 with value: 0.5358754853490163.\u001b[0m\n",
      "\u001b[32m[I 2022-10-07 09:02:33,949]\u001b[0m Trial 26 finished with value: 0.5372882605242478 and parameters: {'num_leaves': 88, 'subsample_freq': 2, 'subsample': 0.6738744878195937, 'colsample_bytree': 0.5596141192206757, 'min_child_samples': 54, 'max_depth': 13, 'reg_alpha': 0.004838265344827351, 'reg_lambda': 0.0024964805347553283}. Best is trial 6 with value: 0.5358754853490163.\u001b[0m\n",
      "\u001b[32m[I 2022-10-07 09:02:48,266]\u001b[0m Trial 27 finished with value: 0.539512210798333 and parameters: {'num_leaves': 108, 'subsample_freq': 1, 'subsample': 0.12690720737893763, 'colsample_bytree': 0.3188594455311819, 'min_child_samples': 10, 'max_depth': 4, 'reg_alpha': 0.0008342750481827979, 'reg_lambda': 0.015484979757750764}. Best is trial 6 with value: 0.5358754853490163.\u001b[0m\n",
      "\u001b[32m[I 2022-10-07 09:03:44,511]\u001b[0m Trial 28 finished with value: 0.5358858715870738 and parameters: {'num_leaves': 36, 'subsample_freq': 2, 'subsample': 0.4178980687159278, 'colsample_bytree': 0.4361854891371628, 'min_child_samples': 38, 'max_depth': 11, 'reg_alpha': 0.022766164434982222, 'reg_lambda': 0.0003532799037129959}. Best is trial 6 with value: 0.5358754853490163.\u001b[0m\n",
      "\u001b[32m[I 2022-10-07 09:04:56,699]\u001b[0m Trial 29 finished with value: 0.5364356609003605 and parameters: {'num_leaves': 20, 'subsample_freq': 5, 'subsample': 0.5784731261312855, 'colsample_bytree': 0.6514321308526412, 'min_child_samples': 25, 'max_depth': 11, 'reg_alpha': 0.121111245469122, 'reg_lambda': 0.00036098089246559817}. Best is trial 6 with value: 0.5358754853490163.\u001b[0m\n",
      "\u001b[32m[I 2022-10-07 09:05:17,902]\u001b[0m Trial 30 finished with value: 0.5372587344591838 and parameters: {'num_leaves': 36, 'subsample_freq': 3, 'subsample': 0.7060551681173886, 'colsample_bytree': 0.10150681515938312, 'min_child_samples': 30, 'max_depth': 18, 'reg_alpha': 0.02616241829139742, 'reg_lambda': 0.00014972687480368328}. Best is trial 6 with value: 0.5358754853490163.\u001b[0m\n",
      "\u001b[32m[I 2022-10-07 09:06:01,679]\u001b[0m Trial 31 finished with value: 0.5368226913219694 and parameters: {'num_leaves': 59, 'subsample_freq': 2, 'subsample': 0.4130507011271185, 'colsample_bytree': 0.44259004717490563, 'min_child_samples': 38, 'max_depth': 6, 'reg_alpha': 0.008216822982275255, 'reg_lambda': 0.000430824774802592}. Best is trial 6 with value: 0.5358754853490163.\u001b[0m\n",
      "\u001b[32m[I 2022-10-07 09:06:27,683]\u001b[0m Trial 32 finished with value: 0.5366444247587981 and parameters: {'num_leaves': 36, 'subsample_freq': 2, 'subsample': 0.5080795230400128, 'colsample_bytree': 0.5319176815665524, 'min_child_samples': 55, 'max_depth': 3, 'reg_alpha': 0.010973083510098267, 'reg_lambda': 0.00021387220251328272}. Best is trial 6 with value: 0.5358754853490163.\u001b[0m\n",
      "\u001b[32m[I 2022-10-07 09:07:48,723]\u001b[0m Trial 33 finished with value: 0.5377874869282864 and parameters: {'num_leaves': 80, 'subsample_freq': 2, 'subsample': 0.617743565013888, 'colsample_bytree': 0.6078639748416421, 'min_child_samples': 46, 'max_depth': 9, 'reg_alpha': 0.02924222543774931, 'reg_lambda': 0.0011227179861260537}. Best is trial 6 with value: 0.5358754853490163.\u001b[0m\n",
      "\u001b[32m[I 2022-10-07 09:08:35,660]\u001b[0m Trial 34 finished with value: 0.5362251226551166 and parameters: {'num_leaves': 24, 'subsample_freq': 1, 'subsample': 0.29557970227665975, 'colsample_bytree': 0.4381343218968736, 'min_child_samples': 31, 'max_depth': 26, 'reg_alpha': 0.0036021089782988015, 'reg_lambda': 0.0002111143256955999}. Best is trial 6 with value: 0.5358754853490163.\u001b[0m\n",
      "\u001b[32m[I 2022-10-07 09:09:23,554]\u001b[0m Trial 35 finished with value: 0.5371533749672271 and parameters: {'num_leaves': 20, 'subsample_freq': 1, 'subsample': 0.19647572355198262, 'colsample_bytree': 0.5350774395894338, 'min_child_samples': 32, 'max_depth': 30, 'reg_alpha': 0.006350959822711633, 'reg_lambda': 0.48178856162450606}. Best is trial 6 with value: 0.5358754853490163.\u001b[0m\n",
      "\u001b[32m[I 2022-10-07 09:09:53,300]\u001b[0m Trial 36 finished with value: 0.5368386876117142 and parameters: {'num_leaves': 10, 'subsample_freq': 1, 'subsample': 0.2971864105752082, 'colsample_bytree': 0.3325253470460116, 'min_child_samples': 21, 'max_depth': 24, 'reg_alpha': 0.3465126324670516, 'reg_lambda': 0.0001911065387121387}. Best is trial 6 with value: 0.5358754853490163.\u001b[0m\n",
      "\u001b[32m[I 2022-10-07 09:10:20,204]\u001b[0m Trial 37 finished with value: 0.5399559758259972 and parameters: {'num_leaves': 24, 'subsample_freq': 4, 'subsample': 0.16813861732859486, 'colsample_bytree': 0.41902034775479935, 'min_child_samples': 35, 'max_depth': 25, 'reg_alpha': 0.08808445415660045, 'reg_lambda': 0.13176275504876403}. Best is trial 6 with value: 0.5358754853490163.\u001b[0m\n",
      "\u001b[32m[I 2022-10-07 09:11:31,034]\u001b[0m Trial 38 finished with value: 0.5385255713251681 and parameters: {'num_leaves': 48, 'subsample_freq': 1, 'subsample': 0.2523087947203633, 'colsample_bytree': 0.6114911212501434, 'min_child_samples': 30, 'max_depth': 21, 'reg_alpha': 0.00041808766336108214, 'reg_lambda': 0.8201054778791476}. Best is trial 6 with value: 0.5358754853490163.\u001b[0m\n",
      "\u001b[32m[I 2022-10-07 09:12:00,468]\u001b[0m Trial 39 finished with value: 0.5370640139406249 and parameters: {'num_leaves': 35, 'subsample_freq': 3, 'subsample': 0.4565648767199876, 'colsample_bytree': 0.2081839758206519, 'min_child_samples': 39, 'max_depth': 28, 'reg_alpha': 0.0012958205708874222, 'reg_lambda': 0.00026843532076345033}. Best is trial 6 with value: 0.5358754853490163.\u001b[0m\n",
      "\u001b[32m[I 2022-10-07 09:12:47,026]\u001b[0m Trial 40 finished with value: 0.5371537419385597 and parameters: {'num_leaves': 55, 'subsample_freq': 1, 'subsample': 0.32788038677275794, 'colsample_bytree': 0.32585077003845825, 'min_child_samples': 27, 'max_depth': 22, 'reg_alpha': 0.004508467919195884, 'reg_lambda': 0.06407142334701105}. Best is trial 6 with value: 0.5358754853490163.\u001b[0m\n",
      "\u001b[32m[I 2022-10-07 09:13:05,841]\u001b[0m Trial 41 finished with value: 0.5365319375718457 and parameters: {'num_leaves': 118, 'subsample_freq': 2, 'subsample': 0.3911682666225387, 'colsample_bytree': 0.41995478902948746, 'min_child_samples': 58, 'max_depth': 3, 'reg_alpha': 0.00239170267156707, 'reg_lambda': 0.0005036587326062736}. Best is trial 6 with value: 0.5358754853490163.\u001b[0m\n",
      "\u001b[32m[I 2022-10-07 09:14:31,558]\u001b[0m Trial 42 finished with value: 0.539330734278155 and parameters: {'num_leaves': 136, 'subsample_freq': 2, 'subsample': 0.5108425465818869, 'colsample_bytree': 0.4774696682144041, 'min_child_samples': 34, 'max_depth': 18, 'reg_alpha': 0.010069022280253224, 'reg_lambda': 0.00036714418622096244}. Best is trial 6 with value: 0.5358754853490163.\u001b[0m\n",
      "\u001b[32m[I 2022-10-07 09:15:01,815]\u001b[0m Trial 43 finished with value: 0.5378719570810568 and parameters: {'num_leaves': 65, 'subsample_freq': 2, 'subsample': 0.22362403429594557, 'colsample_bytree': 0.4081972022298808, 'min_child_samples': 41, 'max_depth': 6, 'reg_alpha': 0.0006711151876006701, 'reg_lambda': 0.0008665524851215761}. Best is trial 6 with value: 0.5358754853490163.\u001b[0m\n",
      "\u001b[32m[I 2022-10-07 09:16:11,245]\u001b[0m Trial 44 finished with value: 0.5387571088892764 and parameters: {'num_leaves': 101, 'subsample_freq': 3, 'subsample': 0.43674740891388514, 'colsample_bytree': 0.5133530126534768, 'min_child_samples': 51, 'max_depth': 14, 'reg_alpha': 0.003525140095048497, 'reg_lambda': 0.0018089447816974267}. Best is trial 6 with value: 0.5358754853490163.\u001b[0m\n",
      "\u001b[32m[I 2022-10-07 09:17:43,422]\u001b[0m Trial 45 finished with value: 0.5396238329235312 and parameters: {'num_leaves': 84, 'subsample_freq': 1, 'subsample': 0.32961201394696427, 'colsample_bytree': 0.454103804152615, 'min_child_samples': 1, 'max_depth': 11, 'reg_alpha': 0.022843544288958385, 'reg_lambda': 0.00013876705649431417}. Best is trial 6 with value: 0.5358754853490163.\u001b[0m\n",
      "\u001b[32m[I 2022-10-07 09:19:28,222]\u001b[0m Trial 46 finished with value: 0.5369996931521104 and parameters: {'num_leaves': 42, 'subsample_freq': 2, 'subsample': 0.5957423188964663, 'colsample_bytree': 0.9538894562255639, 'min_child_samples': 57, 'max_depth': 8, 'reg_alpha': 0.04959653718858397, 'reg_lambda': 0.0002655063042932616}. Best is trial 6 with value: 0.5358754853490163.\u001b[0m\n",
      "\u001b[32m[I 2022-10-07 09:19:46,809]\u001b[0m Trial 47 finished with value: 0.5404132064011746 and parameters: {'num_leaves': 28, 'subsample_freq': 2, 'subsample': 0.4707346893485155, 'colsample_bytree': 0.3509224105280827, 'min_child_samples': 21, 'max_depth': 1, 'reg_alpha': 0.00022971852302986327, 'reg_lambda': 0.004967602028569675}. Best is trial 6 with value: 0.5358754853490163.\u001b[0m\n",
      "\u001b[32m[I 2022-10-07 09:20:26,215]\u001b[0m Trial 48 finished with value: 0.5365729815625627 and parameters: {'num_leaves': 67, 'subsample_freq': 3, 'subsample': 0.538580942340954, 'colsample_bytree': 0.58618445750113, 'min_child_samples': 6, 'max_depth': 4, 'reg_alpha': 0.0015187981655338015, 'reg_lambda': 0.0009973757877656685}. Best is trial 6 with value: 0.5358754853490163.\u001b[0m\n",
      "\u001b[32m[I 2022-10-07 09:22:18,587]\u001b[0m Trial 49 finished with value: 0.5380584525798028 and parameters: {'num_leaves': 73, 'subsample_freq': 1, 'subsample': 0.7574254445875579, 'colsample_bytree': 0.8107748203383005, 'min_child_samples': 18, 'max_depth': 7, 'reg_alpha': 0.03092970965890759, 'reg_lambda': 0.0001669055028741713}. Best is trial 6 with value: 0.5358754853490163.\u001b[0m\n"
     ]
    },
    {
     "name": "stdout",
     "output_type": "stream",
     "text": [
      "最適パラメータ {'num_leaves': 70, 'subsample_freq': 2, 'subsample': 0.6131770933760917, 'colsample_bytree': 0.4947413621160883, 'min_child_samples': 60, 'max_depth': 4, 'reg_alpha': 0.000684710557668405, 'reg_lambda': 0.00044181257379025503}\n",
      "スコア 0.5358754853490163\n",
      "Training until validation scores don't improve for 100 rounds\n"
     ]
    },
    {
     "name": "stderr",
     "output_type": "stream",
     "text": [
      "\u001b[32m[I 2022-10-07 09:22:20,749]\u001b[0m A new study created in memory with name: no-name-44ee1505-8857-444c-bea0-2552ce3db255\u001b[0m\n"
     ]
    },
    {
     "name": "stdout",
     "output_type": "stream",
     "text": [
      "Early stopping, best iteration is:\n",
      "[126]\tvalid_0's binary_logloss: 0.63945\n",
      "fold: fold_1\n"
     ]
    },
    {
     "name": "stderr",
     "output_type": "stream",
     "text": [
      "\u001b[32m[I 2022-10-07 09:24:17,728]\u001b[0m Trial 0 finished with value: 0.5268678003189899 and parameters: {'num_leaves': 114, 'subsample_freq': 4, 'subsample': 0.6424870384644795, 'colsample_bytree': 0.5903948646972071, 'min_child_samples': 26, 'max_depth': 20, 'reg_alpha': 0.0056279320474151686, 'reg_lambda': 0.36905577292137587}. Best is trial 0 with value: 0.5268678003189899.\u001b[0m\n",
      "\u001b[32m[I 2022-10-07 09:26:41,581]\u001b[0m Trial 1 finished with value: 0.526256306816663 and parameters: {'num_leaves': 194, 'subsample_freq': 2, 'subsample': 0.8125525342743981, 'colsample_bytree': 0.5760054277776141, 'min_child_samples': 35, 'max_depth': 28, 'reg_alpha': 0.00019237305096546508, 'reg_lambda': 0.00022310905607443037}. Best is trial 1 with value: 0.526256306816663.\u001b[0m\n",
      "\u001b[32m[I 2022-10-07 09:27:44,922]\u001b[0m Trial 2 finished with value: 0.5267816168160981 and parameters: {'num_leaves': 13, 'subsample_freq': 5, 'subsample': 0.8003410758548655, 'colsample_bytree': 0.8830109334221372, 'min_child_samples': 59, 'max_depth': 24, 'reg_alpha': 0.007013219779945793, 'reg_lambda': 0.13246974647468437}. Best is trial 1 with value: 0.526256306816663.\u001b[0m\n",
      "\u001b[32m[I 2022-10-07 09:28:42,513]\u001b[0m Trial 3 finished with value: 0.5297770735687246 and parameters: {'num_leaves': 32, 'subsample_freq': 4, 'subsample': 0.22901795866814179, 'colsample_bytree': 0.9502020253446255, 'min_child_samples': 32, 'max_depth': 13, 'reg_alpha': 0.0011434638743472194, 'reg_lambda': 0.12500712230836253}. Best is trial 1 with value: 0.526256306816663.\u001b[0m\n",
      "\u001b[32m[I 2022-10-07 09:29:16,610]\u001b[0m Trial 4 finished with value: 0.5276113874186035 and parameters: {'num_leaves': 97, 'subsample_freq': 3, 'subsample': 0.11691082039271963, 'colsample_bytree': 0.6558719473682894, 'min_child_samples': 37, 'max_depth': 19, 'reg_alpha': 0.5956516018710561, 'reg_lambda': 0.0533680330275671}. Best is trial 1 with value: 0.526256306816663.\u001b[0m\n",
      "\u001b[32m[I 2022-10-07 09:29:51,229]\u001b[0m Trial 5 finished with value: 0.5250031528964121 and parameters: {'num_leaves': 78, 'subsample_freq': 3, 'subsample': 0.7278680763345383, 'colsample_bytree': 0.15420292446634287, 'min_child_samples': 41, 'max_depth': 21, 'reg_alpha': 0.0006942729492430148, 'reg_lambda': 0.00032787264983352813}. Best is trial 5 with value: 0.5250031528964121.\u001b[0m\n",
      "\u001b[32m[I 2022-10-07 09:30:24,526]\u001b[0m Trial 6 finished with value: 0.5237616631827886 and parameters: {'num_leaves': 70, 'subsample_freq': 2, 'subsample': 0.6131770933760917, 'colsample_bytree': 0.4947413621160883, 'min_child_samples': 60, 'max_depth': 4, 'reg_alpha': 0.000684710557668405, 'reg_lambda': 0.00044181257379025503}. Best is trial 6 with value: 0.5237616631827886.\u001b[0m\n",
      "\u001b[32m[I 2022-10-07 09:30:49,421]\u001b[0m Trial 7 finished with value: 0.5248094206092961 and parameters: {'num_leaves': 134, 'subsample_freq': 2, 'subsample': 0.5196796955706757, 'colsample_bytree': 0.31998303280144247, 'min_child_samples': 10, 'max_depth': 4, 'reg_alpha': 0.04220057397195014, 'reg_lambda': 0.00035705227567182956}. Best is trial 6 with value: 0.5237616631827886.\u001b[0m\n",
      "\u001b[32m[I 2022-10-07 09:31:04,036]\u001b[0m Trial 8 finished with value: 0.5250607187005246 and parameters: {'num_leaves': 47, 'subsample_freq': 2, 'subsample': 0.8388939068631416, 'colsample_bytree': 0.18739114821375513, 'min_child_samples': 51, 'max_depth': 3, 'reg_alpha': 0.8050778165087018, 'reg_lambda': 0.007492121411354244}. Best is trial 6 with value: 0.5237616631827886.\u001b[0m\n",
      "\u001b[32m[I 2022-10-07 09:31:21,706]\u001b[0m Trial 9 finished with value: 0.5236324103358526 and parameters: {'num_leaves': 196, 'subsample_freq': 4, 'subsample': 0.7653372214584715, 'colsample_bytree': 0.1352690130288886, 'min_child_samples': 17, 'max_depth': 4, 'reg_alpha': 0.0015295398277813735, 'reg_lambda': 0.0002984770033451218}. Best is trial 9 with value: 0.5236324103358526.\u001b[0m\n",
      "\u001b[32m[I 2022-10-07 09:33:34,065]\u001b[0m Trial 10 finished with value: 0.5278234954873252 and parameters: {'num_leaves': 194, 'subsample_freq': 5, 'subsample': 0.957500434774104, 'colsample_bytree': 0.38665340662431213, 'min_child_samples': 2, 'max_depth': 11, 'reg_alpha': 0.12109191793343403, 'reg_lambda': 0.005729527523847856}. Best is trial 9 with value: 0.5236324103358526.\u001b[0m\n",
      "\u001b[32m[I 2022-10-07 09:34:32,149]\u001b[0m Trial 11 finished with value: 0.525675704517137 and parameters: {'num_leaves': 158, 'subsample_freq': 1, 'subsample': 0.46433456558961134, 'colsample_bytree': 0.37668486402310203, 'min_child_samples': 19, 'max_depth': 8, 'reg_alpha': 0.00011298708754150177, 'reg_lambda': 0.001694027560316386}. Best is trial 9 with value: 0.5236324103358526.\u001b[0m\n",
      "\u001b[32m[I 2022-10-07 09:34:54,951]\u001b[0m Trial 12 finished with value: 0.5282132404610842 and parameters: {'num_leaves': 66, 'subsample_freq': 4, 'subsample': 0.40640062685397366, 'colsample_bytree': 0.8265823499831317, 'min_child_samples': 19, 'max_depth': 1, 'reg_alpha': 0.00138411399702337, 'reg_lambda': 0.00010091350292770656}. Best is trial 9 with value: 0.5236324103358526.\u001b[0m\n",
      "\u001b[32m[I 2022-10-07 09:36:17,503]\u001b[0m Trial 13 finished with value: 0.5246502737852393 and parameters: {'num_leaves': 148, 'subsample_freq': 1, 'subsample': 0.6303682720800305, 'colsample_bytree': 0.7266557844411303, 'min_child_samples': 47, 'max_depth': 7, 'reg_alpha': 0.002515460954870808, 'reg_lambda': 0.001457963833595796}. Best is trial 9 with value: 0.5236324103358526.\u001b[0m\n",
      "\u001b[32m[I 2022-10-07 09:37:21,774]\u001b[0m Trial 14 finished with value: 0.5252565699913718 and parameters: {'num_leaves': 90, 'subsample_freq': 3, 'subsample': 0.35979907364738517, 'colsample_bytree': 0.47731604474101536, 'min_child_samples': 22, 'max_depth': 8, 'reg_alpha': 0.00039293497431647, 'reg_lambda': 0.0012111389071599147}. Best is trial 9 with value: 0.5236324103358526.\u001b[0m\n",
      "\u001b[32m[I 2022-10-07 09:38:38,189]\u001b[0m Trial 15 finished with value: 0.5269772133792372 and parameters: {'num_leaves': 173, 'subsample_freq': 2, 'subsample': 0.9509513444498068, 'colsample_bytree': 0.24157187825922033, 'min_child_samples': 10, 'max_depth': 13, 'reg_alpha': 0.02053229626002673, 'reg_lambda': 0.021238915277235818}. Best is trial 9 with value: 0.5236324103358526.\u001b[0m\n",
      "\u001b[32m[I 2022-10-07 09:38:51,094]\u001b[0m Trial 16 finished with value: 0.5241862289543618 and parameters: {'num_leaves': 118, 'subsample_freq': 4, 'subsample': 0.6014889962587971, 'colsample_bytree': 0.11181717014508687, 'min_child_samples': 60, 'max_depth': 5, 'reg_alpha': 0.002622549381126924, 'reg_lambda': 0.0007925077317386705}. Best is trial 9 with value: 0.5236324103358526.\u001b[0m\n",
      "\u001b[32m[I 2022-10-07 09:39:11,273]\u001b[0m Trial 17 finished with value: 0.5280584259417311 and parameters: {'num_leaves': 54, 'subsample_freq': 1, 'subsample': 0.7151668198725288, 'colsample_bytree': 0.2786360403276728, 'min_child_samples': 12, 'max_depth': 1, 'reg_alpha': 0.0003024574116995063, 'reg_lambda': 0.003313057829703319}. Best is trial 9 with value: 0.5236324103358526.\u001b[0m\n",
      "\u001b[32m[I 2022-10-07 09:41:19,155]\u001b[0m Trial 18 finished with value: 0.5264738566088973 and parameters: {'num_leaves': 123, 'subsample_freq': 5, 'subsample': 0.7238382866780985, 'colsample_bytree': 0.46133372618480023, 'min_child_samples': 1, 'max_depth': 16, 'reg_alpha': 0.014489461040422294, 'reg_lambda': 0.00010165309117303915}. Best is trial 9 with value: 0.5236324103358526.\u001b[0m\n",
      "\u001b[32m[I 2022-10-07 09:42:31,595]\u001b[0m Trial 19 finished with value: 0.5266637459676284 and parameters: {'num_leaves': 171, 'subsample_freq': 3, 'subsample': 0.32332515279599205, 'colsample_bytree': 0.7809395908116294, 'min_child_samples': 50, 'max_depth': 10, 'reg_alpha': 0.0005802888417301297, 'reg_lambda': 0.02069558078994575}. Best is trial 9 with value: 0.5236324103358526.\u001b[0m\n",
      "\u001b[32m[I 2022-10-07 09:43:47,053]\u001b[0m Trial 20 finished with value: 0.5254877589123311 and parameters: {'num_leaves': 88, 'subsample_freq': 3, 'subsample': 0.5329786845104201, 'colsample_bytree': 0.5044644117407713, 'min_child_samples': 44, 'max_depth': 16, 'reg_alpha': 0.003075579715455234, 'reg_lambda': 0.0005830652240964323}. Best is trial 9 with value: 0.5236324103358526.\u001b[0m\n",
      "\u001b[32m[I 2022-10-07 09:44:00,266]\u001b[0m Trial 21 finished with value: 0.5242317142713898 and parameters: {'num_leaves': 111, 'subsample_freq': 4, 'subsample': 0.6156470028845191, 'colsample_bytree': 0.10326759327493198, 'min_child_samples': 59, 'max_depth': 5, 'reg_alpha': 0.0018749612224952784, 'reg_lambda': 0.0007914439560290752}. Best is trial 9 with value: 0.5236324103358526.\u001b[0m\n",
      "\u001b[32m[I 2022-10-07 09:44:14,014]\u001b[0m Trial 22 finished with value: 0.5238409658263636 and parameters: {'num_leaves': 133, 'subsample_freq': 4, 'subsample': 0.5871497377324072, 'colsample_bytree': 0.1015634697198474, 'min_child_samples': 55, 'max_depth': 5, 'reg_alpha': 0.004458258461920616, 'reg_lambda': 0.0028081005210855276}. Best is trial 9 with value: 0.5236324103358526.\u001b[0m\n",
      "\u001b[32m[I 2022-10-07 09:44:40,319]\u001b[0m Trial 23 finished with value: 0.5244440191617779 and parameters: {'num_leaves': 145, 'subsample_freq': 4, 'subsample': 0.8600336694707488, 'colsample_bytree': 0.21659845151866208, 'min_child_samples': 54, 'max_depth': 6, 'reg_alpha': 0.005383864609112128, 'reg_lambda': 0.0029446257537202045}. Best is trial 9 with value: 0.5236324103358526.\u001b[0m\n",
      "\u001b[32m[I 2022-10-07 09:44:55,868]\u001b[0m Trial 24 finished with value: 0.5254084679456195 and parameters: {'num_leaves': 178, 'subsample_freq': 5, 'subsample': 0.47737775356806794, 'colsample_bytree': 0.35049958071041953, 'min_child_samples': 54, 'max_depth': 2, 'reg_alpha': 0.028217065541161813, 'reg_lambda': 0.00019745188986159887}. Best is trial 9 with value: 0.5236324103358526.\u001b[0m\n",
      "\u001b[32m[I 2022-10-07 09:45:38,562]\u001b[0m Trial 25 finished with value: 0.5245342365547968 and parameters: {'num_leaves': 69, 'subsample_freq': 3, 'subsample': 0.6906047411997114, 'colsample_bytree': 0.2780410689868067, 'min_child_samples': 26, 'max_depth': 9, 'reg_alpha': 0.057682808966569736, 'reg_lambda': 0.0024983176138440068}. Best is trial 9 with value: 0.5236324103358526.\u001b[0m\n",
      "\u001b[32m[I 2022-10-07 09:46:05,092]\u001b[0m Trial 26 finished with value: 0.5238325625503499 and parameters: {'num_leaves': 42, 'subsample_freq': 2, 'subsample': 0.5668152869221657, 'colsample_bytree': 0.16404210218855597, 'min_child_samples': 43, 'max_depth': 13, 'reg_alpha': 0.0009911215586330155, 'reg_lambda': 0.00047763849599425674}. Best is trial 9 with value: 0.5236324103358526.\u001b[0m\n",
      "\u001b[32m[I 2022-10-07 09:46:51,980]\u001b[0m Trial 27 finished with value: 0.5245643971984635 and parameters: {'num_leaves': 29, 'subsample_freq': 2, 'subsample': 0.7677397456781873, 'colsample_bytree': 0.4150802507544018, 'min_child_samples': 42, 'max_depth': 14, 'reg_alpha': 0.0008713279825164309, 'reg_lambda': 0.0005933434094398416}. Best is trial 9 with value: 0.5236324103358526.\u001b[0m\n",
      "\u001b[32m[I 2022-10-07 09:47:26,727]\u001b[0m Trial 28 finished with value: 0.5245301562206447 and parameters: {'num_leaves': 48, 'subsample_freq': 2, 'subsample': 0.8770774636496969, 'colsample_bytree': 0.18156624211376615, 'min_child_samples': 28, 'max_depth': 30, 'reg_alpha': 0.00023509935400136138, 'reg_lambda': 0.00018444443086082287}. Best is trial 9 with value: 0.5236324103358526.\u001b[0m\n",
      "\u001b[32m[I 2022-10-07 09:48:35,954]\u001b[0m Trial 29 finished with value: 0.5242560649057438 and parameters: {'num_leaves': 22, 'subsample_freq': 1, 'subsample': 0.6650020756180582, 'colsample_bytree': 0.6601308338458662, 'min_child_samples': 38, 'max_depth': 18, 'reg_alpha': 0.000101691332153486, 'reg_lambda': 0.00036634136745095894}. Best is trial 9 with value: 0.5236324103358526.\u001b[0m\n",
      "\u001b[32m[I 2022-10-07 09:49:20,435]\u001b[0m Trial 30 finished with value: 0.5243882603882695 and parameters: {'num_leaves': 59, 'subsample_freq': 2, 'subsample': 0.45883813308102156, 'colsample_bytree': 0.28532626544379747, 'min_child_samples': 16, 'max_depth': 11, 'reg_alpha': 0.0004846788152496781, 'reg_lambda': 0.0009559262480068423}. Best is trial 9 with value: 0.5236324103358526.\u001b[0m\n",
      "\u001b[32m[I 2022-10-07 09:49:32,668]\u001b[0m Trial 31 finished with value: 0.5242325516830914 and parameters: {'num_leaves': 102, 'subsample_freq': 4, 'subsample': 0.5584661344548776, 'colsample_bytree': 0.13962659442630032, 'min_child_samples': 55, 'max_depth': 3, 'reg_alpha': 0.005188029368431819, 'reg_lambda': 0.005115597368040044}. Best is trial 9 with value: 0.5236324103358526.\u001b[0m\n",
      "\u001b[32m[I 2022-10-07 09:49:54,853]\u001b[0m Trial 32 finished with value: 0.5238601817069434 and parameters: {'num_leaves': 39, 'subsample_freq': 3, 'subsample': 0.5598102746083614, 'colsample_bytree': 0.2271533343602873, 'min_child_samples': 47, 'max_depth': 5, 'reg_alpha': 0.010908141710311629, 'reg_lambda': 0.01229061185061558}. Best is trial 9 with value: 0.5236324103358526.\u001b[0m\n",
      "\u001b[32m[I 2022-10-07 09:50:56,417]\u001b[0m Trial 33 finished with value: 0.5249783340361232 and parameters: {'num_leaves': 200, 'subsample_freq': 4, 'subsample': 0.7677502994915005, 'colsample_bytree': 0.6066575683414865, 'min_child_samples': 32, 'max_depth': 6, 'reg_alpha': 0.003886716235866462, 'reg_lambda': 0.00045169323784664117}. Best is trial 9 with value: 0.5236324103358526.\u001b[0m\n",
      "\u001b[32m[I 2022-10-07 09:51:25,456]\u001b[0m Trial 34 finished with value: 0.5249420126776837 and parameters: {'num_leaves': 76, 'subsample_freq': 5, 'subsample': 0.6488584352614843, 'colsample_bytree': 0.16676884648823076, 'min_child_samples': 57, 'max_depth': 26, 'reg_alpha': 0.0013562966189830472, 'reg_lambda': 0.00019719327511784132}. Best is trial 9 with value: 0.5236324103358526.\u001b[0m\n",
      "\u001b[32m[I 2022-10-07 09:54:16,606]\u001b[0m Trial 35 finished with value: 0.5274872123371128 and parameters: {'num_leaves': 132, 'subsample_freq': 3, 'subsample': 0.5831644951852482, 'colsample_bytree': 0.9721213393552461, 'min_child_samples': 50, 'max_depth': 23, 'reg_alpha': 0.00828629473608276, 'reg_lambda': 0.41995047600048124}. Best is trial 9 with value: 0.5236324103358526.\u001b[0m\n",
      "\u001b[32m[I 2022-10-07 09:54:55,748]\u001b[0m Trial 36 finished with value: 0.5245064478228938 and parameters: {'num_leaves': 10, 'subsample_freq': 2, 'subsample': 0.5077378097969372, 'colsample_bytree': 0.5322051961930565, 'min_child_samples': 35, 'max_depth': 3, 'reg_alpha': 0.0009265884726523849, 'reg_lambda': 0.0002764784002917188}. Best is trial 9 with value: 0.5236324103358526.\u001b[0m\n",
      "\u001b[32m[I 2022-10-07 09:55:16,420]\u001b[0m Trial 37 finished with value: 0.5246443975982709 and parameters: {'num_leaves': 38, 'subsample_freq': 4, 'subsample': 0.7770663614091744, 'colsample_bytree': 0.10549950857679323, 'min_child_samples': 46, 'max_depth': 10, 'reg_alpha': 0.0001830282997376388, 'reg_lambda': 0.001703454266415789}. Best is trial 9 with value: 0.5236324103358526.\u001b[0m\n",
      "\u001b[32m[I 2022-10-07 09:55:47,347]\u001b[0m Trial 38 finished with value: 0.525203537582258 and parameters: {'num_leaves': 185, 'subsample_freq': 3, 'subsample': 0.4108904967377349, 'colsample_bytree': 0.3324518918248588, 'min_child_samples': 52, 'max_depth': 7, 'reg_alpha': 0.001694955419133394, 'reg_lambda': 0.20784442238832262}. Best is trial 9 with value: 0.5236324103358526.\u001b[0m\n",
      "\u001b[32m[I 2022-10-07 09:56:13,319]\u001b[0m Trial 39 finished with value: 0.5263454119628933 and parameters: {'num_leaves': 83, 'subsample_freq': 1, 'subsample': 0.22718781180980474, 'colsample_bytree': 0.20099306826960595, 'min_child_samples': 41, 'max_depth': 12, 'reg_alpha': 0.35549365635973174, 'reg_lambda': 0.00013082847220688908}. Best is trial 9 with value: 0.5236324103358526.\u001b[0m\n",
      "\u001b[32m[I 2022-10-07 09:56:43,046]\u001b[0m Trial 40 finished with value: 0.5262829585955193 and parameters: {'num_leaves': 99, 'subsample_freq': 2, 'subsample': 0.9225516047727699, 'colsample_bytree': 0.4314738658260099, 'min_child_samples': 56, 'max_depth': 4, 'reg_alpha': 0.000732613821422146, 'reg_lambda': 0.06407142334701105}. Best is trial 9 with value: 0.5236324103358526.\u001b[0m\n",
      "\u001b[32m[I 2022-10-07 09:57:04,765]\u001b[0m Trial 41 finished with value: 0.5240391266826996 and parameters: {'num_leaves': 41, 'subsample_freq': 3, 'subsample': 0.548499471434023, 'colsample_bytree': 0.23846183052769948, 'min_child_samples': 48, 'max_depth': 5, 'reg_alpha': 0.009771468462775533, 'reg_lambda': 0.015284531653179249}. Best is trial 9 with value: 0.5236324103358526.\u001b[0m\n",
      "\u001b[32m[I 2022-10-07 09:57:19,286]\u001b[0m Trial 42 finished with value: 0.5275181308254442 and parameters: {'num_leaves': 19, 'subsample_freq': 3, 'subsample': 0.6700329029755075, 'colsample_bytree': 0.1407928116156148, 'min_child_samples': 60, 'max_depth': 1, 'reg_alpha': 0.0157342107635458, 'reg_lambda': 0.011240458117927484}. Best is trial 9 with value: 0.5236324103358526.\u001b[0m\n",
      "\u001b[32m[I 2022-10-07 09:58:02,261]\u001b[0m Trial 43 finished with value: 0.5251560058806848 and parameters: {'num_leaves': 61, 'subsample_freq': 4, 'subsample': 0.5100525531095469, 'colsample_bytree': 0.2507576601021071, 'min_child_samples': 5, 'max_depth': 8, 'reg_alpha': 0.004053226216686653, 'reg_lambda': 0.008824004296280916}. Best is trial 9 with value: 0.5236324103358526.\u001b[0m\n",
      "\u001b[32m[I 2022-10-07 09:58:15,963]\u001b[0m Trial 44 finished with value: 0.5243918475416758 and parameters: {'num_leaves': 31, 'subsample_freq': 2, 'subsample': 0.5846462857885292, 'colsample_bytree': 0.16935726027706471, 'min_child_samples': 38, 'max_depth': 4, 'reg_alpha': 0.0020405079325377887, 'reg_lambda': 0.03592533851129687}. Best is trial 9 with value: 0.5236324103358526.\u001b[0m\n",
      "\u001b[32m[I 2022-10-07 10:00:19,172]\u001b[0m Trial 45 finished with value: 0.5264515958414829 and parameters: {'num_leaves': 156, 'subsample_freq': 4, 'subsample': 0.4296565215225293, 'colsample_bytree': 0.8983466836432588, 'min_child_samples': 52, 'max_depth': 21, 'reg_alpha': 0.0666623254202901, 'reg_lambda': 0.9179115930983264}. Best is trial 9 with value: 0.5236324103358526.\u001b[0m\n",
      "\u001b[32m[I 2022-10-07 10:00:54,044]\u001b[0m Trial 46 finished with value: 0.5241663631712434 and parameters: {'num_leaves': 73, 'subsample_freq': 2, 'subsample': 0.6183916811244469, 'colsample_bytree': 0.3104781166857737, 'min_child_samples': 48, 'max_depth': 7, 'reg_alpha': 0.0011755250486862878, 'reg_lambda': 0.004162044273473384}. Best is trial 9 with value: 0.5236324103358526.\u001b[0m\n",
      "\u001b[32m[I 2022-10-07 10:01:06,522]\u001b[0m Trial 47 finished with value: 0.5238550257296057 and parameters: {'num_leaves': 47, 'subsample_freq': 5, 'subsample': 0.3371578145958203, 'colsample_bytree': 0.21296083803747518, 'min_child_samples': 45, 'max_depth': 3, 'reg_alpha': 0.006561129074407086, 'reg_lambda': 0.0021303983813941063}. Best is trial 9 with value: 0.5236324103358526.\u001b[0m\n",
      "\u001b[32m[I 2022-10-07 10:01:20,675]\u001b[0m Trial 48 finished with value: 0.5277822695738834 and parameters: {'num_leaves': 49, 'subsample_freq': 5, 'subsample': 0.11643631121572229, 'colsample_bytree': 0.1528313319226453, 'min_child_samples': 34, 'max_depth': 14, 'reg_alpha': 0.00038181302392768454, 'reg_lambda': 0.0020046914068677737}. Best is trial 9 with value: 0.5236324103358526.\u001b[0m\n",
      "\u001b[32m[I 2022-10-07 10:01:32,963]\u001b[0m Trial 49 finished with value: 0.5255088358652878 and parameters: {'num_leaves': 62, 'subsample_freq': 5, 'subsample': 0.2833626167070828, 'colsample_bytree': 0.3646760908759674, 'min_child_samples': 44, 'max_depth': 2, 'reg_alpha': 0.005834288796539893, 'reg_lambda': 0.0011507239463063377}. Best is trial 9 with value: 0.5236324103358526.\u001b[0m\n"
     ]
    },
    {
     "name": "stdout",
     "output_type": "stream",
     "text": [
      "最適パラメータ {'num_leaves': 196, 'subsample_freq': 4, 'subsample': 0.7653372214584715, 'colsample_bytree': 0.1352690130288886, 'min_child_samples': 17, 'max_depth': 4, 'reg_alpha': 0.0015295398277813735, 'reg_lambda': 0.0002984770033451218}\n",
      "スコア 0.5236324103358526\n",
      "Training until validation scores don't improve for 100 rounds\n"
     ]
    },
    {
     "name": "stderr",
     "output_type": "stream",
     "text": [
      "\u001b[32m[I 2022-10-07 10:01:34,257]\u001b[0m A new study created in memory with name: no-name-7b4c7d47-97bd-413b-a417-2e9fd716e0ee\u001b[0m\n"
     ]
    },
    {
     "name": "stdout",
     "output_type": "stream",
     "text": [
      "Early stopping, best iteration is:\n",
      "[108]\tvalid_0's binary_logloss: 0.644246\n",
      "fold: fold_5\n"
     ]
    },
    {
     "name": "stderr",
     "output_type": "stream",
     "text": [
      "\u001b[32m[I 2022-10-07 10:03:31,877]\u001b[0m Trial 0 finished with value: 0.5642762724778482 and parameters: {'num_leaves': 114, 'subsample_freq': 4, 'subsample': 0.6424870384644795, 'colsample_bytree': 0.5903948646972071, 'min_child_samples': 26, 'max_depth': 20, 'reg_alpha': 0.0056279320474151686, 'reg_lambda': 0.36905577292137587}. Best is trial 0 with value: 0.5642762724778482.\u001b[0m\n",
      "\u001b[32m[I 2022-10-07 10:05:38,508]\u001b[0m Trial 1 finished with value: 0.5661273746089118 and parameters: {'num_leaves': 194, 'subsample_freq': 2, 'subsample': 0.8125525342743981, 'colsample_bytree': 0.5760054277776141, 'min_child_samples': 35, 'max_depth': 28, 'reg_alpha': 0.00019237305096546508, 'reg_lambda': 0.00022310905607443037}. Best is trial 0 with value: 0.5642762724778482.\u001b[0m\n",
      "\u001b[32m[I 2022-10-07 10:07:02,590]\u001b[0m Trial 2 finished with value: 0.5652443170050153 and parameters: {'num_leaves': 13, 'subsample_freq': 5, 'subsample': 0.8003410758548655, 'colsample_bytree': 0.8830109334221372, 'min_child_samples': 59, 'max_depth': 24, 'reg_alpha': 0.007013219779945793, 'reg_lambda': 0.13246974647468437}. Best is trial 0 with value: 0.5642762724778482.\u001b[0m\n",
      "\u001b[32m[I 2022-10-07 10:08:11,737]\u001b[0m Trial 3 finished with value: 0.566091473946792 and parameters: {'num_leaves': 32, 'subsample_freq': 4, 'subsample': 0.22901795866814179, 'colsample_bytree': 0.9502020253446255, 'min_child_samples': 32, 'max_depth': 13, 'reg_alpha': 0.0011434638743472194, 'reg_lambda': 0.12500712230836253}. Best is trial 0 with value: 0.5642762724778482.\u001b[0m\n",
      "\u001b[32m[I 2022-10-07 10:08:40,615]\u001b[0m Trial 4 finished with value: 0.568105241187502 and parameters: {'num_leaves': 97, 'subsample_freq': 3, 'subsample': 0.11691082039271963, 'colsample_bytree': 0.6558719473682894, 'min_child_samples': 37, 'max_depth': 19, 'reg_alpha': 0.5956516018710561, 'reg_lambda': 0.0533680330275671}. Best is trial 0 with value: 0.5642762724778482.\u001b[0m\n",
      "\u001b[32m[I 2022-10-07 10:09:12,175]\u001b[0m Trial 5 finished with value: 0.564078302835411 and parameters: {'num_leaves': 78, 'subsample_freq': 3, 'subsample': 0.7278680763345383, 'colsample_bytree': 0.15420292446634287, 'min_child_samples': 41, 'max_depth': 21, 'reg_alpha': 0.0006942729492430148, 'reg_lambda': 0.00032787264983352813}. Best is trial 5 with value: 0.564078302835411.\u001b[0m\n",
      "\u001b[32m[I 2022-10-07 10:09:37,906]\u001b[0m Trial 6 finished with value: 0.5648432252585933 and parameters: {'num_leaves': 70, 'subsample_freq': 2, 'subsample': 0.6131770933760917, 'colsample_bytree': 0.4947413621160883, 'min_child_samples': 60, 'max_depth': 4, 'reg_alpha': 0.000684710557668405, 'reg_lambda': 0.00044181257379025503}. Best is trial 5 with value: 0.564078302835411.\u001b[0m\n",
      "\u001b[32m[I 2022-10-07 10:09:58,391]\u001b[0m Trial 7 finished with value: 0.5638817029023192 and parameters: {'num_leaves': 134, 'subsample_freq': 2, 'subsample': 0.5196796955706757, 'colsample_bytree': 0.31998303280144247, 'min_child_samples': 10, 'max_depth': 4, 'reg_alpha': 0.04220057397195014, 'reg_lambda': 0.00035705227567182956}. Best is trial 7 with value: 0.5638817029023192.\u001b[0m\n",
      "\u001b[32m[I 2022-10-07 10:10:12,406]\u001b[0m Trial 8 finished with value: 0.564754022498677 and parameters: {'num_leaves': 47, 'subsample_freq': 2, 'subsample': 0.8388939068631416, 'colsample_bytree': 0.18739114821375513, 'min_child_samples': 51, 'max_depth': 3, 'reg_alpha': 0.8050778165087018, 'reg_lambda': 0.007492121411354244}. Best is trial 7 with value: 0.5638817029023192.\u001b[0m\n",
      "\u001b[32m[I 2022-10-07 10:10:27,450]\u001b[0m Trial 9 finished with value: 0.5642025333665808 and parameters: {'num_leaves': 196, 'subsample_freq': 4, 'subsample': 0.7653372214584715, 'colsample_bytree': 0.1352690130288886, 'min_child_samples': 17, 'max_depth': 4, 'reg_alpha': 0.0015295398277813735, 'reg_lambda': 0.0002984770033451218}. Best is trial 7 with value: 0.5638817029023192.\u001b[0m\n",
      "\u001b[32m[I 2022-10-07 10:11:52,045]\u001b[0m Trial 10 finished with value: 0.5659549934854224 and parameters: {'num_leaves': 141, 'subsample_freq': 1, 'subsample': 0.43528139259694093, 'colsample_bytree': 0.34481910950866346, 'min_child_samples': 2, 'max_depth': 11, 'reg_alpha': 0.07746558108591702, 'reg_lambda': 0.005429927843674223}. Best is trial 7 with value: 0.5638817029023192.\u001b[0m\n",
      "\u001b[32m[I 2022-10-07 10:12:56,914]\u001b[0m Trial 11 finished with value: 0.5665489151991054 and parameters: {'num_leaves': 145, 'subsample_freq': 3, 'subsample': 0.4369501635075619, 'colsample_bytree': 0.31539010701443254, 'min_child_samples': 5, 'max_depth': 9, 'reg_alpha': 0.045813873151752796, 'reg_lambda': 0.001694027560316386}. Best is trial 7 with value: 0.5638817029023192.\u001b[0m\n",
      "\u001b[32m[I 2022-10-07 10:13:42,382]\u001b[0m Trial 12 finished with value: 0.5654302561453569 and parameters: {'num_leaves': 88, 'subsample_freq': 1, 'subsample': 0.47884217152203434, 'colsample_bytree': 0.3030340141479584, 'min_child_samples': 45, 'max_depth': 17, 'reg_alpha': 0.06225639272716481, 'reg_lambda': 0.00010119377138546869}. Best is trial 7 with value: 0.5638817029023192.\u001b[0m\n",
      "\u001b[32m[I 2022-10-07 10:14:20,500]\u001b[0m Trial 13 finished with value: 0.5653828304500237 and parameters: {'num_leaves': 136, 'subsample_freq': 2, 'subsample': 0.983424834199844, 'colsample_bytree': 0.11274822771551006, 'min_child_samples': 20, 'max_depth': 30, 'reg_alpha': 0.00011759870672286409, 'reg_lambda': 0.0016147963594958326}. Best is trial 7 with value: 0.5638817029023192.\u001b[0m\n",
      "\u001b[32m[I 2022-10-07 10:15:50,962]\u001b[0m Trial 14 finished with value: 0.5677302613204457 and parameters: {'num_leaves': 172, 'subsample_freq': 3, 'subsample': 0.35979907364738517, 'colsample_bytree': 0.42507946610167385, 'min_child_samples': 11, 'max_depth': 22, 'reg_alpha': 0.019369062908202263, 'reg_lambda': 0.0013721847816103644}. Best is trial 7 with value: 0.5638817029023192.\u001b[0m\n",
      "\u001b[32m[I 2022-10-07 10:16:20,940]\u001b[0m Trial 15 finished with value: 0.5635997974973742 and parameters: {'num_leaves': 60, 'subsample_freq': 1, 'subsample': 0.6735197804220914, 'colsample_bytree': 0.23780392657003505, 'min_child_samples': 42, 'max_depth': 7, 'reg_alpha': 0.003693889188376749, 'reg_lambda': 0.021238915277235818}. Best is trial 15 with value: 0.5635997974973742.\u001b[0m\n",
      "\u001b[32m[I 2022-10-07 10:16:55,976]\u001b[0m Trial 16 finished with value: 0.565021725298049 and parameters: {'num_leaves': 60, 'subsample_freq': 1, 'subsample': 0.5782471326164268, 'colsample_bytree': 0.27408441488156154, 'min_child_samples': 25, 'max_depth': 8, 'reg_alpha': 0.22676501116213518, 'reg_lambda': 0.027947297518904752}. Best is trial 15 with value: 0.5635997974973742.\u001b[0m\n",
      "\u001b[32m[I 2022-10-07 10:17:12,561]\u001b[0m Trial 17 finished with value: 0.5672067709925193 and parameters: {'num_leaves': 111, 'subsample_freq': 1, 'subsample': 0.31081431266745047, 'colsample_bytree': 0.7220136584799766, 'min_child_samples': 46, 'max_depth': 1, 'reg_alpha': 0.002924835998686092, 'reg_lambda': 0.020542663762057756}. Best is trial 15 with value: 0.5635997974973742.\u001b[0m\n",
      "\u001b[32m[I 2022-10-07 10:18:06,497]\u001b[0m Trial 18 finished with value: 0.5647584464205173 and parameters: {'num_leaves': 166, 'subsample_freq': 2, 'subsample': 0.939445202766416, 'colsample_bytree': 0.39046950672224157, 'min_child_samples': 16, 'max_depth': 7, 'reg_alpha': 0.014489461040422294, 'reg_lambda': 0.0034631039266834703}. Best is trial 15 with value: 0.5635997974973742.\u001b[0m\n",
      "\u001b[32m[I 2022-10-07 10:19:05,192]\u001b[0m Trial 19 finished with value: 0.5652521437915935 and parameters: {'num_leaves': 129, 'subsample_freq': 1, 'subsample': 0.6784086219344866, 'colsample_bytree': 0.22895592267892234, 'min_child_samples': 9, 'max_depth': 14, 'reg_alpha': 0.1818919783247493, 'reg_lambda': 0.02069558078994575}. Best is trial 15 with value: 0.5635997974973742.\u001b[0m\n",
      "\u001b[32m[I 2022-10-07 10:19:44,131]\u001b[0m Trial 20 finished with value: 0.5635073554648222 and parameters: {'num_leaves': 42, 'subsample_freq': 2, 'subsample': 0.5248072682011129, 'colsample_bytree': 0.4520106646431064, 'min_child_samples': 27, 'max_depth': 6, 'reg_alpha': 0.029924612392258146, 'reg_lambda': 0.8125309050537558}. Best is trial 20 with value: 0.5635073554648222.\u001b[0m\n",
      "\u001b[32m[I 2022-10-07 10:20:24,040]\u001b[0m Trial 21 finished with value: 0.5637938126288188 and parameters: {'num_leaves': 38, 'subsample_freq': 2, 'subsample': 0.5425773648096102, 'colsample_bytree': 0.43662183612373856, 'min_child_samples': 27, 'max_depth': 6, 'reg_alpha': 0.025476972934615278, 'reg_lambda': 0.8268051215066036}. Best is trial 20 with value: 0.5635073554648222.\u001b[0m\n",
      "\u001b[32m[I 2022-10-07 10:21:15,194]\u001b[0m Trial 22 finished with value: 0.5632476226691987 and parameters: {'num_leaves': 34, 'subsample_freq': 2, 'subsample': 0.5521811708659964, 'colsample_bytree': 0.4710910954564057, 'min_child_samples': 26, 'max_depth': 7, 'reg_alpha': 0.02024983706622042, 'reg_lambda': 0.7998811455731946}. Best is trial 22 with value: 0.5632476226691987.\u001b[0m\n",
      "\u001b[32m[I 2022-10-07 10:22:08,574]\u001b[0m Trial 23 finished with value: 0.5645854293509918 and parameters: {'num_leaves': 13, 'subsample_freq': 1, 'subsample': 0.6957628115646156, 'colsample_bytree': 0.7328417190391348, 'min_child_samples': 31, 'max_depth': 11, 'reg_alpha': 0.0035981644546312147, 'reg_lambda': 0.8192983894826661}. Best is trial 22 with value: 0.5632476226691987.\u001b[0m\n",
      "\u001b[32m[I 2022-10-07 10:23:16,981]\u001b[0m Trial 24 finished with value: 0.5646168662305305 and parameters: {'num_leaves': 55, 'subsample_freq': 1, 'subsample': 0.6015576479850472, 'colsample_bytree': 0.4834552013457285, 'min_child_samples': 21, 'max_depth': 10, 'reg_alpha': 0.01041954144551606, 'reg_lambda': 0.24927478883254614}. Best is trial 22 with value: 0.5632476226691987.\u001b[0m\n",
      "\u001b[32m[I 2022-10-07 10:23:53,833]\u001b[0m Trial 25 finished with value: 0.5635842186377034 and parameters: {'num_leaves': 32, 'subsample_freq': 2, 'subsample': 0.36411902644756705, 'colsample_bytree': 0.5242300676997608, 'min_child_samples': 39, 'max_depth': 6, 'reg_alpha': 0.21932309408245118, 'reg_lambda': 0.40462078476999014}. Best is trial 22 with value: 0.5632476226691987.\u001b[0m\n",
      "\u001b[32m[I 2022-10-07 10:24:06,873]\u001b[0m Trial 26 finished with value: 0.5677765509881303 and parameters: {'num_leaves': 29, 'subsample_freq': 3, 'subsample': 0.33391542051048456, 'colsample_bytree': 0.5192377588670036, 'min_child_samples': 34, 'max_depth': 1, 'reg_alpha': 0.18150156945174434, 'reg_lambda': 0.37941616486865826}. Best is trial 22 with value: 0.5632476226691987.\u001b[0m\n",
      "\u001b[32m[I 2022-10-07 10:24:53,135]\u001b[0m Trial 27 finished with value: 0.5639230149653847 and parameters: {'num_leaves': 25, 'subsample_freq': 2, 'subsample': 0.21936710615417393, 'colsample_bytree': 0.6372066266057894, 'min_child_samples': 28, 'max_depth': 13, 'reg_alpha': 0.11149645181738281, 'reg_lambda': 0.9505456580089128}. Best is trial 22 with value: 0.5632476226691987.\u001b[0m\n",
      "\u001b[32m[I 2022-10-07 10:26:21,279]\u001b[0m Trial 28 finished with value: 0.5636757564846615 and parameters: {'num_leaves': 43, 'subsample_freq': 3, 'subsample': 0.4004544832099097, 'colsample_bytree': 0.7743004954063085, 'min_child_samples': 39, 'max_depth': 16, 'reg_alpha': 0.35018301065748325, 'reg_lambda': 0.13108976397005612}. Best is trial 22 with value: 0.5632476226691987.\u001b[0m\n",
      "\u001b[32m[I 2022-10-07 10:26:52,066]\u001b[0m Trial 29 finished with value: 0.5646347583036387 and parameters: {'num_leaves': 76, 'subsample_freq': 5, 'subsample': 0.2656079297516689, 'colsample_bytree': 0.5772756952891847, 'min_child_samples': 24, 'max_depth': 5, 'reg_alpha': 0.02278040624752966, 'reg_lambda': 0.39682907596019706}. Best is trial 22 with value: 0.5632476226691987.\u001b[0m\n",
      "\u001b[32m[I 2022-10-07 10:27:13,514]\u001b[0m Trial 30 finished with value: 0.5656064631423602 and parameters: {'num_leaves': 21, 'subsample_freq': 2, 'subsample': 0.5039611005233681, 'colsample_bytree': 0.6388008370099683, 'min_child_samples': 53, 'max_depth': 2, 'reg_alpha': 0.1049374620509641, 'reg_lambda': 0.2215311231164157}. Best is trial 22 with value: 0.5632476226691987.\u001b[0m\n",
      "\u001b[32m[I 2022-10-07 10:27:58,836]\u001b[0m Trial 31 finished with value: 0.5640788013512995 and parameters: {'num_leaves': 58, 'subsample_freq': 2, 'subsample': 0.6586202613663543, 'colsample_bytree': 0.41085748675773304, 'min_child_samples': 41, 'max_depth': 7, 'reg_alpha': 0.006307463688944127, 'reg_lambda': 0.06741901179119687}. Best is trial 22 with value: 0.5632476226691987.\u001b[0m\n",
      "\u001b[32m[I 2022-10-07 10:28:52,349]\u001b[0m Trial 32 finished with value: 0.5639582147075585 and parameters: {'num_leaves': 45, 'subsample_freq': 1, 'subsample': 0.47531886194853296, 'colsample_bytree': 0.5563557330020972, 'min_child_samples': 45, 'max_depth': 8, 'reg_alpha': 0.002376595644473699, 'reg_lambda': 0.44194510462908954}. Best is trial 22 with value: 0.5632476226691987.\u001b[0m\n",
      "\u001b[32m[I 2022-10-07 10:29:20,540]\u001b[0m Trial 33 finished with value: 0.5634965202039388 and parameters: {'num_leaves': 62, 'subsample_freq': 2, 'subsample': 0.882185016570904, 'colsample_bytree': 0.23359241758275145, 'min_child_samples': 30, 'max_depth': 6, 'reg_alpha': 0.004844780867795575, 'reg_lambda': 0.5095270427230855}. Best is trial 22 with value: 0.5632476226691987.\u001b[0m\n",
      "\u001b[32m[I 2022-10-07 10:30:03,346]\u001b[0m Trial 34 finished with value: 0.564544143524152 and parameters: {'num_leaves': 18, 'subsample_freq': 2, 'subsample': 0.8640276606430789, 'colsample_bytree': 0.4635777897545625, 'min_child_samples': 34, 'max_depth': 11, 'reg_alpha': 0.0077170133906750964, 'reg_lambda': 0.5620134556300702}. Best is trial 22 with value: 0.5632476226691987.\u001b[0m\n",
      "\u001b[32m[I 2022-10-07 10:30:23,106]\u001b[0m Trial 35 finished with value: 0.5659597204781155 and parameters: {'num_leaves': 32, 'subsample_freq': 3, 'subsample': 0.12185252802412211, 'colsample_bytree': 0.3748368772739085, 'min_child_samples': 29, 'max_depth': 6, 'reg_alpha': 0.0349390485715118, 'reg_lambda': 0.21553143747343287}. Best is trial 22 with value: 0.5632476226691987.\u001b[0m\n",
      "\u001b[32m[I 2022-10-07 10:30:46,212]\u001b[0m Trial 36 finished with value: 0.5648035490873727 and parameters: {'num_leaves': 10, 'subsample_freq': 2, 'subsample': 0.17713901725401998, 'colsample_bytree': 0.5322051961930565, 'min_child_samples': 36, 'max_depth': 9, 'reg_alpha': 0.011026579599712741, 'reg_lambda': 0.06643109395245625}. Best is trial 22 with value: 0.5632476226691987.\u001b[0m\n",
      "\u001b[32m[I 2022-10-07 10:31:23,858]\u001b[0m Trial 37 finished with value: 0.5662123299072024 and parameters: {'num_leaves': 97, 'subsample_freq': 3, 'subsample': 0.8814712114219554, 'colsample_bytree': 0.8708425265466437, 'min_child_samples': 22, 'max_depth': 3, 'reg_alpha': 0.0004166352199896743, 'reg_lambda': 0.598124794460991}. Best is trial 22 with value: 0.5632476226691987.\u001b[0m\n",
      "\u001b[32m[I 2022-10-07 10:32:05,345]\u001b[0m Trial 38 finished with value: 0.5649037371606309 and parameters: {'num_leaves': 68, 'subsample_freq': 4, 'subsample': 0.7841273712267953, 'colsample_bytree': 0.6074950612986426, 'min_child_samples': 31, 'max_depth': 5, 'reg_alpha': 0.004886693422673903, 'reg_lambda': 0.23043243673123381}. Best is trial 22 with value: 0.5632476226691987.\u001b[0m\n",
      "\u001b[32m[I 2022-10-07 10:33:01,040]\u001b[0m Trial 39 finished with value: 0.5641968290031592 and parameters: {'num_leaves': 37, 'subsample_freq': 2, 'subsample': 0.3827373067705624, 'colsample_bytree': 0.47378382136970043, 'min_child_samples': 16, 'max_depth': 13, 'reg_alpha': 0.36655146323153925, 'reg_lambda': 0.08660902072833396}. Best is trial 22 with value: 0.5632476226691987.\u001b[0m\n",
      "\u001b[32m[I 2022-10-07 10:33:40,746]\u001b[0m Trial 40 finished with value: 0.5650362519474954 and parameters: {'num_leaves': 50, 'subsample_freq': 2, 'subsample': 0.29677519325919266, 'colsample_bytree': 0.36774142263939624, 'min_child_samples': 37, 'max_depth': 26, 'reg_alpha': 0.001682916643696164, 'reg_lambda': 0.040514436624464044}. Best is trial 22 with value: 0.5632476226691987.\u001b[0m\n",
      "\u001b[32m[I 2022-10-07 10:34:03,520]\u001b[0m Trial 41 finished with value: 0.5639807386059216 and parameters: {'num_leaves': 66, 'subsample_freq': 1, 'subsample': 0.625341063665323, 'colsample_bytree': 0.24160494979762862, 'min_child_samples': 42, 'max_depth': 6, 'reg_alpha': 0.0048917651218449475, 'reg_lambda': 0.16996666597577645}. Best is trial 22 with value: 0.5632476226691987.\u001b[0m\n",
      "\u001b[32m[I 2022-10-07 10:34:16,014]\u001b[0m Trial 42 finished with value: 0.5642637993240258 and parameters: {'num_leaves': 80, 'subsample_freq': 2, 'subsample': 0.5699416276352987, 'colsample_bytree': 0.18858034928435136, 'min_child_samples': 50, 'max_depth': 3, 'reg_alpha': 0.01427536849032739, 'reg_lambda': 0.3032306313211296}. Best is trial 22 with value: 0.5632476226691987.\u001b[0m\n",
      "\u001b[32m[I 2022-10-07 10:34:45,175]\u001b[0m Trial 43 finished with value: 0.5635430636170216 and parameters: {'num_leaves': 55, 'subsample_freq': 2, 'subsample': 0.7410809630844253, 'colsample_bytree': 0.18317599594623662, 'min_child_samples': 33, 'max_depth': 8, 'reg_alpha': 0.0012112869713262313, 'reg_lambda': 0.5847971857910461}. Best is trial 22 with value: 0.5632476226691987.\u001b[0m\n",
      "\u001b[32m[I 2022-10-07 10:35:13,521]\u001b[0m Trial 44 finished with value: 0.5639318181317277 and parameters: {'num_leaves': 49, 'subsample_freq': 2, 'subsample': 0.7365443398948343, 'colsample_bytree': 0.1771080360498087, 'min_child_samples': 33, 'max_depth': 9, 'reg_alpha': 0.0007711357472422941, 'reg_lambda': 0.628600440459091}. Best is trial 22 with value: 0.5632476226691987.\u001b[0m\n",
      "\u001b[32m[I 2022-10-07 10:35:37,519]\u001b[0m Trial 45 finished with value: 0.5649298182593014 and parameters: {'num_leaves': 36, 'subsample_freq': 3, 'subsample': 0.9593625459912216, 'colsample_bytree': 0.2872230359583606, 'min_child_samples': 29, 'max_depth': 5, 'reg_alpha': 0.00037126152049882607, 'reg_lambda': 0.9636367167765061}. Best is trial 22 with value: 0.5632476226691987.\u001b[0m\n",
      "\u001b[32m[I 2022-10-07 10:36:49,585]\u001b[0m Trial 46 finished with value: 0.5645880868299338 and parameters: {'num_leaves': 88, 'subsample_freq': 2, 'subsample': 0.9145432634837831, 'colsample_bytree': 0.33887547494285564, 'min_child_samples': 39, 'max_depth': 12, 'reg_alpha': 0.0519432029424466, 'reg_lambda': 0.10237545696237957}. Best is trial 22 with value: 0.5632476226691987.\u001b[0m\n",
      "\u001b[32m[I 2022-10-07 10:37:01,563]\u001b[0m Trial 47 finished with value: 0.5633656374599457 and parameters: {'num_leaves': 25, 'subsample_freq': 2, 'subsample': 0.4351290748982807, 'colsample_bytree': 0.11372072927503174, 'min_child_samples': 24, 'max_depth': 4, 'reg_alpha': 0.0012958268843446597, 'reg_lambda': 0.5339177733824534}. Best is trial 22 with value: 0.5632476226691987.\u001b[0m\n",
      "\u001b[32m[I 2022-10-07 10:37:11,834]\u001b[0m Trial 48 finished with value: 0.5646224060571461 and parameters: {'num_leaves': 22, 'subsample_freq': 3, 'subsample': 0.4326143144544206, 'colsample_bytree': 0.1684701869090331, 'min_child_samples': 25, 'max_depth': 2, 'reg_alpha': 0.0011004327220140273, 'reg_lambda': 0.14510604810277677}. Best is trial 22 with value: 0.5632476226691987.\u001b[0m\n",
      "\u001b[32m[I 2022-10-07 10:37:24,551]\u001b[0m Trial 49 finished with value: 0.5640882952144346 and parameters: {'num_leaves': 42, 'subsample_freq': 4, 'subsample': 0.8207822642764412, 'colsample_bytree': 0.11133046790050755, 'min_child_samples': 19, 'max_depth': 4, 'reg_alpha': 0.001679646697043659, 'reg_lambda': 0.554704793138581}. Best is trial 22 with value: 0.5632476226691987.\u001b[0m\n"
     ]
    },
    {
     "name": "stdout",
     "output_type": "stream",
     "text": [
      "最適パラメータ {'num_leaves': 34, 'subsample_freq': 2, 'subsample': 0.5521811708659964, 'colsample_bytree': 0.4710910954564057, 'min_child_samples': 26, 'max_depth': 7, 'reg_alpha': 0.02024983706622042, 'reg_lambda': 0.7998811455731946}\n",
      "スコア 0.5632476226691987\n",
      "Training until validation scores don't improve for 100 rounds\n"
     ]
    },
    {
     "name": "stderr",
     "output_type": "stream",
     "text": [
      "\u001b[32m[I 2022-10-07 10:37:28,345]\u001b[0m A new study created in memory with name: no-name-2dca60e9-8f20-4aee-b437-f562e203e704\u001b[0m\n"
     ]
    },
    {
     "name": "stdout",
     "output_type": "stream",
     "text": [
      "Early stopping, best iteration is:\n",
      "[119]\tvalid_0's binary_logloss: 0.640907\n",
      "fold: fold_4\n"
     ]
    },
    {
     "name": "stderr",
     "output_type": "stream",
     "text": [
      "\u001b[32m[I 2022-10-07 10:39:33,315]\u001b[0m Trial 0 finished with value: 0.5427412708408965 and parameters: {'num_leaves': 114, 'subsample_freq': 4, 'subsample': 0.6424870384644795, 'colsample_bytree': 0.5903948646972071, 'min_child_samples': 26, 'max_depth': 20, 'reg_alpha': 0.0056279320474151686, 'reg_lambda': 0.36905577292137587}. Best is trial 0 with value: 0.5427412708408965.\u001b[0m\n",
      "\u001b[32m[I 2022-10-07 10:42:01,490]\u001b[0m Trial 1 finished with value: 0.5440965808711645 and parameters: {'num_leaves': 194, 'subsample_freq': 2, 'subsample': 0.8125525342743981, 'colsample_bytree': 0.5760054277776141, 'min_child_samples': 35, 'max_depth': 28, 'reg_alpha': 0.00019237305096546508, 'reg_lambda': 0.00022310905607443037}. Best is trial 0 with value: 0.5427412708408965.\u001b[0m\n",
      "\u001b[32m[I 2022-10-07 10:43:08,564]\u001b[0m Trial 2 finished with value: 0.5428775657373013 and parameters: {'num_leaves': 13, 'subsample_freq': 5, 'subsample': 0.8003410758548655, 'colsample_bytree': 0.8830109334221372, 'min_child_samples': 59, 'max_depth': 24, 'reg_alpha': 0.007013219779945793, 'reg_lambda': 0.13246974647468437}. Best is trial 0 with value: 0.5427412708408965.\u001b[0m\n",
      "\u001b[32m[I 2022-10-07 10:44:19,235]\u001b[0m Trial 3 finished with value: 0.543575047813471 and parameters: {'num_leaves': 32, 'subsample_freq': 4, 'subsample': 0.22901795866814179, 'colsample_bytree': 0.9502020253446255, 'min_child_samples': 32, 'max_depth': 13, 'reg_alpha': 0.0011434638743472194, 'reg_lambda': 0.12500712230836253}. Best is trial 0 with value: 0.5427412708408965.\u001b[0m\n",
      "\u001b[32m[I 2022-10-07 10:45:01,319]\u001b[0m Trial 4 finished with value: 0.5436162695987996 and parameters: {'num_leaves': 97, 'subsample_freq': 3, 'subsample': 0.11691082039271963, 'colsample_bytree': 0.6558719473682894, 'min_child_samples': 37, 'max_depth': 19, 'reg_alpha': 0.5956516018710561, 'reg_lambda': 0.0533680330275671}. Best is trial 0 with value: 0.5427412708408965.\u001b[0m\n",
      "\u001b[32m[I 2022-10-07 10:45:36,394]\u001b[0m Trial 5 finished with value: 0.5417245913871153 and parameters: {'num_leaves': 78, 'subsample_freq': 3, 'subsample': 0.7278680763345383, 'colsample_bytree': 0.15420292446634287, 'min_child_samples': 41, 'max_depth': 21, 'reg_alpha': 0.0006942729492430148, 'reg_lambda': 0.00032787264983352813}. Best is trial 5 with value: 0.5417245913871153.\u001b[0m\n",
      "\u001b[32m[I 2022-10-07 10:46:09,427]\u001b[0m Trial 6 finished with value: 0.5409588526668998 and parameters: {'num_leaves': 70, 'subsample_freq': 2, 'subsample': 0.6131770933760917, 'colsample_bytree': 0.4947413621160883, 'min_child_samples': 60, 'max_depth': 4, 'reg_alpha': 0.000684710557668405, 'reg_lambda': 0.00044181257379025503}. Best is trial 6 with value: 0.5409588526668998.\u001b[0m\n",
      "\u001b[32m[I 2022-10-07 10:46:32,656]\u001b[0m Trial 7 finished with value: 0.5404018478133052 and parameters: {'num_leaves': 134, 'subsample_freq': 2, 'subsample': 0.5196796955706757, 'colsample_bytree': 0.31998303280144247, 'min_child_samples': 10, 'max_depth': 4, 'reg_alpha': 0.04220057397195014, 'reg_lambda': 0.00035705227567182956}. Best is trial 7 with value: 0.5404018478133052.\u001b[0m\n",
      "\u001b[32m[I 2022-10-07 10:46:49,298]\u001b[0m Trial 8 finished with value: 0.5415039777468235 and parameters: {'num_leaves': 47, 'subsample_freq': 2, 'subsample': 0.8388939068631416, 'colsample_bytree': 0.18739114821375513, 'min_child_samples': 51, 'max_depth': 3, 'reg_alpha': 0.8050778165087018, 'reg_lambda': 0.007492121411354244}. Best is trial 7 with value: 0.5404018478133052.\u001b[0m\n",
      "\u001b[32m[I 2022-10-07 10:47:04,290]\u001b[0m Trial 9 finished with value: 0.5410705875442131 and parameters: {'num_leaves': 196, 'subsample_freq': 4, 'subsample': 0.7653372214584715, 'colsample_bytree': 0.1352690130288886, 'min_child_samples': 17, 'max_depth': 4, 'reg_alpha': 0.0015295398277813735, 'reg_lambda': 0.0002984770033451218}. Best is trial 7 with value: 0.5404018478133052.\u001b[0m\n",
      "\u001b[32m[I 2022-10-07 10:48:38,175]\u001b[0m Trial 10 finished with value: 0.5437462692753534 and parameters: {'num_leaves': 141, 'subsample_freq': 1, 'subsample': 0.43528139259694093, 'colsample_bytree': 0.34481910950866346, 'min_child_samples': 2, 'max_depth': 11, 'reg_alpha': 0.07746558108591702, 'reg_lambda': 0.005429927843674223}. Best is trial 7 with value: 0.5404018478133052.\u001b[0m\n",
      "\u001b[32m[I 2022-10-07 10:49:51,759]\u001b[0m Trial 11 finished with value: 0.5435437338986563 and parameters: {'num_leaves': 145, 'subsample_freq': 1, 'subsample': 0.462271846206401, 'colsample_bytree': 0.3863362508945871, 'min_child_samples': 5, 'max_depth': 8, 'reg_alpha': 0.045813873151752796, 'reg_lambda': 0.001694027560316386}. Best is trial 7 with value: 0.5404018478133052.\u001b[0m\n",
      "\u001b[32m[I 2022-10-07 10:50:13,291]\u001b[0m Trial 12 finished with value: 0.5447742230696117 and parameters: {'num_leaves': 64, 'subsample_freq': 2, 'subsample': 0.5509188312297488, 'colsample_bytree': 0.38659624502898243, 'min_child_samples': 16, 'max_depth': 1, 'reg_alpha': 0.06225639272716481, 'reg_lambda': 0.0013670741840999558}. Best is trial 7 with value: 0.5404018478133052.\u001b[0m\n",
      "\u001b[32m[I 2022-10-07 10:51:41,826]\u001b[0m Trial 13 finished with value: 0.544110195338429 and parameters: {'num_leaves': 136, 'subsample_freq': 2, 'subsample': 0.983424834199844, 'colsample_bytree': 0.7385593487482571, 'min_child_samples': 48, 'max_depth': 7, 'reg_alpha': 0.00011759870672286409, 'reg_lambda': 0.0010919007543814415}. Best is trial 7 with value: 0.5404018478133052.\u001b[0m\n",
      "\u001b[32m[I 2022-10-07 10:52:49,232]\u001b[0m Trial 14 finished with value: 0.5422521690361751 and parameters: {'num_leaves': 108, 'subsample_freq': 1, 'subsample': 0.35979907364738517, 'colsample_bytree': 0.47731604474101536, 'min_child_samples': 22, 'max_depth': 8, 'reg_alpha': 0.01951971940723559, 'reg_lambda': 0.00011317653064318344}. Best is trial 7 with value: 0.5404018478133052.\u001b[0m\n",
      "\u001b[32m[I 2022-10-07 10:54:04,661]\u001b[0m Trial 15 finished with value: 0.5437704891243151 and parameters: {'num_leaves': 162, 'subsample_freq': 3, 'subsample': 0.608925075140828, 'colsample_bytree': 0.26780134645499387, 'min_child_samples': 10, 'max_depth': 13, 'reg_alpha': 0.003693889188376749, 'reg_lambda': 0.021238915277235818}. Best is trial 7 with value: 0.5404018478133052.\u001b[0m\n",
      "\u001b[32m[I 2022-10-07 10:54:35,102]\u001b[0m Trial 16 finished with value: 0.5394715008850011 and parameters: {'num_leaves': 80, 'subsample_freq': 2, 'subsample': 0.3728565525188909, 'colsample_bytree': 0.4461359344653275, 'min_child_samples': 60, 'max_depth': 5, 'reg_alpha': 0.22676501116213518, 'reg_lambda': 0.0006740460328341064}. Best is trial 16 with value: 0.5394715008850011.\u001b[0m\n",
      "\u001b[32m[I 2022-10-07 10:55:10,716]\u001b[0m Trial 17 finished with value: 0.5433963739896382 and parameters: {'num_leaves': 94, 'subsample_freq': 1, 'subsample': 0.31081431266745047, 'colsample_bytree': 0.27573886799559644, 'min_child_samples': 45, 'max_depth': 16, 'reg_alpha': 0.2379367447397673, 'reg_lambda': 0.002954455358110843}. Best is trial 16 with value: 0.5394715008850011.\u001b[0m\n",
      "\u001b[32m[I 2022-10-07 10:55:33,989]\u001b[0m Trial 18 finished with value: 0.5452818656396659 and parameters: {'num_leaves': 167, 'subsample_freq': 2, 'subsample': 0.45274012317847184, 'colsample_bytree': 0.7674840375385434, 'min_child_samples': 27, 'max_depth': 1, 'reg_alpha': 0.16961119356304633, 'reg_lambda': 0.00010132864300735529}. Best is trial 16 with value: 0.5394715008850011.\u001b[0m\n",
      "\u001b[32m[I 2022-10-07 10:56:00,329]\u001b[0m Trial 19 finished with value: 0.5411096740376606 and parameters: {'num_leaves': 118, 'subsample_freq': 3, 'subsample': 0.22608757726939155, 'colsample_bytree': 0.4624177477448091, 'min_child_samples': 54, 'max_depth': 6, 'reg_alpha': 0.025888693732858972, 'reg_lambda': 0.0006704664458013125}. Best is trial 16 with value: 0.5394715008850011.\u001b[0m\n",
      "\u001b[32m[I 2022-10-07 10:56:45,711]\u001b[0m Trial 20 finished with value: 0.5434357550959916 and parameters: {'num_leaves': 84, 'subsample_freq': 3, 'subsample': 0.32844930841433273, 'colsample_bytree': 0.27689033820522274, 'min_child_samples': 10, 'max_depth': 10, 'reg_alpha': 0.17681928204335717, 'reg_lambda': 0.020759620835871833}. Best is trial 16 with value: 0.5394715008850011.\u001b[0m\n",
      "\u001b[32m[I 2022-10-07 10:57:12,289]\u001b[0m Trial 21 finished with value: 0.5414278216521808 and parameters: {'num_leaves': 65, 'subsample_freq': 2, 'subsample': 0.5477049206603697, 'colsample_bytree': 0.4970073173248731, 'min_child_samples': 59, 'max_depth': 4, 'reg_alpha': 0.019915515486125083, 'reg_lambda': 0.0005776472857187772}. Best is trial 16 with value: 0.5394715008850011.\u001b[0m\n",
      "\u001b[32m[I 2022-10-07 10:57:44,462]\u001b[0m Trial 22 finished with value: 0.5405449448477155 and parameters: {'num_leaves': 52, 'subsample_freq': 2, 'subsample': 0.6803092267645501, 'colsample_bytree': 0.3761446370643612, 'min_child_samples': 55, 'max_depth': 5, 'reg_alpha': 0.0004912087417353452, 'reg_lambda': 0.0028081005210855276}. Best is trial 16 with value: 0.5394715008850011.\u001b[0m\n",
      "\u001b[32m[I 2022-10-07 10:58:38,254]\u001b[0m Trial 23 finished with value: 0.540751415677699 and parameters: {'num_leaves': 45, 'subsample_freq': 1, 'subsample': 0.6957628115646156, 'colsample_bytree': 0.34741372382288455, 'min_child_samples': 53, 'max_depth': 10, 'reg_alpha': 0.3856807414515673, 'reg_lambda': 0.002940437447230111}. Best is trial 16 with value: 0.5394715008850011.\u001b[0m\n",
      "\u001b[32m[I 2022-10-07 10:59:03,933]\u001b[0m Trial 24 finished with value: 0.5401514563386924 and parameters: {'num_leaves': 49, 'subsample_freq': 2, 'subsample': 0.5233793422331003, 'colsample_bytree': 0.2142855344909312, 'min_child_samples': 44, 'max_depth': 6, 'reg_alpha': 0.10285556461488567, 'reg_lambda': 0.0029328359897923713}. Best is trial 16 with value: 0.5394715008850011.\u001b[0m\n",
      "\u001b[32m[I 2022-10-07 10:59:31,571]\u001b[0m Trial 25 finished with value: 0.5406783645931458 and parameters: {'num_leaves': 21, 'subsample_freq': 3, 'subsample': 0.5380327381870426, 'colsample_bytree': 0.2380902612974509, 'min_child_samples': 42, 'max_depth': 15, 'reg_alpha': 0.0888936868667588, 'reg_lambda': 0.0010008346144291368}. Best is trial 16 with value: 0.5394715008850011.\u001b[0m\n",
      "\u001b[32m[I 2022-10-07 10:59:42,369]\u001b[0m Trial 26 finished with value: 0.5439387339643226 and parameters: {'num_leaves': 125, 'subsample_freq': 2, 'subsample': 0.40443016070192706, 'colsample_bytree': 0.10957107510445355, 'min_child_samples': 47, 'max_depth': 1, 'reg_alpha': 0.11834801118252986, 'reg_lambda': 0.0002023835442234343}. Best is trial 16 with value: 0.5394715008850011.\u001b[0m\n",
      "\u001b[32m[I 2022-10-07 11:00:09,826]\u001b[0m Trial 27 finished with value: 0.5397793656749974 and parameters: {'num_leaves': 32, 'subsample_freq': 1, 'subsample': 0.5124911477906506, 'colsample_bytree': 0.20857610800375556, 'min_child_samples': 39, 'max_depth': 7, 'reg_alpha': 0.03412637094221339, 'reg_lambda': 0.013970393326057031}. Best is trial 16 with value: 0.5394715008850011.\u001b[0m\n",
      "\u001b[32m[I 2022-10-07 11:00:32,788]\u001b[0m Trial 28 finished with value: 0.541175463351874 and parameters: {'num_leaves': 32, 'subsample_freq': 1, 'subsample': 0.2425145367184241, 'colsample_bytree': 0.21201825713314848, 'min_child_samples': 40, 'max_depth': 8, 'reg_alpha': 0.35018301065748325, 'reg_lambda': 0.01488970277482326}. Best is trial 16 with value: 0.5394715008850011.\u001b[0m\n",
      "\u001b[32m[I 2022-10-07 11:01:50,938]\u001b[0m Trial 29 finished with value: 0.5416786911872737 and parameters: {'num_leaves': 38, 'subsample_freq': 1, 'subsample': 0.38284342981267294, 'colsample_bytree': 0.652692391481439, 'min_child_samples': 28, 'max_depth': 12, 'reg_alpha': 0.013419509842295004, 'reg_lambda': 0.04162781732368404}. Best is trial 16 with value: 0.5394715008850011.\u001b[0m\n",
      "\u001b[32m[I 2022-10-07 11:02:04,799]\u001b[0m Trial 30 finished with value: 0.5402167676351282 and parameters: {'num_leaves': 11, 'subsample_freq': 5, 'subsample': 0.2875714628427942, 'colsample_bytree': 0.10080780170363268, 'min_child_samples': 32, 'max_depth': 15, 'reg_alpha': 0.003817156927895346, 'reg_lambda': 0.0054093238806666635}. Best is trial 16 with value: 0.5394715008850011.\u001b[0m\n",
      "\u001b[32m[I 2022-10-07 11:02:21,961]\u001b[0m Trial 31 finished with value: 0.5410984676019972 and parameters: {'num_leaves': 14, 'subsample_freq': 5, 'subsample': 0.28691485460359967, 'colsample_bytree': 0.18714605731953846, 'min_child_samples': 33, 'max_depth': 17, 'reg_alpha': 0.008444949155975599, 'reg_lambda': 0.005426570494451698}. Best is trial 16 with value: 0.5394715008850011.\u001b[0m\n",
      "\u001b[32m[I 2022-10-07 11:02:33,400]\u001b[0m Trial 32 finished with value: 0.5425762693588707 and parameters: {'num_leaves': 25, 'subsample_freq': 5, 'subsample': 0.144675053727427, 'colsample_bytree': 0.1000479274070022, 'min_child_samples': 37, 'max_depth': 28, 'reg_alpha': 0.002757638523684249, 'reg_lambda': 0.013234338039192939}. Best is trial 16 with value: 0.5394715008850011.\u001b[0m\n",
      "\u001b[32m[I 2022-10-07 11:03:03,627]\u001b[0m Trial 33 finished with value: 0.5411805199087109 and parameters: {'num_leaves': 56, 'subsample_freq': 4, 'subsample': 0.4854494483377914, 'colsample_bytree': 0.1766991780980056, 'min_child_samples': 21, 'max_depth': 9, 'reg_alpha': 0.005049643717401402, 'reg_lambda': 0.008160232226858395}. Best is trial 16 with value: 0.5394715008850011.\u001b[0m\n",
      "\u001b[32m[I 2022-10-07 11:03:38,111]\u001b[0m Trial 34 finished with value: 0.540674619949323 and parameters: {'num_leaves': 12, 'subsample_freq': 4, 'subsample': 0.3989244796204558, 'colsample_bytree': 0.44314395108990323, 'min_child_samples': 31, 'max_depth': 26, 'reg_alpha': 0.03377017304497418, 'reg_lambda': 0.0023744911570440855}. Best is trial 16 with value: 0.5394715008850011.\u001b[0m\n",
      "\u001b[32m[I 2022-10-07 11:04:20,544]\u001b[0m Trial 35 finished with value: 0.5424292621414175 and parameters: {'num_leaves': 35, 'subsample_freq': 5, 'subsample': 0.18044483506428838, 'colsample_bytree': 0.5737501522527353, 'min_child_samples': 44, 'max_depth': 21, 'reg_alpha': 0.01259923549498094, 'reg_lambda': 0.41995047600048124}. Best is trial 16 with value: 0.5394715008850011.\u001b[0m\n",
      "\u001b[32m[I 2022-10-07 11:04:39,672]\u001b[0m Trial 36 finished with value: 0.5411339334956292 and parameters: {'num_leaves': 81, 'subsample_freq': 3, 'subsample': 0.2773549966137683, 'colsample_bytree': 0.22564997566169767, 'min_child_samples': 36, 'max_depth': 6, 'reg_alpha': 0.1180979191994551, 'reg_lambda': 0.052458100817296016}. Best is trial 16 with value: 0.5394715008850011.\u001b[0m\n",
      "\u001b[32m[I 2022-10-07 11:04:59,966]\u001b[0m Trial 37 finished with value: 0.5406571088150105 and parameters: {'num_leaves': 22, 'subsample_freq': 1, 'subsample': 0.5898737547663675, 'colsample_bytree': 0.13882004292777228, 'min_child_samples': 50, 'max_depth': 23, 'reg_alpha': 0.002513089421794089, 'reg_lambda': 0.13176275504876403}. Best is trial 16 with value: 0.5394715008850011.\u001b[0m\n",
      "\u001b[32m[I 2022-10-07 11:05:36,113]\u001b[0m Trial 38 finished with value: 0.5416285081722583 and parameters: {'num_leaves': 41, 'subsample_freq': 2, 'subsample': 0.3380165865703343, 'colsample_bytree': 0.3085895539619931, 'min_child_samples': 39, 'max_depth': 14, 'reg_alpha': 0.4049826085182881, 'reg_lambda': 0.0045337283295181635}. Best is trial 16 with value: 0.5394715008850011.\u001b[0m\n",
      "\u001b[32m[I 2022-10-07 11:07:39,854]\u001b[0m Trial 39 finished with value: 0.5433867940826358 and parameters: {'num_leaves': 57, 'subsample_freq': 3, 'subsample': 0.48035479082939664, 'colsample_bytree': 0.9496361105040692, 'min_child_samples': 33, 'max_depth': 18, 'reg_alpha': 0.05580930569958838, 'reg_lambda': 0.22808178233942222}. Best is trial 16 with value: 0.5394715008850011.\u001b[0m\n",
      "\u001b[32m[I 2022-10-07 11:08:01,993]\u001b[0m Trial 40 finished with value: 0.540825309997875 and parameters: {'num_leaves': 94, 'subsample_freq': 4, 'subsample': 0.5188798736682858, 'colsample_bytree': 0.4308847024571145, 'min_child_samples': 57, 'max_depth': 3, 'reg_alpha': 0.9856605609052795, 'reg_lambda': 0.010867266742905416}. Best is trial 16 with value: 0.5394715008850011.\u001b[0m\n",
      "\u001b[32m[I 2022-10-07 11:08:34,351]\u001b[0m Trial 41 finished with value: 0.5408179010589236 and parameters: {'num_leaves': 28, 'subsample_freq': 2, 'subsample': 0.634553955276841, 'colsample_bytree': 0.3202475313009654, 'min_child_samples': 27, 'max_depth': 6, 'reg_alpha': 0.04208137547611731, 'reg_lambda': 0.000646677575963545}. Best is trial 16 with value: 0.5394715008850011.\u001b[0m\n",
      "\u001b[32m[I 2022-10-07 11:08:48,961]\u001b[0m Trial 42 finished with value: 0.5410068212312924 and parameters: {'num_leaves': 154, 'subsample_freq': 2, 'subsample': 0.4046259134849062, 'colsample_bytree': 0.22764833876668417, 'min_child_samples': 23, 'max_depth': 3, 'reg_alpha': 0.24046521421024475, 'reg_lambda': 0.0002227292222097357}. Best is trial 16 with value: 0.5394715008850011.\u001b[0m\n",
      "\u001b[32m[I 2022-10-07 11:09:29,220]\u001b[0m Trial 43 finished with value: 0.5410435889344245 and parameters: {'num_leaves': 72, 'subsample_freq': 1, 'subsample': 0.520249680060972, 'colsample_bytree': 0.5240131781975057, 'min_child_samples': 43, 'max_depth': 5, 'reg_alpha': 0.03266304646747221, 'reg_lambda': 0.03362897247289704}. Best is trial 16 with value: 0.5394715008850011.\u001b[0m\n",
      "\u001b[32m[I 2022-10-07 11:09:41,150]\u001b[0m Trial 44 finished with value: 0.5423082609254026 and parameters: {'num_leaves': 187, 'subsample_freq': 2, 'subsample': 0.5831862530222969, 'colsample_bytree': 0.15528949651058943, 'min_child_samples': 30, 'max_depth': 2, 'reg_alpha': 0.006351141481845009, 'reg_lambda': 0.00033208837295612954}. Best is trial 16 with value: 0.5394715008850011.\u001b[0m\n",
      "\u001b[32m[I 2022-10-07 11:10:45,167]\u001b[0m Trial 45 finished with value: 0.5433460304535266 and parameters: {'num_leaves': 125, 'subsample_freq': 2, 'subsample': 0.4348711817609287, 'colsample_bytree': 0.3041471982903608, 'min_child_samples': 17, 'max_depth': 11, 'reg_alpha': 0.11436124000411378, 'reg_lambda': 0.9179115930983264}. Best is trial 16 with value: 0.5394715008850011.\u001b[0m\n",
      "\u001b[32m[I 2022-10-07 11:11:42,876]\u001b[0m Trial 46 finished with value: 0.5415719511115851 and parameters: {'num_leaves': 106, 'subsample_freq': 3, 'subsample': 0.6640733317917598, 'colsample_bytree': 0.4124264246561439, 'min_child_samples': 38, 'max_depth': 7, 'reg_alpha': 0.07369072873190645, 'reg_lambda': 0.0020107800344858337}. Best is trial 16 with value: 0.5394715008850011.\u001b[0m\n",
      "\u001b[32m[I 2022-10-07 11:12:07,925]\u001b[0m Trial 47 finished with value: 0.5397296609464382 and parameters: {'num_leaves': 17, 'subsample_freq': 1, 'subsample': 0.4908504125398313, 'colsample_bytree': 0.2643179019296169, 'min_child_samples': 34, 'max_depth': 5, 'reg_alpha': 0.0013786530768356718, 'reg_lambda': 0.00414909040391716}. Best is trial 16 with value: 0.5394715008850011.\u001b[0m\n",
      "\u001b[32m[I 2022-10-07 11:12:32,176]\u001b[0m Trial 48 finished with value: 0.5404225120312066 and parameters: {'num_leaves': 13, 'subsample_freq': 1, 'subsample': 0.48734056897532024, 'colsample_bytree': 0.2552481339547152, 'min_child_samples': 35, 'max_depth': 9, 'reg_alpha': 0.0012852821648606798, 'reg_lambda': 0.0037500903331395036}. Best is trial 16 with value: 0.5394715008850011.\u001b[0m\n",
      "\u001b[32m[I 2022-10-07 11:13:04,711]\u001b[0m Trial 49 finished with value: 0.5419095130649804 and parameters: {'num_leaves': 46, 'subsample_freq': 1, 'subsample': 0.8974151953235907, 'colsample_bytree': 0.16942824263427209, 'min_child_samples': 47, 'max_depth': 20, 'reg_alpha': 0.000551993670343817, 'reg_lambda': 0.006781875802821778}. Best is trial 16 with value: 0.5394715008850011.\u001b[0m\n"
     ]
    },
    {
     "name": "stdout",
     "output_type": "stream",
     "text": [
      "最適パラメータ {'num_leaves': 80, 'subsample_freq': 2, 'subsample': 0.3728565525188909, 'colsample_bytree': 0.4461359344653275, 'min_child_samples': 60, 'max_depth': 5, 'reg_alpha': 0.22676501116213518, 'reg_lambda': 0.0006740460328341064}\n",
      "スコア 0.5394715008850011\n",
      "Training until validation scores don't improve for 100 rounds\n"
     ]
    },
    {
     "name": "stderr",
     "output_type": "stream",
     "text": [
      "\u001b[32m[I 2022-10-07 11:13:07,028]\u001b[0m A new study created in memory with name: no-name-244627ea-a2fe-4969-a889-6594a3666f45\u001b[0m\n"
     ]
    },
    {
     "name": "stdout",
     "output_type": "stream",
     "text": [
      "Early stopping, best iteration is:\n",
      "[113]\tvalid_0's binary_logloss: 0.644115\n",
      "fold: fold_2\n"
     ]
    },
    {
     "name": "stderr",
     "output_type": "stream",
     "text": [
      "\u001b[32m[I 2022-10-07 11:14:51,119]\u001b[0m Trial 0 finished with value: 0.5794643349263292 and parameters: {'num_leaves': 114, 'subsample_freq': 4, 'subsample': 0.6424870384644795, 'colsample_bytree': 0.5903948646972071, 'min_child_samples': 26, 'max_depth': 20, 'reg_alpha': 0.0056279320474151686, 'reg_lambda': 0.36905577292137587}. Best is trial 0 with value: 0.5794643349263292.\u001b[0m\n",
      "\u001b[32m[I 2022-10-07 11:16:52,759]\u001b[0m Trial 1 finished with value: 0.5796519197414434 and parameters: {'num_leaves': 194, 'subsample_freq': 2, 'subsample': 0.8125525342743981, 'colsample_bytree': 0.5760054277776141, 'min_child_samples': 35, 'max_depth': 28, 'reg_alpha': 0.00019237305096546508, 'reg_lambda': 0.00022310905607443037}. Best is trial 0 with value: 0.5794643349263292.\u001b[0m\n",
      "\u001b[32m[I 2022-10-07 11:17:34,954]\u001b[0m Trial 2 finished with value: 0.5796956043078756 and parameters: {'num_leaves': 13, 'subsample_freq': 5, 'subsample': 0.8003410758548655, 'colsample_bytree': 0.8830109334221372, 'min_child_samples': 59, 'max_depth': 24, 'reg_alpha': 0.007013219779945793, 'reg_lambda': 0.13246974647468437}. Best is trial 0 with value: 0.5794643349263292.\u001b[0m\n",
      "\u001b[32m[I 2022-10-07 11:18:28,278]\u001b[0m Trial 3 finished with value: 0.5822911658262061 and parameters: {'num_leaves': 32, 'subsample_freq': 4, 'subsample': 0.22901795866814179, 'colsample_bytree': 0.9502020253446255, 'min_child_samples': 32, 'max_depth': 13, 'reg_alpha': 0.0011434638743472194, 'reg_lambda': 0.12500712230836253}. Best is trial 0 with value: 0.5794643349263292.\u001b[0m\n",
      "\u001b[32m[I 2022-10-07 11:18:58,555]\u001b[0m Trial 4 finished with value: 0.5806599766801194 and parameters: {'num_leaves': 97, 'subsample_freq': 3, 'subsample': 0.11691082039271963, 'colsample_bytree': 0.6558719473682894, 'min_child_samples': 37, 'max_depth': 19, 'reg_alpha': 0.5956516018710561, 'reg_lambda': 0.0533680330275671}. Best is trial 0 with value: 0.5794643349263292.\u001b[0m\n",
      "\u001b[32m[I 2022-10-07 11:19:25,033]\u001b[0m Trial 5 finished with value: 0.5788563101307682 and parameters: {'num_leaves': 78, 'subsample_freq': 3, 'subsample': 0.7278680763345383, 'colsample_bytree': 0.15420292446634287, 'min_child_samples': 41, 'max_depth': 21, 'reg_alpha': 0.0006942729492430148, 'reg_lambda': 0.00032787264983352813}. Best is trial 5 with value: 0.5788563101307682.\u001b[0m\n",
      "\u001b[32m[I 2022-10-07 11:19:45,132]\u001b[0m Trial 6 finished with value: 0.5787857319676238 and parameters: {'num_leaves': 70, 'subsample_freq': 2, 'subsample': 0.6131770933760917, 'colsample_bytree': 0.4947413621160883, 'min_child_samples': 60, 'max_depth': 4, 'reg_alpha': 0.000684710557668405, 'reg_lambda': 0.00044181257379025503}. Best is trial 6 with value: 0.5787857319676238.\u001b[0m\n",
      "\u001b[32m[I 2022-10-07 11:20:01,287]\u001b[0m Trial 7 finished with value: 0.5792801789766544 and parameters: {'num_leaves': 134, 'subsample_freq': 2, 'subsample': 0.5196796955706757, 'colsample_bytree': 0.31998303280144247, 'min_child_samples': 10, 'max_depth': 4, 'reg_alpha': 0.04220057397195014, 'reg_lambda': 0.00035705227567182956}. Best is trial 6 with value: 0.5787857319676238.\u001b[0m\n",
      "\u001b[32m[I 2022-10-07 11:20:12,090]\u001b[0m Trial 8 finished with value: 0.5793114971322285 and parameters: {'num_leaves': 47, 'subsample_freq': 2, 'subsample': 0.8388939068631416, 'colsample_bytree': 0.18739114821375513, 'min_child_samples': 51, 'max_depth': 3, 'reg_alpha': 0.8050778165087018, 'reg_lambda': 0.007492121411354244}. Best is trial 6 with value: 0.5787857319676238.\u001b[0m\n",
      "\u001b[32m[I 2022-10-07 11:20:22,830]\u001b[0m Trial 9 finished with value: 0.5780812515863076 and parameters: {'num_leaves': 196, 'subsample_freq': 4, 'subsample': 0.7653372214584715, 'colsample_bytree': 0.1352690130288886, 'min_child_samples': 17, 'max_depth': 4, 'reg_alpha': 0.0015295398277813735, 'reg_lambda': 0.0002984770033451218}. Best is trial 9 with value: 0.5780812515863076.\u001b[0m\n",
      "\u001b[32m[I 2022-10-07 11:22:08,549]\u001b[0m Trial 10 finished with value: 0.5802841480421355 and parameters: {'num_leaves': 194, 'subsample_freq': 5, 'subsample': 0.957500434774104, 'colsample_bytree': 0.38665340662431213, 'min_child_samples': 2, 'max_depth': 11, 'reg_alpha': 0.12109191793343403, 'reg_lambda': 0.005729527523847856}. Best is trial 9 with value: 0.5780812515863076.\u001b[0m\n",
      "\u001b[32m[I 2022-10-07 11:22:48,736]\u001b[0m Trial 11 finished with value: 0.5792816548914594 and parameters: {'num_leaves': 158, 'subsample_freq': 1, 'subsample': 0.46433456558961134, 'colsample_bytree': 0.37668486402310203, 'min_child_samples': 19, 'max_depth': 8, 'reg_alpha': 0.00011298708754150177, 'reg_lambda': 0.001694027560316386}. Best is trial 9 with value: 0.5780812515863076.\u001b[0m\n",
      "\u001b[32m[I 2022-10-07 11:23:02,939]\u001b[0m Trial 12 finished with value: 0.5815742987342722 and parameters: {'num_leaves': 66, 'subsample_freq': 4, 'subsample': 0.40640062685397366, 'colsample_bytree': 0.8265823499831317, 'min_child_samples': 19, 'max_depth': 1, 'reg_alpha': 0.00138411399702337, 'reg_lambda': 0.00010091350292770656}. Best is trial 9 with value: 0.5780812515863076.\u001b[0m\n",
      "\u001b[32m[I 2022-10-07 11:23:59,745]\u001b[0m Trial 13 finished with value: 0.5788030032510891 and parameters: {'num_leaves': 148, 'subsample_freq': 1, 'subsample': 0.6303682720800305, 'colsample_bytree': 0.7266557844411303, 'min_child_samples': 47, 'max_depth': 7, 'reg_alpha': 0.002515460954870808, 'reg_lambda': 0.001457963833595796}. Best is trial 9 with value: 0.5780812515863076.\u001b[0m\n",
      "\u001b[32m[I 2022-10-07 11:24:44,080]\u001b[0m Trial 14 finished with value: 0.5795482407326855 and parameters: {'num_leaves': 90, 'subsample_freq': 3, 'subsample': 0.35979907364738517, 'colsample_bytree': 0.47731604474101536, 'min_child_samples': 22, 'max_depth': 8, 'reg_alpha': 0.00039293497431647, 'reg_lambda': 0.0012111389071599147}. Best is trial 9 with value: 0.5780812515863076.\u001b[0m\n",
      "\u001b[32m[I 2022-10-07 11:25:50,814]\u001b[0m Trial 15 finished with value: 0.5806133437487281 and parameters: {'num_leaves': 173, 'subsample_freq': 2, 'subsample': 0.9509513444498068, 'colsample_bytree': 0.24157187825922033, 'min_child_samples': 10, 'max_depth': 13, 'reg_alpha': 0.02053229626002673, 'reg_lambda': 0.021238915277235818}. Best is trial 9 with value: 0.5780812515863076.\u001b[0m\n",
      "\u001b[32m[I 2022-10-07 11:26:01,883]\u001b[0m Trial 16 finished with value: 0.5781056690318825 and parameters: {'num_leaves': 118, 'subsample_freq': 4, 'subsample': 0.6014889962587971, 'colsample_bytree': 0.11181717014508687, 'min_child_samples': 60, 'max_depth': 5, 'reg_alpha': 0.002622549381126924, 'reg_lambda': 0.0007925077317386705}. Best is trial 9 with value: 0.5780812515863076.\u001b[0m\n",
      "\u001b[32m[I 2022-10-07 11:26:32,663]\u001b[0m Trial 17 finished with value: 0.5795393117101278 and parameters: {'num_leaves': 126, 'subsample_freq': 4, 'subsample': 0.7268683890931182, 'colsample_bytree': 0.11088436998205087, 'min_child_samples': 8, 'max_depth': 16, 'reg_alpha': 0.003684941157977222, 'reg_lambda': 0.002626722814244093}. Best is trial 9 with value: 0.5780812515863076.\u001b[0m\n",
      "\u001b[32m[I 2022-10-07 11:26:43,308]\u001b[0m Trial 18 finished with value: 0.581233556324868 and parameters: {'num_leaves': 172, 'subsample_freq': 5, 'subsample': 0.5492570946409185, 'colsample_bytree': 0.2906883724691958, 'min_child_samples': 27, 'max_depth': 1, 'reg_alpha': 0.021983629605994683, 'reg_lambda': 0.00010122753490350158}. Best is trial 9 with value: 0.5780812515863076.\u001b[0m\n",
      "\u001b[32m[I 2022-10-07 11:26:54,043]\u001b[0m Trial 19 finished with value: 0.579287435279651 and parameters: {'num_leaves': 146, 'subsample_freq': 4, 'subsample': 0.32332515279599205, 'colsample_bytree': 0.10800830303923797, 'min_child_samples': 50, 'max_depth': 6, 'reg_alpha': 0.13073193628167284, 'reg_lambda': 0.000852760393525387}. Best is trial 9 with value: 0.5780812515863076.\u001b[0m\n",
      "\u001b[32m[I 2022-10-07 11:27:32,957]\u001b[0m Trial 20 finished with value: 0.5798780307458006 and parameters: {'num_leaves': 112, 'subsample_freq': 5, 'subsample': 0.7026256343764208, 'colsample_bytree': 0.23775515800184926, 'min_child_samples': 16, 'max_depth': 10, 'reg_alpha': 0.0022513788376520953, 'reg_lambda': 0.0032339408510718834}. Best is trial 9 with value: 0.5780812515863076.\u001b[0m\n",
      "\u001b[32m[I 2022-10-07 11:27:50,223]\u001b[0m Trial 21 finished with value: 0.578546056224382 and parameters: {'num_leaves': 54, 'subsample_freq': 3, 'subsample': 0.6156470028845191, 'colsample_bytree': 0.47289157221017875, 'min_child_samples': 59, 'max_depth': 4, 'reg_alpha': 0.00048059639883895456, 'reg_lambda': 0.0005776472857187772}. Best is trial 9 with value: 0.5780812515863076.\u001b[0m\n",
      "\u001b[32m[I 2022-10-07 11:28:08,715]\u001b[0m Trial 22 finished with value: 0.5787142396211202 and parameters: {'num_leaves': 49, 'subsample_freq': 3, 'subsample': 0.493915406036999, 'colsample_bytree': 0.4376704907463342, 'min_child_samples': 56, 'max_depth': 5, 'reg_alpha': 0.00029815159857520847, 'reg_lambda': 0.0007892563528650514}. Best is trial 9 with value: 0.5780812515863076.\u001b[0m\n",
      "\u001b[32m[I 2022-10-07 11:28:25,940]\u001b[0m Trial 23 finished with value: 0.5782160971604025 and parameters: {'num_leaves': 20, 'subsample_freq': 3, 'subsample': 0.5909694543037368, 'colsample_bytree': 0.19899030998297984, 'min_child_samples': 44, 'max_depth': 10, 'reg_alpha': 0.0005653251346609013, 'reg_lambda': 0.0001652382652042212}. Best is trial 9 with value: 0.5780812515863076.\u001b[0m\n",
      "\u001b[32m[I 2022-10-07 11:28:40,517]\u001b[0m Trial 24 finished with value: 0.5787184604782021 and parameters: {'num_leaves': 14, 'subsample_freq': 4, 'subsample': 0.8867237773174743, 'colsample_bytree': 0.1939141679379145, 'min_child_samples': 43, 'max_depth': 10, 'reg_alpha': 0.0014533789709565506, 'reg_lambda': 0.00018455004221738718}. Best is trial 9 with value: 0.5780812515863076.\u001b[0m\n",
      "\u001b[32m[I 2022-10-07 11:29:29,949]\u001b[0m Trial 25 finished with value: 0.5799254692852616 and parameters: {'num_leaves': 176, 'subsample_freq': 4, 'subsample': 0.6941526508487237, 'colsample_bytree': 0.3106368436487521, 'min_child_samples': 54, 'max_depth': 15, 'reg_alpha': 0.010392321445362151, 'reg_lambda': 0.0001744366797109752}. Best is trial 9 with value: 0.5780812515863076.\u001b[0m\n",
      "\u001b[32m[I 2022-10-07 11:29:48,585]\u001b[0m Trial 26 finished with value: 0.5789441979752233 and parameters: {'num_leaves': 28, 'subsample_freq': 3, 'subsample': 0.44514952930972235, 'colsample_bytree': 0.2425865851479877, 'min_child_samples': 44, 'max_depth': 8, 'reg_alpha': 0.003626190135427843, 'reg_lambda': 0.0005424490603545539}. Best is trial 9 with value: 0.5780812515863076.\u001b[0m\n",
      "\u001b[32m[I 2022-10-07 11:30:07,959]\u001b[0m Trial 27 finished with value: 0.5791072540996139 and parameters: {'num_leaves': 87, 'subsample_freq': 4, 'subsample': 0.5790366097372118, 'colsample_bytree': 0.11032274890617638, 'min_child_samples': 38, 'max_depth': 12, 'reg_alpha': 0.00010377089421415143, 'reg_lambda': 0.017816634843231278}. Best is trial 9 with value: 0.5780812515863076.\u001b[0m\n",
      "\u001b[32m[I 2022-10-07 11:30:17,381]\u001b[0m Trial 28 finished with value: 0.5797372537849457 and parameters: {'num_leaves': 131, 'subsample_freq': 3, 'subsample': 0.7616789876906048, 'colsample_bytree': 0.17485966256340282, 'min_child_samples': 29, 'max_depth': 2, 'reg_alpha': 0.0009002127605567635, 'reg_lambda': 0.003184793937144628}. Best is trial 9 with value: 0.5780812515863076.\u001b[0m\n",
      "\u001b[32m[I 2022-10-07 11:30:44,087]\u001b[0m Trial 29 finished with value: 0.5788909624403002 and parameters: {'num_leaves': 118, 'subsample_freq': 5, 'subsample': 0.6764307261860686, 'colsample_bytree': 0.35477606302139153, 'min_child_samples': 23, 'max_depth': 6, 'reg_alpha': 0.009492695273647917, 'reg_lambda': 0.0002140442690939129}. Best is trial 9 with value: 0.5780812515863076.\u001b[0m\n",
      "\u001b[32m[I 2022-10-07 11:31:22,037]\u001b[0m Trial 30 finished with value: 0.5786441293058373 and parameters: {'num_leaves': 106, 'subsample_freq': 4, 'subsample': 0.5745317573248838, 'colsample_bytree': 0.26894862130882946, 'min_child_samples': 47, 'max_depth': 15, 'reg_alpha': 0.0002724629128111211, 'reg_lambda': 0.00010807315932181157}. Best is trial 9 with value: 0.5780812515863076.\u001b[0m\n",
      "\u001b[32m[I 2022-10-07 11:31:47,746]\u001b[0m Trial 31 finished with value: 0.578699278715465 and parameters: {'num_leaves': 54, 'subsample_freq': 3, 'subsample': 0.6409309765976232, 'colsample_bytree': 0.67464853313585, 'min_child_samples': 55, 'max_depth': 4, 'reg_alpha': 0.0005361787645252723, 'reg_lambda': 0.0007192625120658936}. Best is trial 9 with value: 0.5780812515863076.\u001b[0m\n",
      "\u001b[32m[I 2022-10-07 11:32:06,378]\u001b[0m Trial 32 finished with value: 0.5783292586798574 and parameters: {'num_leaves': 33, 'subsample_freq': 3, 'subsample': 0.775265157116615, 'colsample_bytree': 0.17834165456290801, 'min_child_samples': 60, 'max_depth': 9, 'reg_alpha': 0.000201886636367701, 'reg_lambda': 0.0003190821948617484}. Best is trial 9 with value: 0.5780812515863076.\u001b[0m\n",
      "\u001b[32m[I 2022-10-07 11:32:26,044]\u001b[0m Trial 33 finished with value: 0.5791499956791293 and parameters: {'num_leaves': 39, 'subsample_freq': 3, 'subsample': 0.882185016570904, 'colsample_bytree': 0.16539151178343334, 'min_child_samples': 33, 'max_depth': 9, 'reg_alpha': 0.0002135745341739609, 'reg_lambda': 0.00029867678785447133}. Best is trial 9 with value: 0.5780812515863076.\u001b[0m\n",
      "\u001b[32m[I 2022-10-07 11:32:43,221]\u001b[0m Trial 34 finished with value: 0.5788836061843672 and parameters: {'num_leaves': 22, 'subsample_freq': 4, 'subsample': 0.7792559878585652, 'colsample_bytree': 0.2135875424502736, 'min_child_samples': 51, 'max_depth': 26, 'reg_alpha': 0.001914687454323858, 'reg_lambda': 0.0001927083599476754}. Best is trial 9 with value: 0.5780812515863076.\u001b[0m\n",
      "\u001b[32m[I 2022-10-07 11:33:02,559]\u001b[0m Trial 35 finished with value: 0.5789342603342933 and parameters: {'num_leaves': 36, 'subsample_freq': 3, 'subsample': 0.8762491856138904, 'colsample_bytree': 0.14790687771697603, 'min_child_samples': 55, 'max_depth': 30, 'reg_alpha': 0.003964315232916093, 'reg_lambda': 0.41995047600048124}. Best is trial 9 with value: 0.5780812515863076.\u001b[0m\n",
      "\u001b[32m[I 2022-10-07 11:33:12,718]\u001b[0m Trial 36 finished with value: 0.5789301666377841 and parameters: {'num_leaves': 10, 'subsample_freq': 4, 'subsample': 0.8056366595410003, 'colsample_bytree': 0.10903206429364329, 'min_child_samples': 47, 'max_depth': 17, 'reg_alpha': 0.0001710456196298883, 'reg_lambda': 0.0002842948039335196}. Best is trial 9 with value: 0.5780812515863076.\u001b[0m\n",
      "\u001b[32m[I 2022-10-07 11:33:51,160]\u001b[0m Trial 37 finished with value: 0.5786042688267106 and parameters: {'num_leaves': 195, 'subsample_freq': 3, 'subsample': 0.7547046979792342, 'colsample_bytree': 0.564850510197419, 'min_child_samples': 58, 'max_depth': 6, 'reg_alpha': 0.001023897780945708, 'reg_lambda': 0.13176275504876403}. Best is trial 9 with value: 0.5780812515863076.\u001b[0m\n",
      "\u001b[32m[I 2022-10-07 11:34:11,646]\u001b[0m Trial 38 finished with value: 0.5789277523555402 and parameters: {'num_leaves': 19, 'subsample_freq': 2, 'subsample': 0.6628039606497851, 'colsample_bytree': 0.32413963580734834, 'min_child_samples': 39, 'max_depth': 13, 'reg_alpha': 0.00556125167364556, 'reg_lambda': 0.00042668940306514827}. Best is trial 9 with value: 0.5780812515863076.\u001b[0m\n",
      "\u001b[32m[I 2022-10-07 11:34:34,997]\u001b[0m Trial 39 finished with value: 0.5789488498134784 and parameters: {'num_leaves': 63, 'subsample_freq': 4, 'subsample': 0.9986154290764507, 'colsample_bytree': 0.15095649930697605, 'min_child_samples': 60, 'max_depth': 21, 'reg_alpha': 0.0001580765096758731, 'reg_lambda': 0.0010151709709859318}. Best is trial 9 with value: 0.5780812515863076.\u001b[0m\n",
      "\u001b[32m[I 2022-10-07 11:35:22,605]\u001b[0m Trial 40 finished with value: 0.5786110553067999 and parameters: {'num_leaves': 78, 'subsample_freq': 2, 'subsample': 0.5379441830305827, 'colsample_bytree': 0.41495453001276295, 'min_child_samples': 36, 'max_depth': 10, 'reg_alpha': 0.000751372847761517, 'reg_lambda': 0.06407142334701105}. Best is trial 9 with value: 0.5780812515863076.\u001b[0m\n",
      "\u001b[32m[I 2022-10-07 11:35:32,371]\u001b[0m Trial 41 finished with value: 0.5789048622056484 and parameters: {'num_leaves': 40, 'subsample_freq': 3, 'subsample': 0.6215595328578488, 'colsample_bytree': 0.20854549121377394, 'min_child_samples': 57, 'max_depth': 3, 'reg_alpha': 0.0004883565372648286, 'reg_lambda': 0.0005507425574627701}. Best is trial 9 with value: 0.5780812515863076.\u001b[0m\n",
      "\u001b[32m[I 2022-10-07 11:36:13,033]\u001b[0m Trial 42 finished with value: 0.5790765202414374 and parameters: {'num_leaves': 30, 'subsample_freq': 3, 'subsample': 0.5924328457216477, 'colsample_bytree': 0.8450414954084806, 'min_child_samples': 53, 'max_depth': 5, 'reg_alpha': 0.00032026785281440373, 'reg_lambda': 0.0021813803251703122}. Best is trial 9 with value: 0.5780812515863076.\u001b[0m\n",
      "\u001b[32m[I 2022-10-07 11:36:36,711]\u001b[0m Trial 43 finished with value: 0.5791658706827845 and parameters: {'num_leaves': 49, 'subsample_freq': 3, 'subsample': 0.8387691441731872, 'colsample_bytree': 0.6336162678212922, 'min_child_samples': 60, 'max_depth': 4, 'reg_alpha': 0.0005787767128669405, 'reg_lambda': 0.0004191248834230834}. Best is trial 9 with value: 0.5780812515863076.\u001b[0m\n",
      "\u001b[32m[I 2022-10-07 11:36:53,438]\u001b[0m Trial 44 finished with value: 0.5799566947261077 and parameters: {'num_leaves': 61, 'subsample_freq': 3, 'subsample': 0.5053075578921588, 'colsample_bytree': 0.9596398031253994, 'min_child_samples': 50, 'max_depth': 2, 'reg_alpha': 0.0013847765643332974, 'reg_lambda': 0.0001484408676797441}. Best is trial 9 with value: 0.5780812515863076.\u001b[0m\n",
      "\u001b[32m[I 2022-10-07 11:38:27,801]\u001b[0m Trial 45 finished with value: 0.5799060735721948 and parameters: {'num_leaves': 184, 'subsample_freq': 2, 'subsample': 0.7345997693980659, 'colsample_bytree': 0.5149648418232806, 'min_child_samples': 1, 'max_depth': 8, 'reg_alpha': 0.00041067894552609426, 'reg_lambda': 0.9179115930983264}. Best is trial 9 with value: 0.5780812515863076.\u001b[0m\n",
      "\u001b[32m[I 2022-10-07 11:39:08,412]\u001b[0m Trial 46 finished with value: 0.5798647651812239 and parameters: {'num_leaves': 97, 'subsample_freq': 4, 'subsample': 0.41861752836317806, 'colsample_bytree': 0.7491328101240301, 'min_child_samples': 53, 'max_depth': 7, 'reg_alpha': 0.0008358952469026713, 'reg_lambda': 0.0002730973135945211}. Best is trial 9 with value: 0.5780812515863076.\u001b[0m\n",
      "\u001b[32m[I 2022-10-07 11:39:20,146]\u001b[0m Trial 47 finished with value: 0.5790194658275674 and parameters: {'num_leaves': 25, 'subsample_freq': 5, 'subsample': 0.6871183553209862, 'colsample_bytree': 0.26527727171273724, 'min_child_samples': 57, 'max_depth': 3, 'reg_alpha': 0.00021160698304092124, 'reg_lambda': 0.0006789125747589409}. Best is trial 9 with value: 0.5780812515863076.\u001b[0m\n",
      "\u001b[32m[I 2022-10-07 11:39:29,769]\u001b[0m Trial 48 finished with value: 0.5812185362461436 and parameters: {'num_leaves': 73, 'subsample_freq': 2, 'subsample': 0.11643631121572229, 'colsample_bytree': 0.1466256402929598, 'min_child_samples': 45, 'max_depth': 11, 'reg_alpha': 0.0020745390004340996, 'reg_lambda': 0.0016763558260926787}. Best is trial 9 with value: 0.5780812515863076.\u001b[0m\n",
      "\u001b[32m[I 2022-10-07 11:39:46,427]\u001b[0m Trial 49 finished with value: 0.578965322319177 and parameters: {'num_leaves': 157, 'subsample_freq': 3, 'subsample': 0.8286411396736, 'colsample_bytree': 0.2121372659777041, 'min_child_samples': 15, 'max_depth': 5, 'reg_alpha': 0.0011179164202236886, 'reg_lambda': 0.004418409652212633}. Best is trial 9 with value: 0.5780812515863076.\u001b[0m\n"
     ]
    },
    {
     "name": "stdout",
     "output_type": "stream",
     "text": [
      "最適パラメータ {'num_leaves': 196, 'subsample_freq': 4, 'subsample': 0.7653372214584715, 'colsample_bytree': 0.1352690130288886, 'min_child_samples': 17, 'max_depth': 4, 'reg_alpha': 0.0015295398277813735, 'reg_lambda': 0.0002984770033451218}\n",
      "スコア 0.5780812515863076\n",
      "Training until validation scores don't improve for 100 rounds\n",
      "Early stopping, best iteration is:\n",
      "[121]\tvalid_0's binary_logloss: 0.650532\n",
      "0.6438499458142858 0.0038182486379954345\n"
     ]
    }
   ],
   "source": [
    "SEED = 0\n",
    "N_TRIAL = 50\n",
    "base_params = {\n",
    "    'learning_rate': 0.01,\n",
    "    'random_state': SEED,\n",
    "    'n_estimators': 20000,\n",
    "}\n",
    "stopping_rounds = 100\n",
    "y_pred_result = []\n",
    "models = []\n",
    "log_loss_list = []\n",
    "for fold_name in train_valid_test_dict:\n",
    "    print(f'fold: {fold_name}')\n",
    "    model = LGBMClassifier(**base_params)\n",
    "    objective = LGMObjective(\n",
    "        model,\n",
    "        train_valid_test_dict[fold_name]['train']['X'],\n",
    "        train_valid_test_dict[fold_name]['train']['y'],\n",
    "        stopping_rounds=stopping_rounds\n",
    "    )\n",
    "    study = optuna.create_study(\n",
    "        direction='minimize',\n",
    "        sampler=optuna.samplers.TPESampler(seed=SEED)\n",
    "    )\n",
    "    study.optimize(objective, n_trials=N_TRIAL)\n",
    "    best_params = study.best_trial.params\n",
    "    best_score = study.best_trial.value\n",
    "    print(f'最適パラメータ {best_params}\\nスコア {best_score}')\n",
    "    y_pred_proba, model = train_and_eval_lgm(\n",
    "        train_valid_test_dict[fold_name]['train']['X'],\n",
    "        train_valid_test_dict[fold_name]['train']['y'],\n",
    "        train_valid_test_dict[fold_name]['valid']['X'],\n",
    "        train_valid_test_dict[fold_name]['valid']['y'],\n",
    "        train_valid_test_dict[fold_name]['test']['X'],\n",
    "        {**best_params, **base_params},\n",
    "        stopping_rounds=stopping_rounds\n",
    "    )\n",
    "    y_val_pred = model.predict_proba(train_valid_test_dict[fold_name]['valid']['X'])[:, 1]\n",
    "    loss = log_loss(train_valid_test_dict[fold_name]['valid']['y'], y_val_pred)\n",
    "    log_loss_list.append(loss)\n",
    "    y_pred_result.append(y_pred_proba)\n",
    "    models.append(model)\n",
    "y_pred_result = np.mean(y_pred_result, axis=0)\n",
    "print(np.mean(log_loss_list), np.std(log_loss_list))\n",
    "to_submission('../dataset/csv/sample_submission.csv', y_pred_result, '../results/turned_lgm_with_features.csv')"
   ]
  },
  {
   "cell_type": "markdown",
   "id": "e69606d8-1164-447f-9876-296ced34b1d7",
   "metadata": {},
   "source": [
    "## 学習(RandomForest)\n",
    "\n",
    "- モデル: RandomForest\n",
    "\n",
    "- 手順(下記をfold数分実施する。)\n",
    "\n",
    "    1. 学習用データにおいて、cross validation結果からハイパーパラメータを求める\n",
    "\n",
    "    2. 学習用データ, 検証用データ(log loss計算用)でモデル学習\n",
    "\n",
    "    3. テストデータで予測して、submission用csv作成"
   ]
  },
  {
   "cell_type": "code",
   "execution_count": 4,
   "id": "7121c987-f51e-457f-93cc-6ee5c4f34abc",
   "metadata": {},
   "outputs": [
    {
     "name": "stderr",
     "output_type": "stream",
     "text": [
      "\u001b[32m[I 2022-10-10 00:00:37,281]\u001b[0m A new study created in memory with name: no-name-d7eeeb24-113b-41ed-adfb-8abda96201fa\u001b[0m\n"
     ]
    },
    {
     "name": "stdout",
     "output_type": "stream",
     "text": [
      "fold: fold_3\n"
     ]
    },
    {
     "name": "stderr",
     "output_type": "stream",
     "text": [
      "\u001b[32m[I 2022-10-10 00:08:34,008]\u001b[0m Trial 0 finished with value: 0.5488132123121616 and parameters: {'min_samples_split': 56, 'max_depth': 144, 'min_samples_leaf': 61, 'max_features': 0.5903948646972071, 'max_leaf_nodes': 90}. Best is trial 0 with value: 0.5488132123121616.\u001b[0m\n",
      "\u001b[32m[I 2022-10-10 00:20:34,803]\u001b[0m Trial 1 finished with value: 0.5502984745688081 and parameters: {'min_samples_split': 65, 'max_depth': 89, 'min_samples_leaf': 90, 'max_features': 0.9672964844509263, 'max_leaf_nodes': 83}. Best is trial 0 with value: 0.5488132123121616.\u001b[0m\n",
      "\u001b[32m[I 2022-10-10 00:29:53,575]\u001b[0m Trial 2 finished with value: 0.5567393482259129 and parameters: {'min_samples_split': 80, 'max_depth': 107, 'min_samples_leaf': 57, 'max_features': 0.933036974463395, 'max_leaf_nodes': 23}. Best is trial 0 with value: 0.5488132123121616.\u001b[0m\n",
      "\u001b[32m[I 2022-10-10 00:38:17,704]\u001b[0m Trial 3 finished with value: 0.5517770372673181 and parameters: {'min_samples_split': 10, 'max_depth': 6, 'min_samples_leaf': 84, 'max_features': 0.8003410758548655, 'max_leaf_nodes': 176}. Best is trial 0 with value: 0.5488132123121616.\u001b[0m\n",
      "\u001b[32m[I 2022-10-10 00:46:55,181]\u001b[0m Trial 4 finished with value: 0.5541799799780472 and parameters: {'min_samples_split': 98, 'max_depth': 161, 'min_samples_leaf': 47, 'max_features': 0.8024762586578099, 'max_leaf_nodes': 32}. Best is trial 0 with value: 0.5488132123121616.\u001b[0m\n",
      "\u001b[32m[I 2022-10-10 00:53:42,817]\u001b[0m Trial 5 finished with value: 0.5500849034900003 and parameters: {'min_samples_split': 65, 'max_depth': 30, 'min_samples_leaf': 95, 'max_features': 0.5696634895750645, 'max_leaf_nodes': 89}. Best is trial 0 with value: 0.5488132123121616.\u001b[0m\n",
      "\u001b[32m[I 2022-10-10 00:59:08,626]\u001b[0m Trial 6 finished with value: 0.5596630061474408 and parameters: {'min_samples_split': 28, 'max_depth': 156, 'min_samples_leaf': 46, 'max_features': 0.6115905539817836, 'max_leaf_nodes': 13}. Best is trial 0 with value: 0.5488132123121616.\u001b[0m\n",
      "\u001b[32m[I 2022-10-10 01:11:58,515]\u001b[0m Trial 7 finished with value: 0.5492722314542144 and parameters: {'min_samples_split': 63, 'max_depth': 123, 'min_samples_leaf': 62, 'max_features': 0.9493732706631618, 'max_leaf_nodes': 140}. Best is trial 0 with value: 0.5488132123121616.\u001b[0m\n",
      "\u001b[32m[I 2022-10-10 01:13:59,663]\u001b[0m Trial 8 finished with value: 0.5493243587332024 and parameters: {'min_samples_split': 37, 'max_depth': 88, 'min_samples_leaf': 70, 'max_features': 0.15420292446634287, 'max_leaf_nodes': 137}. Best is trial 0 with value: 0.5488132123121616.\u001b[0m\n",
      "\u001b[32m[I 2022-10-10 01:19:07,542]\u001b[0m Trial 9 finished with value: 0.550011395746217 and parameters: {'min_samples_split': 68, 'max_depth': 43, 'min_samples_leaf': 13, 'max_features': 0.38388551583176544, 'max_leaf_nodes': 79}. Best is trial 0 with value: 0.5488132123121616.\u001b[0m\n"
     ]
    },
    {
     "name": "stdout",
     "output_type": "stream",
     "text": [
      "最適パラメータ {'min_samples_split': 56, 'max_depth': 144, 'min_samples_leaf': 61, 'max_features': 0.5903948646972071, 'max_leaf_nodes': 90}\n",
      "スコア 0.5488132123121616\n"
     ]
    },
    {
     "name": "stderr",
     "output_type": "stream",
     "text": [
      "\u001b[32m[I 2022-10-10 01:23:04,250]\u001b[0m A new study created in memory with name: no-name-c6936667-1904-4786-8435-a786eae940cd\u001b[0m\n"
     ]
    },
    {
     "name": "stdout",
     "output_type": "stream",
     "text": [
      "fold: fold_1\n"
     ]
    },
    {
     "name": "stderr",
     "output_type": "stream",
     "text": [
      "\u001b[32m[I 2022-10-10 01:30:51,192]\u001b[0m Trial 0 finished with value: 0.5342149747948985 and parameters: {'min_samples_split': 56, 'max_depth': 144, 'min_samples_leaf': 61, 'max_features': 0.5903948646972071, 'max_leaf_nodes': 90}. Best is trial 0 with value: 0.5342149747948985.\u001b[0m\n",
      "\u001b[32m[I 2022-10-10 01:42:32,243]\u001b[0m Trial 1 finished with value: 0.5355417451678419 and parameters: {'min_samples_split': 65, 'max_depth': 89, 'min_samples_leaf': 90, 'max_features': 0.9672964844509263, 'max_leaf_nodes': 83}. Best is trial 0 with value: 0.5342149747948985.\u001b[0m\n",
      "\u001b[32m[I 2022-10-10 01:51:39,912]\u001b[0m Trial 2 finished with value: 0.5413501108980824 and parameters: {'min_samples_split': 80, 'max_depth': 107, 'min_samples_leaf': 57, 'max_features': 0.933036974463395, 'max_leaf_nodes': 23}. Best is trial 0 with value: 0.5342149747948985.\u001b[0m\n",
      "\u001b[32m[I 2022-10-10 01:59:57,602]\u001b[0m Trial 3 finished with value: 0.5368758712838156 and parameters: {'min_samples_split': 10, 'max_depth': 6, 'min_samples_leaf': 84, 'max_features': 0.8003410758548655, 'max_leaf_nodes': 176}. Best is trial 0 with value: 0.5342149747948985.\u001b[0m\n",
      "\u001b[32m[I 2022-10-10 02:08:22,548]\u001b[0m Trial 4 finished with value: 0.5390632960945524 and parameters: {'min_samples_split': 98, 'max_depth': 161, 'min_samples_leaf': 47, 'max_features': 0.8024762586578099, 'max_leaf_nodes': 32}. Best is trial 0 with value: 0.5342149747948985.\u001b[0m\n",
      "\u001b[32m[I 2022-10-10 02:15:06,834]\u001b[0m Trial 5 finished with value: 0.5352635415846022 and parameters: {'min_samples_split': 65, 'max_depth': 30, 'min_samples_leaf': 95, 'max_features': 0.5696634895750645, 'max_leaf_nodes': 89}. Best is trial 0 with value: 0.5342149747948985.\u001b[0m\n",
      "\u001b[32m[I 2022-10-10 02:20:26,793]\u001b[0m Trial 6 finished with value: 0.5450692482414748 and parameters: {'min_samples_split': 28, 'max_depth': 156, 'min_samples_leaf': 46, 'max_features': 0.6115905539817836, 'max_leaf_nodes': 13}. Best is trial 0 with value: 0.5342149747948985.\u001b[0m\n",
      "\u001b[32m[I 2022-10-10 02:33:12,501]\u001b[0m Trial 7 finished with value: 0.5347865062327486 and parameters: {'min_samples_split': 63, 'max_depth': 123, 'min_samples_leaf': 62, 'max_features': 0.9493732706631618, 'max_leaf_nodes': 140}. Best is trial 0 with value: 0.5342149747948985.\u001b[0m\n",
      "\u001b[32m[I 2022-10-10 02:35:12,539]\u001b[0m Trial 8 finished with value: 0.535055608563822 and parameters: {'min_samples_split': 37, 'max_depth': 88, 'min_samples_leaf': 70, 'max_features': 0.15420292446634287, 'max_leaf_nodes': 137}. Best is trial 0 with value: 0.5342149747948985.\u001b[0m\n",
      "\u001b[32m[I 2022-10-10 02:40:13,811]\u001b[0m Trial 9 finished with value: 0.5351739114389372 and parameters: {'min_samples_split': 68, 'max_depth': 43, 'min_samples_leaf': 13, 'max_features': 0.38388551583176544, 'max_leaf_nodes': 79}. Best is trial 0 with value: 0.5342149747948985.\u001b[0m\n"
     ]
    },
    {
     "name": "stdout",
     "output_type": "stream",
     "text": [
      "最適パラメータ {'min_samples_split': 56, 'max_depth': 144, 'min_samples_leaf': 61, 'max_features': 0.5903948646972071, 'max_leaf_nodes': 90}\n",
      "スコア 0.5342149747948985\n"
     ]
    },
    {
     "name": "stderr",
     "output_type": "stream",
     "text": [
      "\u001b[32m[I 2022-10-10 02:44:06,799]\u001b[0m A new study created in memory with name: no-name-28547d92-1d78-42e6-8567-9fc38d5d5f24\u001b[0m\n"
     ]
    },
    {
     "name": "stdout",
     "output_type": "stream",
     "text": [
      "fold: fold_5\n"
     ]
    },
    {
     "name": "stderr",
     "output_type": "stream",
     "text": [
      "\u001b[32m[I 2022-10-10 02:51:51,781]\u001b[0m Trial 0 finished with value: 0.5702629077140556 and parameters: {'min_samples_split': 56, 'max_depth': 144, 'min_samples_leaf': 61, 'max_features': 0.5903948646972071, 'max_leaf_nodes': 90}. Best is trial 0 with value: 0.5702629077140556.\u001b[0m\n",
      "\u001b[32m[I 2022-10-10 03:03:27,672]\u001b[0m Trial 1 finished with value: 0.5713555838473706 and parameters: {'min_samples_split': 65, 'max_depth': 89, 'min_samples_leaf': 90, 'max_features': 0.9672964844509263, 'max_leaf_nodes': 83}. Best is trial 0 with value: 0.5702629077140556.\u001b[0m\n",
      "\u001b[32m[I 2022-10-10 03:12:39,687]\u001b[0m Trial 2 finished with value: 0.575409897553408 and parameters: {'min_samples_split': 80, 'max_depth': 107, 'min_samples_leaf': 57, 'max_features': 0.933036974463395, 'max_leaf_nodes': 23}. Best is trial 0 with value: 0.5702629077140556.\u001b[0m\n",
      "\u001b[32m[I 2022-10-10 03:20:57,561]\u001b[0m Trial 3 finished with value: 0.5720978923105774 and parameters: {'min_samples_split': 10, 'max_depth': 6, 'min_samples_leaf': 84, 'max_features': 0.8003410758548655, 'max_leaf_nodes': 176}. Best is trial 0 with value: 0.5702629077140556.\u001b[0m\n",
      "\u001b[32m[I 2022-10-10 03:29:29,395]\u001b[0m Trial 4 finished with value: 0.573859960609734 and parameters: {'min_samples_split': 98, 'max_depth': 161, 'min_samples_leaf': 47, 'max_features': 0.8024762586578099, 'max_leaf_nodes': 32}. Best is trial 0 with value: 0.5702629077140556.\u001b[0m\n",
      "\u001b[32m[I 2022-10-10 03:36:13,313]\u001b[0m Trial 5 finished with value: 0.5710346584428834 and parameters: {'min_samples_split': 65, 'max_depth': 30, 'min_samples_leaf': 95, 'max_features': 0.5696634895750645, 'max_leaf_nodes': 89}. Best is trial 0 with value: 0.5702629077140556.\u001b[0m\n",
      "\u001b[32m[I 2022-10-10 03:41:35,833]\u001b[0m Trial 6 finished with value: 0.5777347067139355 and parameters: {'min_samples_split': 28, 'max_depth': 156, 'min_samples_leaf': 46, 'max_features': 0.6115905539817836, 'max_leaf_nodes': 13}. Best is trial 0 with value: 0.5702629077140556.\u001b[0m\n",
      "\u001b[32m[I 2022-10-10 03:54:15,899]\u001b[0m Trial 7 finished with value: 0.5708803157364682 and parameters: {'min_samples_split': 63, 'max_depth': 123, 'min_samples_leaf': 62, 'max_features': 0.9493732706631618, 'max_leaf_nodes': 140}. Best is trial 0 with value: 0.5702629077140556.\u001b[0m\n",
      "\u001b[32m[I 2022-10-10 03:56:16,036]\u001b[0m Trial 8 finished with value: 0.5707572227965892 and parameters: {'min_samples_split': 37, 'max_depth': 88, 'min_samples_leaf': 70, 'max_features': 0.15420292446634287, 'max_leaf_nodes': 137}. Best is trial 0 with value: 0.5702629077140556.\u001b[0m\n",
      "\u001b[32m[I 2022-10-10 04:01:24,786]\u001b[0m Trial 9 finished with value: 0.5710445907112002 and parameters: {'min_samples_split': 68, 'max_depth': 43, 'min_samples_leaf': 13, 'max_features': 0.38388551583176544, 'max_leaf_nodes': 79}. Best is trial 0 with value: 0.5702629077140556.\u001b[0m\n"
     ]
    },
    {
     "name": "stdout",
     "output_type": "stream",
     "text": [
      "最適パラメータ {'min_samples_split': 56, 'max_depth': 144, 'min_samples_leaf': 61, 'max_features': 0.5903948646972071, 'max_leaf_nodes': 90}\n",
      "スコア 0.5702629077140556\n"
     ]
    },
    {
     "name": "stderr",
     "output_type": "stream",
     "text": [
      "\u001b[32m[I 2022-10-10 04:05:20,238]\u001b[0m A new study created in memory with name: no-name-45262d88-3ac0-487b-b1c2-d022961108a9\u001b[0m\n"
     ]
    },
    {
     "name": "stdout",
     "output_type": "stream",
     "text": [
      "fold: fold_4\n"
     ]
    },
    {
     "name": "stderr",
     "output_type": "stream",
     "text": [
      "\u001b[32m[I 2022-10-10 04:13:06,946]\u001b[0m Trial 0 finished with value: 0.5520307317885959 and parameters: {'min_samples_split': 56, 'max_depth': 144, 'min_samples_leaf': 61, 'max_features': 0.5903948646972071, 'max_leaf_nodes': 90}. Best is trial 0 with value: 0.5520307317885959.\u001b[0m\n",
      "\u001b[32m[I 2022-10-10 04:24:51,378]\u001b[0m Trial 1 finished with value: 0.5532697746333031 and parameters: {'min_samples_split': 65, 'max_depth': 89, 'min_samples_leaf': 90, 'max_features': 0.9672964844509263, 'max_leaf_nodes': 83}. Best is trial 0 with value: 0.5520307317885959.\u001b[0m\n",
      "\u001b[32m[I 2022-10-10 04:34:06,541]\u001b[0m Trial 2 finished with value: 0.5590056667320659 and parameters: {'min_samples_split': 80, 'max_depth': 107, 'min_samples_leaf': 57, 'max_features': 0.933036974463395, 'max_leaf_nodes': 23}. Best is trial 0 with value: 0.5520307317885959.\u001b[0m\n",
      "\u001b[32m[I 2022-10-10 04:42:23,746]\u001b[0m Trial 3 finished with value: 0.5548165646218598 and parameters: {'min_samples_split': 10, 'max_depth': 6, 'min_samples_leaf': 84, 'max_features': 0.8003410758548655, 'max_leaf_nodes': 176}. Best is trial 0 with value: 0.5520307317885959.\u001b[0m\n",
      "\u001b[32m[I 2022-10-10 04:50:57,036]\u001b[0m Trial 4 finished with value: 0.5569616524120867 and parameters: {'min_samples_split': 98, 'max_depth': 161, 'min_samples_leaf': 47, 'max_features': 0.8024762586578099, 'max_leaf_nodes': 32}. Best is trial 0 with value: 0.5520307317885959.\u001b[0m\n",
      "\u001b[32m[I 2022-10-10 04:57:44,361]\u001b[0m Trial 5 finished with value: 0.5535129859797444 and parameters: {'min_samples_split': 65, 'max_depth': 30, 'min_samples_leaf': 95, 'max_features': 0.5696634895750645, 'max_leaf_nodes': 89}. Best is trial 0 with value: 0.5520307317885959.\u001b[0m\n",
      "\u001b[32m[I 2022-10-10 05:03:08,071]\u001b[0m Trial 6 finished with value: 0.5631282534530399 and parameters: {'min_samples_split': 28, 'max_depth': 156, 'min_samples_leaf': 46, 'max_features': 0.6115905539817836, 'max_leaf_nodes': 13}. Best is trial 0 with value: 0.5520307317885959.\u001b[0m\n",
      "\u001b[32m[I 2022-10-10 05:15:58,793]\u001b[0m Trial 7 finished with value: 0.5522807143435737 and parameters: {'min_samples_split': 63, 'max_depth': 123, 'min_samples_leaf': 62, 'max_features': 0.9493732706631618, 'max_leaf_nodes': 140}. Best is trial 0 with value: 0.5520307317885959.\u001b[0m\n",
      "\u001b[32m[I 2022-10-10 05:17:59,247]\u001b[0m Trial 8 finished with value: 0.5529741169962924 and parameters: {'min_samples_split': 37, 'max_depth': 88, 'min_samples_leaf': 70, 'max_features': 0.15420292446634287, 'max_leaf_nodes': 137}. Best is trial 0 with value: 0.5520307317885959.\u001b[0m\n",
      "\u001b[32m[I 2022-10-10 05:23:04,885]\u001b[0m Trial 9 finished with value: 0.5532281343723854 and parameters: {'min_samples_split': 68, 'max_depth': 43, 'min_samples_leaf': 13, 'max_features': 0.38388551583176544, 'max_leaf_nodes': 79}. Best is trial 0 with value: 0.5520307317885959.\u001b[0m\n"
     ]
    },
    {
     "name": "stdout",
     "output_type": "stream",
     "text": [
      "最適パラメータ {'min_samples_split': 56, 'max_depth': 144, 'min_samples_leaf': 61, 'max_features': 0.5903948646972071, 'max_leaf_nodes': 90}\n",
      "スコア 0.5520307317885959\n"
     ]
    },
    {
     "name": "stderr",
     "output_type": "stream",
     "text": [
      "\u001b[32m[I 2022-10-10 05:27:00,498]\u001b[0m A new study created in memory with name: no-name-06ae5983-c8bb-4381-aab3-11957d3fa9ce\u001b[0m\n"
     ]
    },
    {
     "name": "stdout",
     "output_type": "stream",
     "text": [
      "fold: fold_2\n"
     ]
    },
    {
     "name": "stderr",
     "output_type": "stream",
     "text": [
      "\u001b[32m[I 2022-10-10 05:34:55,353]\u001b[0m Trial 0 finished with value: 0.5821342047643232 and parameters: {'min_samples_split': 56, 'max_depth': 144, 'min_samples_leaf': 61, 'max_features': 0.5903948646972071, 'max_leaf_nodes': 90}. Best is trial 0 with value: 0.5821342047643232.\u001b[0m\n",
      "\u001b[32m[I 2022-10-10 05:46:43,383]\u001b[0m Trial 1 finished with value: 0.5824440671607337 and parameters: {'min_samples_split': 65, 'max_depth': 89, 'min_samples_leaf': 90, 'max_features': 0.9672964844509263, 'max_leaf_nodes': 83}. Best is trial 0 with value: 0.5821342047643232.\u001b[0m\n",
      "\u001b[32m[I 2022-10-10 05:55:53,388]\u001b[0m Trial 2 finished with value: 0.5843843181485414 and parameters: {'min_samples_split': 80, 'max_depth': 107, 'min_samples_leaf': 57, 'max_features': 0.933036974463395, 'max_leaf_nodes': 23}. Best is trial 0 with value: 0.5821342047643232.\u001b[0m\n",
      "\u001b[32m[I 2022-10-10 06:04:10,843]\u001b[0m Trial 3 finished with value: 0.5825731666445948 and parameters: {'min_samples_split': 10, 'max_depth': 6, 'min_samples_leaf': 84, 'max_features': 0.8003410758548655, 'max_leaf_nodes': 176}. Best is trial 0 with value: 0.5821342047643232.\u001b[0m\n",
      "\u001b[32m[I 2022-10-10 06:12:40,858]\u001b[0m Trial 4 finished with value: 0.5838057753128162 and parameters: {'min_samples_split': 98, 'max_depth': 161, 'min_samples_leaf': 47, 'max_features': 0.8024762586578099, 'max_leaf_nodes': 32}. Best is trial 0 with value: 0.5821342047643232.\u001b[0m\n",
      "\u001b[32m[I 2022-10-10 06:19:30,542]\u001b[0m Trial 5 finished with value: 0.5819806406108248 and parameters: {'min_samples_split': 65, 'max_depth': 30, 'min_samples_leaf': 95, 'max_features': 0.5696634895750645, 'max_leaf_nodes': 89}. Best is trial 5 with value: 0.5819806406108248.\u001b[0m\n",
      "\u001b[32m[I 2022-10-10 06:24:51,532]\u001b[0m Trial 6 finished with value: 0.5852555007027177 and parameters: {'min_samples_split': 28, 'max_depth': 156, 'min_samples_leaf': 46, 'max_features': 0.6115905539817836, 'max_leaf_nodes': 13}. Best is trial 5 with value: 0.5819806406108248.\u001b[0m\n",
      "\u001b[32m[I 2022-10-10 06:37:50,307]\u001b[0m Trial 7 finished with value: 0.5824088175817059 and parameters: {'min_samples_split': 63, 'max_depth': 123, 'min_samples_leaf': 62, 'max_features': 0.9493732706631618, 'max_leaf_nodes': 140}. Best is trial 5 with value: 0.5819806406108248.\u001b[0m\n",
      "\u001b[32m[I 2022-10-10 06:39:51,851]\u001b[0m Trial 8 finished with value: 0.5814857052732891 and parameters: {'min_samples_split': 37, 'max_depth': 88, 'min_samples_leaf': 70, 'max_features': 0.15420292446634287, 'max_leaf_nodes': 137}. Best is trial 8 with value: 0.5814857052732891.\u001b[0m\n",
      "\u001b[32m[I 2022-10-10 06:45:03,432]\u001b[0m Trial 9 finished with value: 0.5827115253618329 and parameters: {'min_samples_split': 68, 'max_depth': 43, 'min_samples_leaf': 13, 'max_features': 0.38388551583176544, 'max_leaf_nodes': 79}. Best is trial 8 with value: 0.5814857052732891.\u001b[0m\n"
     ]
    },
    {
     "name": "stdout",
     "output_type": "stream",
     "text": [
      "最適パラメータ {'min_samples_split': 37, 'max_depth': 88, 'min_samples_leaf': 70, 'max_features': 0.15420292446634287, 'max_leaf_nodes': 137}\n",
      "スコア 0.5814857052732891\n",
      "0.6609619193312888 0.006896035222634583\n"
     ]
    }
   ],
   "source": [
    "SEED = 0\n",
    "N_TRIAL = 10\n",
    "base_params = {\n",
    "    'random_state': SEED,\n",
    "    'n_estimators': 500,\n",
    "    'n_jobs': -1\n",
    "}\n",
    "y_pred_result = []\n",
    "log_loss_list = []\n",
    "for fold_name in train_valid_test_dict:\n",
    "    print(f'fold: {fold_name}')\n",
    "    model = RandomForestClassifier(**base_params)\n",
    "    objective = RFObjective(\n",
    "        model,\n",
    "        train_valid_test_dict[fold_name]['train']['X'],\n",
    "        train_valid_test_dict[fold_name]['train']['y'],\n",
    "    )\n",
    "    study = optuna.create_study(\n",
    "        direction='minimize',\n",
    "        sampler=optuna.samplers.TPESampler(seed=SEED)\n",
    "    )\n",
    "    study.optimize(objective, n_trials=N_TRIAL)\n",
    "    best_params = study.best_trial.params\n",
    "    best_score = study.best_trial.value\n",
    "    print(f'最適パラメータ {best_params}\\nスコア {best_score}')\n",
    "    model = RandomForestClassifier(**{**base_params, **best_params})\n",
    "    model.fit(\n",
    "        train_valid_test_dict[fold_name]['train']['X'],\n",
    "        train_valid_test_dict[fold_name]['train']['y']\n",
    "    )\n",
    "    y_val_pred = model.predict_proba(train_valid_test_dict[fold_name]['valid']['X'])[:, 1]\n",
    "    y_pred_proba = model.predict_proba(train_valid_test_dict[fold_name]['test']['X'])[:, 1]\n",
    "    loss = log_loss(train_valid_test_dict[fold_name]['valid']['y'], y_val_pred)\n",
    "    log_loss_list.append(loss)\n",
    "    y_pred_result.append(y_pred_proba)\n",
    "y_pred_result = np.mean(y_pred_result, axis=0)\n",
    "print(np.mean(log_loss_list), np.std(log_loss_list))\n",
    "to_submission('../dataset/csv/sample_submission.csv', y_pred_result, '../results/turned_RFC_with_features.csv')"
   ]
  },
  {
   "cell_type": "code",
   "execution_count": null,
   "id": "8dd53627-98a5-48ef-9e05-10fa110b352d",
   "metadata": {},
   "outputs": [],
   "source": []
  }
 ],
 "metadata": {
  "kernelspec": {
   "display_name": "Python 3 (ipykernel)",
   "language": "python",
   "name": "python3"
  },
  "language_info": {
   "codemirror_mode": {
    "name": "ipython",
    "version": 3
   },
   "file_extension": ".py",
   "mimetype": "text/x-python",
   "name": "python",
   "nbconvert_exporter": "python",
   "pygments_lexer": "ipython3",
   "version": "3.7.13"
  }
 },
 "nbformat": 4,
 "nbformat_minor": 5
}
